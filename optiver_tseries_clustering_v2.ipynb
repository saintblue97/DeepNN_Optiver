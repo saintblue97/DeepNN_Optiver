{
  "metadata": {
    "colab": {
      "provenance": [],
      "include_colab_link": true
    },
    "kernelspec": {
      "name": "python3",
      "display_name": "Python 3",
      "language": "python"
    },
    "language_info": {
      "codemirror_mode": {
        "name": "ipython",
        "version": 3
      },
      "file_extension": ".py",
      "mimetype": "text/x-python",
      "name": "python",
      "nbconvert_exporter": "python",
      "pygments_lexer": "ipython3",
      "version": "3.10.12"
    },
    "papermill": {
      "default_parameters": {},
      "duration": 43.098851,
      "end_time": "2023-10-09T02:39:35.544571",
      "environment_variables": {},
      "exception": null,
      "input_path": "__notebook__.ipynb",
      "output_path": "__notebook__.ipynb",
      "parameters": {},
      "start_time": "2023-10-09T02:38:52.445720",
      "version": "2.4.0"
    },
    "kaggle": {
      "accelerator": "none",
      "dataSources": [
        {
          "sourceId": 57891,
          "databundleVersionId": 7056235,
          "sourceType": "competition"
        }
      ],
      "dockerImageVersionId": 30587,
      "isInternetEnabled": false,
      "language": "python",
      "sourceType": "notebook",
      "isGpuEnabled": false
    }
  },
  "nbformat_minor": 5,
  "nbformat": 4,
  "cells": [
    {
      "cell_type": "markdown",
      "metadata": {
        "id": "view-in-github",
        "colab_type": "text"
      },
      "source": [
        "<a href=\"https://colab.research.google.com/github/saintblue97/DeepNN_Optiver/blob/main/optiver_tseries_clustering_v2.ipynb\" target=\"_parent\"><img src=\"https://colab.research.google.com/assets/colab-badge.svg\" alt=\"Open In Colab\"/></a>"
      ]
    },
    {
      "cell_type": "code",
      "source": [
        "# Comment this out if running on Kaggle\n",
        "from google.colab import drive; drive.mount('/content/drive')"
      ],
      "metadata": {
        "id": "IjSGKgCB-GFu",
        "execution": {
          "iopub.status.busy": "2023-11-30T00:22:34.344049Z",
          "iopub.execute_input": "2023-11-30T00:22:34.344464Z",
          "iopub.status.idle": "2023-11-30T00:22:34.353176Z",
          "shell.execute_reply.started": "2023-11-30T00:22:34.344428Z",
          "shell.execute_reply": "2023-11-30T00:22:34.352079Z"
        },
        "trusted": true
      },
      "execution_count": null,
      "outputs": [],
      "id": "IjSGKgCB-GFu"
    },
    {
      "cell_type": "code",
      "source": [
        "# Comment this cell out if running on Kaggle\n",
        "\n",
        "!pip install --upgrade --force-reinstall --no-deps kaggle > log  # upgrade kaggle package (to avoid a warning)\n",
        "!mkdir -p ~/.kaggle                                           # .kaggle folder must contain kaggle.json for kaggle executable to properly authenticate you to Kaggle.com\n",
        "!cp /content/drive/MyDrive/kaggle.json ~/.kaggle/kaggle.json >log  # First, download kaggle.json from kaggle.com (in Account page) and place it in the root of mounted Google Drive\n",
        "#!cp kaggle.json ~/.kaggle/kaggle.json > log                   # Alternative location of kaggle.json (without a connection to Google Drive)\n",
        "!chmod 600 ~/.kaggle/kaggle.json                              # give only the owner full read/write access to kaggle.json\n",
        "!kaggle config set -n competition -v optiver-trading-at-the-close        # set the competition context for the next few kaggle API calls. !kaggle config view - shows current settings\n",
        "!kaggle competitions download >> log                          # download competition dataset as a zip file\n",
        "!unzip -o *.zip >> log                                        # Kaggle dataset is copied as a single file and needs to be unzipped.\n",
        "# !kaggle competitions leaderboard --show                       # print public leaderboard"
      ],
      "metadata": {
        "id": "sZ8cRq3I-HhN",
        "execution": {
          "iopub.status.busy": "2023-11-30T00:22:34.354993Z",
          "iopub.execute_input": "2023-11-30T00:22:34.355578Z",
          "iopub.status.idle": "2023-11-30T00:22:34.364275Z",
          "shell.execute_reply.started": "2023-11-30T00:22:34.355549Z",
          "shell.execute_reply": "2023-11-30T00:22:34.363401Z"
        },
        "trusted": true
      },
      "execution_count": null,
      "outputs": [],
      "id": "sZ8cRq3I-HhN"
    },
    {
      "cell_type": "code",
      "source": [
        "%%time\n",
        "%%capture\n",
        "%reset -f\n",
        "import numpy as np, pandas as pd, time, matplotlib.pyplot as plt, seaborn as sns, os, tqdm, re, sys, cv2, skimage, xgboost, lightgbm as lgb, librosa\n",
        "\n",
        "ToCSV = lambda df, fname: df.round(2).to_csv(f'{fname}.csv', index_label='id') # rounds values to 2 decimals\n",
        "\n",
        "class Timer():\n",
        "    def __init__(self, lim:'RunTimeLimit'=14400): self.t0, self.lim, _ = time.time(), lim, print(f'⏳ started. You have {lim} sec. Good luck!')\n",
        "    def ShowTime(self):\n",
        "        msg = f'Runtime is {time.time()-self.t0:.0f} sec'\n",
        "        print(f'\\033[91m\\033[1m' + msg + f' > {self.lim} sec limit!!!\\033[0m' if (time.time()-self.t0-1) > self.lim else msg)\n",
        "\n",
        "np.set_printoptions(linewidth=100, precision=2, edgeitems=2, suppress=True)\n",
        "pd.set_option('display.max_columns', 20, 'display.precision', 2, 'display.max_rows', 4)"
      ],
      "metadata": {
        "colab": {
          "base_uri": "https://localhost:8080/"
        },
        "id": "757da0d5",
        "outputId": "4fd5ad6c-8522-4a76-9f42-7e6afdc8af08",
        "execution": {
          "iopub.status.busy": "2023-11-30T00:22:34.365844Z",
          "iopub.execute_input": "2023-11-30T00:22:34.366428Z",
          "iopub.status.idle": "2023-11-30T00:22:37.368290Z",
          "shell.execute_reply.started": "2023-11-30T00:22:34.366399Z",
          "shell.execute_reply": "2023-11-30T00:22:37.367181Z"
        },
        "trusted": true
      },
      "execution_count": null,
      "outputs": [
        {
          "name": "stdout",
          "text": "CPU times: user 2.21 s, sys: 469 ms, total: 2.68 s\nWall time: 2.99 s\n",
          "output_type": "stream"
        }
      ],
      "id": "757da0d5"
    },
    {
      "cell_type": "code",
      "source": [
        "def is_google_colab():\n",
        "    \"\"\"Check if the environment is Google Colab.\n",
        "\n",
        "    Returns:\n",
        "        bool: True if in Google Colab, False otherwise.\n",
        "    \"\"\"\n",
        "    try:\n",
        "        import google.colab\n",
        "        return True\n",
        "    except ImportError:\n",
        "        return False\n",
        "\n",
        "if is_google_colab():\n",
        "    file_path = ''\n",
        "else:\n",
        "    file_path = '/kaggle/input/optiver-trading-at-the-close/'"
      ],
      "metadata": {
        "id": "Rh5BZLrB-Lpx",
        "execution": {
          "iopub.status.busy": "2023-11-30T00:22:37.371541Z",
          "iopub.execute_input": "2023-11-30T00:22:37.371969Z",
          "iopub.status.idle": "2023-11-30T00:22:37.380474Z",
          "shell.execute_reply.started": "2023-11-30T00:22:37.371931Z",
          "shell.execute_reply": "2023-11-30T00:22:37.378408Z"
        },
        "trusted": true
      },
      "execution_count": null,
      "outputs": [],
      "id": "Rh5BZLrB-Lpx"
    },
    {
      "cell_type": "code",
      "source": [
        "from sklearn.preprocessing import PolynomialFeatures, StandardScaler, MinMaxScaler, RobustScaler,OneHotEncoder\n",
        "from sklearn.model_selection import cross_val_score, cross_val_predict, StratifiedKFold, KFold, train_test_split, GridSearchCV\n",
        "from sklearn.pipeline import Pipeline\n",
        "from sklearn.impute import SimpleImputer\n",
        "from sklearn.linear_model import LinearRegression\n",
        "from sklearn.base import BaseEstimator, TransformerMixin\n",
        "from sklearn.metrics import mean_absolute_error\n",
        "from sklearn.linear_model import ARDRegression, BayesianRidge, LinearRegression, Ridge, Lars\n",
        "from catboost import CatBoostRegressor\n",
        "from lightgbm import LGBMRegressor\n",
        "from sklearn.cluster import KMeans\n",
        "from sklearn.decomposition import PCA\n",
        "from itertools import combinations\n",
        "import gc\n",
        "import os\n",
        "import time\n",
        "from tqdm import tqdm\n",
        "from operator import itemgetter"
      ],
      "metadata": {
        "id": "sQlSOyzj4NSG",
        "execution": {
          "iopub.status.busy": "2023-11-30T00:22:37.381967Z",
          "iopub.execute_input": "2023-11-30T00:22:37.382367Z",
          "iopub.status.idle": "2023-11-30T00:22:37.835050Z",
          "shell.execute_reply.started": "2023-11-30T00:22:37.382325Z",
          "shell.execute_reply": "2023-11-30T00:22:37.834024Z"
        },
        "trusted": true
      },
      "execution_count": null,
      "outputs": [],
      "id": "sQlSOyzj4NSG"
    },
    {
      "cell_type": "code",
      "source": [
        "import multiprocessing as mp\n",
        "from multiprocessing.pool import ThreadPool"
      ],
      "metadata": {
        "id": "xc7TDGQzg9ge",
        "execution": {
          "iopub.status.busy": "2023-11-30T00:22:37.836471Z",
          "iopub.execute_input": "2023-11-30T00:22:37.837387Z",
          "iopub.status.idle": "2023-11-30T00:22:37.841700Z",
          "shell.execute_reply.started": "2023-11-30T00:22:37.837324Z",
          "shell.execute_reply": "2023-11-30T00:22:37.840716Z"
        },
        "trusted": true
      },
      "execution_count": null,
      "outputs": [],
      "id": "xc7TDGQzg9ge"
    },
    {
      "cell_type": "code",
      "source": [
        "# Number of Time Series, each with 55 time slots (To use all data set it to -1)\n",
        "SAMPLE_SIZE = 50000\n",
        "COMPUTE_TRAINING_METRICS = True   # Compute Training MAE error\n",
        "UNIT_TESTS = False"
      ],
      "metadata": {
        "id": "sDRQqc1qiWBQ",
        "execution": {
          "iopub.status.busy": "2023-11-30T00:22:37.843541Z",
          "iopub.execute_input": "2023-11-30T00:22:37.844260Z",
          "iopub.status.idle": "2023-11-30T00:22:37.853008Z",
          "shell.execute_reply.started": "2023-11-30T00:22:37.844214Z",
          "shell.execute_reply": "2023-11-30T00:22:37.852046Z"
        },
        "trusted": true
      },
      "execution_count": null,
      "outputs": [],
      "id": "sDRQqc1qiWBQ"
    },
    {
      "cell_type": "code",
      "source": [
        "sample_submission_path = file_path + 'example_test_files/sample_submission.csv'\n",
        "\n",
        "sample_submission = pd.read_csv(sample_submission_path); sample_submission"
      ],
      "metadata": {
        "colab": {
          "base_uri": "https://localhost:8080/",
          "height": 235
        },
        "id": "527c24bc",
        "outputId": "4b4fc7a6-9750-4245-f6dd-3547189282cd",
        "execution": {
          "iopub.status.busy": "2023-11-30T00:22:37.854274Z",
          "iopub.execute_input": "2023-11-30T00:22:37.854652Z",
          "iopub.status.idle": "2023-11-30T00:22:37.929981Z",
          "shell.execute_reply.started": "2023-11-30T00:22:37.854624Z",
          "shell.execute_reply": "2023-11-30T00:22:37.928942Z"
        },
        "trusted": true
      },
      "execution_count": null,
      "outputs": [
        {
          "execution_count": 10,
          "output_type": "execute_result",
          "data": {
            "text/plain": "       time_id       row_id  target\n0        26290      478_0_0       0\n1        26290      478_0_1       0\n...        ...          ...     ...\n32998    26454  480_540_198       0\n32999    26454  480_540_199       0\n\n[33000 rows x 3 columns]",
            "text/html": "<div>\n<style scoped>\n    .dataframe tbody tr th:only-of-type {\n        vertical-align: middle;\n    }\n\n    .dataframe tbody tr th {\n        vertical-align: top;\n    }\n\n    .dataframe thead th {\n        text-align: right;\n    }\n</style>\n<table border=\"1\" class=\"dataframe\">\n  <thead>\n    <tr style=\"text-align: right;\">\n      <th></th>\n      <th>time_id</th>\n      <th>row_id</th>\n      <th>target</th>\n    </tr>\n  </thead>\n  <tbody>\n    <tr>\n      <th>0</th>\n      <td>26290</td>\n      <td>478_0_0</td>\n      <td>0</td>\n    </tr>\n    <tr>\n      <th>1</th>\n      <td>26290</td>\n      <td>478_0_1</td>\n      <td>0</td>\n    </tr>\n    <tr>\n      <th>...</th>\n      <td>...</td>\n      <td>...</td>\n      <td>...</td>\n    </tr>\n    <tr>\n      <th>32998</th>\n      <td>26454</td>\n      <td>480_540_198</td>\n      <td>0</td>\n    </tr>\n    <tr>\n      <th>32999</th>\n      <td>26454</td>\n      <td>480_540_199</td>\n      <td>0</td>\n    </tr>\n  </tbody>\n</table>\n<p>33000 rows × 3 columns</p>\n</div>"
          },
          "metadata": {}
        }
      ],
      "id": "527c24bc"
    },
    {
      "cell_type": "markdown",
      "source": [
        "# Load Data"
      ],
      "metadata": {
        "id": "171f3e9d"
      },
      "id": "171f3e9d"
    },
    {
      "cell_type": "code",
      "source": [
        "tmr = Timer()"
      ],
      "metadata": {
        "colab": {
          "base_uri": "https://localhost:8080/"
        },
        "id": "X9uf-vp03YQ1",
        "outputId": "ca67118f-3ef7-4cc8-d737-84b411b73a35",
        "execution": {
          "iopub.status.busy": "2023-11-30T00:22:37.932306Z",
          "iopub.execute_input": "2023-11-30T00:22:37.933378Z",
          "iopub.status.idle": "2023-11-30T00:22:37.937659Z",
          "shell.execute_reply.started": "2023-11-30T00:22:37.933319Z",
          "shell.execute_reply": "2023-11-30T00:22:37.936931Z"
        },
        "trusted": true
      },
      "execution_count": null,
      "outputs": [
        {
          "name": "stdout",
          "text": "⏳ started. You have 14400 sec. Good luck!\n",
          "output_type": "stream"
        }
      ],
      "id": "X9uf-vp03YQ1"
    },
    {
      "cell_type": "code",
      "source": [
        "train_data_path = file_path + 'train.csv'\n",
        "df = pd.read_csv(train_data_path);\n",
        "df = df.dropna(subset=['target']); df"
      ],
      "metadata": {
        "colab": {
          "base_uri": "https://localhost:8080/",
          "height": 255
        },
        "id": "e4068237",
        "outputId": "d39382ee-f61f-4d95-f299-973a296f1f35",
        "execution": {
          "iopub.status.busy": "2023-11-30T00:22:37.941201Z",
          "iopub.execute_input": "2023-11-30T00:22:37.941527Z",
          "iopub.status.idle": "2023-11-30T00:22:58.685471Z",
          "shell.execute_reply.started": "2023-11-30T00:22:37.941499Z",
          "shell.execute_reply": "2023-11-30T00:22:58.684394Z"
        },
        "trusted": true
      },
      "execution_count": null,
      "outputs": [
        {
          "execution_count": 12,
          "output_type": "execute_result",
          "data": {
            "text/plain": "         stock_id  date_id  seconds_in_bucket  imbalance_size  \\\n0               0        0                  0        3.18e+06   \n1               1        0                  0        1.67e+05   \n...           ...      ...                ...             ...   \n5237978       198      480                540        1.00e+06   \n5237979       199      480                540        1.88e+06   \n\n         imbalance_buy_sell_flag  reference_price  matched_size  far_price  \\\n0                              1              1.0      1.34e+07        NaN   \n1                             -1              1.0      1.64e+06        NaN   \n...                          ...              ...           ...        ...   \n5237978                        1              1.0      9.48e+07        1.0   \n5237979                       -1              1.0      2.41e+07        1.0   \n\n         near_price  bid_price   bid_size  ask_price   ask_size  wap  target  \\\n0               NaN        1.0   60651.50        1.0    8493.03  1.0   -3.03   \n1               NaN        1.0    3233.04        1.0   20605.09  1.0   -5.52   \n...             ...        ...        ...        ...        ...  ...     ...   \n5237978         1.0        1.0  125631.72        1.0  669893.00  1.0   -1.54   \n5237979         1.0        1.0  250081.44        1.0  300167.56  1.0   -6.53   \n\n         time_id       row_id  \n0              0        0_0_0  \n1              0        0_0_1  \n...          ...          ...  \n5237978    26454  480_540_198  \n5237979    26454  480_540_199  \n\n[5237892 rows x 17 columns]",
            "text/html": "<div>\n<style scoped>\n    .dataframe tbody tr th:only-of-type {\n        vertical-align: middle;\n    }\n\n    .dataframe tbody tr th {\n        vertical-align: top;\n    }\n\n    .dataframe thead th {\n        text-align: right;\n    }\n</style>\n<table border=\"1\" class=\"dataframe\">\n  <thead>\n    <tr style=\"text-align: right;\">\n      <th></th>\n      <th>stock_id</th>\n      <th>date_id</th>\n      <th>seconds_in_bucket</th>\n      <th>imbalance_size</th>\n      <th>imbalance_buy_sell_flag</th>\n      <th>reference_price</th>\n      <th>matched_size</th>\n      <th>far_price</th>\n      <th>near_price</th>\n      <th>bid_price</th>\n      <th>bid_size</th>\n      <th>ask_price</th>\n      <th>ask_size</th>\n      <th>wap</th>\n      <th>target</th>\n      <th>time_id</th>\n      <th>row_id</th>\n    </tr>\n  </thead>\n  <tbody>\n    <tr>\n      <th>0</th>\n      <td>0</td>\n      <td>0</td>\n      <td>0</td>\n      <td>3.18e+06</td>\n      <td>1</td>\n      <td>1.0</td>\n      <td>1.34e+07</td>\n      <td>NaN</td>\n      <td>NaN</td>\n      <td>1.0</td>\n      <td>60651.50</td>\n      <td>1.0</td>\n      <td>8493.03</td>\n      <td>1.0</td>\n      <td>-3.03</td>\n      <td>0</td>\n      <td>0_0_0</td>\n    </tr>\n    <tr>\n      <th>1</th>\n      <td>1</td>\n      <td>0</td>\n      <td>0</td>\n      <td>1.67e+05</td>\n      <td>-1</td>\n      <td>1.0</td>\n      <td>1.64e+06</td>\n      <td>NaN</td>\n      <td>NaN</td>\n      <td>1.0</td>\n      <td>3233.04</td>\n      <td>1.0</td>\n      <td>20605.09</td>\n      <td>1.0</td>\n      <td>-5.52</td>\n      <td>0</td>\n      <td>0_0_1</td>\n    </tr>\n    <tr>\n      <th>...</th>\n      <td>...</td>\n      <td>...</td>\n      <td>...</td>\n      <td>...</td>\n      <td>...</td>\n      <td>...</td>\n      <td>...</td>\n      <td>...</td>\n      <td>...</td>\n      <td>...</td>\n      <td>...</td>\n      <td>...</td>\n      <td>...</td>\n      <td>...</td>\n      <td>...</td>\n      <td>...</td>\n      <td>...</td>\n    </tr>\n    <tr>\n      <th>5237978</th>\n      <td>198</td>\n      <td>480</td>\n      <td>540</td>\n      <td>1.00e+06</td>\n      <td>1</td>\n      <td>1.0</td>\n      <td>9.48e+07</td>\n      <td>1.0</td>\n      <td>1.0</td>\n      <td>1.0</td>\n      <td>125631.72</td>\n      <td>1.0</td>\n      <td>669893.00</td>\n      <td>1.0</td>\n      <td>-1.54</td>\n      <td>26454</td>\n      <td>480_540_198</td>\n    </tr>\n    <tr>\n      <th>5237979</th>\n      <td>199</td>\n      <td>480</td>\n      <td>540</td>\n      <td>1.88e+06</td>\n      <td>-1</td>\n      <td>1.0</td>\n      <td>2.41e+07</td>\n      <td>1.0</td>\n      <td>1.0</td>\n      <td>1.0</td>\n      <td>250081.44</td>\n      <td>1.0</td>\n      <td>300167.56</td>\n      <td>1.0</td>\n      <td>-6.53</td>\n      <td>26454</td>\n      <td>480_540_199</td>\n    </tr>\n  </tbody>\n</table>\n<p>5237892 rows × 17 columns</p>\n</div>"
          },
          "metadata": {}
        }
      ],
      "id": "e4068237"
    },
    {
      "cell_type": "code",
      "source": [
        "test_data_path = file_path + 'example_test_files/test.csv'\n",
        "df_test  = pd.read_csv(test_data_path); df_test"
      ],
      "metadata": {
        "colab": {
          "base_uri": "https://localhost:8080/",
          "height": 255
        },
        "id": "JlZaNBeK8lvD",
        "outputId": "4e3ac36b-770e-4470-b7ef-84f6495f23ab",
        "execution": {
          "iopub.status.busy": "2023-11-30T00:22:58.686786Z",
          "iopub.execute_input": "2023-11-30T00:22:58.687106Z",
          "iopub.status.idle": "2023-11-30T00:22:58.852439Z",
          "shell.execute_reply.started": "2023-11-30T00:22:58.687079Z",
          "shell.execute_reply": "2023-11-30T00:22:58.851392Z"
        },
        "trusted": true
      },
      "execution_count": null,
      "outputs": [
        {
          "execution_count": 13,
          "output_type": "execute_result",
          "data": {
            "text/plain": "       stock_id  date_id  seconds_in_bucket  imbalance_size  \\\n0             0      478                  0        3.75e+06   \n1             1      478                  0        9.86e+05   \n...         ...      ...                ...             ...   \n32998       198      480                540        1.00e+06   \n32999       199      480                540        1.88e+06   \n\n       imbalance_buy_sell_flag  reference_price  matched_size  far_price  \\\n0                           -1              1.0      1.15e+07        NaN   \n1                           -1              1.0      3.85e+06        NaN   \n...                        ...              ...           ...        ...   \n32998                        1              1.0      9.48e+07        1.0   \n32999                       -1              1.0      2.41e+07        1.0   \n\n       near_price  bid_price   bid_size  ask_price   ask_size  wap  time_id  \\\n0             NaN        1.0   22940.00        1.0    9177.60  1.0    26290   \n1             NaN        1.0    1967.90        1.0   19692.00  1.0    26290   \n...           ...        ...        ...        ...        ...  ...      ...   \n32998         1.0        1.0  125631.72        1.0  669893.00  1.0    26454   \n32999         1.0        1.0  250081.44        1.0  300167.56  1.0    26454   \n\n            row_id  currently_scored  \n0          478_0_0             False  \n1          478_0_1             False  \n...            ...               ...  \n32998  480_540_198             False  \n32999  480_540_199             False  \n\n[33000 rows x 17 columns]",
            "text/html": "<div>\n<style scoped>\n    .dataframe tbody tr th:only-of-type {\n        vertical-align: middle;\n    }\n\n    .dataframe tbody tr th {\n        vertical-align: top;\n    }\n\n    .dataframe thead th {\n        text-align: right;\n    }\n</style>\n<table border=\"1\" class=\"dataframe\">\n  <thead>\n    <tr style=\"text-align: right;\">\n      <th></th>\n      <th>stock_id</th>\n      <th>date_id</th>\n      <th>seconds_in_bucket</th>\n      <th>imbalance_size</th>\n      <th>imbalance_buy_sell_flag</th>\n      <th>reference_price</th>\n      <th>matched_size</th>\n      <th>far_price</th>\n      <th>near_price</th>\n      <th>bid_price</th>\n      <th>bid_size</th>\n      <th>ask_price</th>\n      <th>ask_size</th>\n      <th>wap</th>\n      <th>time_id</th>\n      <th>row_id</th>\n      <th>currently_scored</th>\n    </tr>\n  </thead>\n  <tbody>\n    <tr>\n      <th>0</th>\n      <td>0</td>\n      <td>478</td>\n      <td>0</td>\n      <td>3.75e+06</td>\n      <td>-1</td>\n      <td>1.0</td>\n      <td>1.15e+07</td>\n      <td>NaN</td>\n      <td>NaN</td>\n      <td>1.0</td>\n      <td>22940.00</td>\n      <td>1.0</td>\n      <td>9177.60</td>\n      <td>1.0</td>\n      <td>26290</td>\n      <td>478_0_0</td>\n      <td>False</td>\n    </tr>\n    <tr>\n      <th>1</th>\n      <td>1</td>\n      <td>478</td>\n      <td>0</td>\n      <td>9.86e+05</td>\n      <td>-1</td>\n      <td>1.0</td>\n      <td>3.85e+06</td>\n      <td>NaN</td>\n      <td>NaN</td>\n      <td>1.0</td>\n      <td>1967.90</td>\n      <td>1.0</td>\n      <td>19692.00</td>\n      <td>1.0</td>\n      <td>26290</td>\n      <td>478_0_1</td>\n      <td>False</td>\n    </tr>\n    <tr>\n      <th>...</th>\n      <td>...</td>\n      <td>...</td>\n      <td>...</td>\n      <td>...</td>\n      <td>...</td>\n      <td>...</td>\n      <td>...</td>\n      <td>...</td>\n      <td>...</td>\n      <td>...</td>\n      <td>...</td>\n      <td>...</td>\n      <td>...</td>\n      <td>...</td>\n      <td>...</td>\n      <td>...</td>\n      <td>...</td>\n    </tr>\n    <tr>\n      <th>32998</th>\n      <td>198</td>\n      <td>480</td>\n      <td>540</td>\n      <td>1.00e+06</td>\n      <td>1</td>\n      <td>1.0</td>\n      <td>9.48e+07</td>\n      <td>1.0</td>\n      <td>1.0</td>\n      <td>1.0</td>\n      <td>125631.72</td>\n      <td>1.0</td>\n      <td>669893.00</td>\n      <td>1.0</td>\n      <td>26454</td>\n      <td>480_540_198</td>\n      <td>False</td>\n    </tr>\n    <tr>\n      <th>32999</th>\n      <td>199</td>\n      <td>480</td>\n      <td>540</td>\n      <td>1.88e+06</td>\n      <td>-1</td>\n      <td>1.0</td>\n      <td>2.41e+07</td>\n      <td>1.0</td>\n      <td>1.0</td>\n      <td>1.0</td>\n      <td>250081.44</td>\n      <td>1.0</td>\n      <td>300167.56</td>\n      <td>1.0</td>\n      <td>26454</td>\n      <td>480_540_199</td>\n      <td>False</td>\n    </tr>\n  </tbody>\n</table>\n<p>33000 rows × 17 columns</p>\n</div>"
          },
          "metadata": {}
        }
      ],
      "id": "JlZaNBeK8lvD"
    },
    {
      "cell_type": "code",
      "source": [
        "print('Shape of training data =', df.shape)\n",
        "print('Shape of testing data  =', df_test.shape)"
      ],
      "metadata": {
        "colab": {
          "base_uri": "https://localhost:8080/"
        },
        "id": "b40f79d1",
        "outputId": "8bc0b39e-4ed9-49d4-eeb4-64137ef42af1",
        "execution": {
          "iopub.status.busy": "2023-11-30T00:22:58.853825Z",
          "iopub.execute_input": "2023-11-30T00:22:58.854357Z",
          "iopub.status.idle": "2023-11-30T00:22:58.859978Z",
          "shell.execute_reply.started": "2023-11-30T00:22:58.854312Z",
          "shell.execute_reply": "2023-11-30T00:22:58.858985Z"
        },
        "trusted": true
      },
      "execution_count": null,
      "outputs": [
        {
          "name": "stdout",
          "text": "Shape of training data = (5237892, 17)\nShape of testing data  = (33000, 17)\n",
          "output_type": "stream"
        }
      ],
      "id": "b40f79d1"
    },
    {
      "cell_type": "markdown",
      "source": [
        "# Preprocessing"
      ],
      "metadata": {
        "id": "gJQj7vIu4OLz"
      },
      "id": "gJQj7vIu4OLz"
    },
    {
      "cell_type": "code",
      "source": [
        "class DropColumns(BaseEstimator, TransformerMixin):\n",
        "    def __init__(self, columns_to_drop):\n",
        "        self.columns_to_drop = columns_to_drop\n",
        "\n",
        "    def fit(self, X, y=None):\n",
        "        return self\n",
        "\n",
        "    def transform(self, X):\n",
        "        # Only drop columns that exist in X\n",
        "        columns_to_drop = [col for col in self.columns_to_drop if col in X.columns]\n",
        "        return X.drop(columns_to_drop, axis=1)\n",
        "\n",
        "class DataFrameSimpleImputer(BaseEstimator, TransformerMixin):\n",
        "    def __init__(self, strategy='mean', fill_value=None):\n",
        "        self.strategy_ = strategy\n",
        "        self.fill_value_ = fill_value\n",
        "\n",
        "    def fit(self, X, y=None):\n",
        "        if self.strategy_ == 'mean':\n",
        "            self.fill_values_ = X.mean()\n",
        "        elif self.strategy_ == 'median':\n",
        "            self.fill_values_ = X.median()\n",
        "        elif self.strategy_ == 'constant':\n",
        "            if self.fill_value_ is None:\n",
        "                raise ValueError(\"fill_value must be provided for strategy='constant'\")\n",
        "            self.fill_values_ = pd.Series(self.fill_value_, index=X.columns)\n",
        "        else:\n",
        "            raise ValueError(f\"Unknown strategy type: {self.strategy_}\")\n",
        "\n",
        "        return self\n",
        "\n",
        "    def transform(self, X, y=None):\n",
        "        return X.fillna(self.fill_values_)\n",
        "\n",
        "class MovingAverageTransformer(BaseEstimator, TransformerMixin):\n",
        "    def __init__(self, window_size, columns):\n",
        "        self.window_size = window_size  # The size of the window for moving average\n",
        "        self.columns = columns          # The columns on which to apply moving average\n",
        "\n",
        "    def fit(self, X, y=None):\n",
        "        return self  # No fitting process, so just return self\n",
        "\n",
        "    def calculate_moving_average(self, series):\n",
        "        return series.rolling(window=self.window_size).mean()\n",
        "\n",
        "    def transform(self, X):\n",
        "        X_new = X.copy()\n",
        "\n",
        "        for col in self.columns:\n",
        "            X_new[f'{col}_sma'] = X_new.groupby('stock_id')[col].transform(self.calculate_moving_average)\n",
        "\n",
        "            X_new[f'{col}_sma'].fillna(X_new[col], inplace=True)\n",
        "\n",
        "\n",
        "        return X_new\n"
      ],
      "metadata": {
        "id": "L8BiqdV_4VqH",
        "execution": {
          "iopub.status.busy": "2023-11-30T00:22:58.861705Z",
          "iopub.execute_input": "2023-11-30T00:22:58.862112Z",
          "iopub.status.idle": "2023-11-30T00:22:58.878350Z",
          "shell.execute_reply.started": "2023-11-30T00:22:58.862066Z",
          "shell.execute_reply": "2023-11-30T00:22:58.877600Z"
        },
        "trusted": true
      },
      "execution_count": null,
      "outputs": [],
      "id": "L8BiqdV_4VqH"
    },
    {
      "cell_type": "code",
      "source": [
        "# generate imbalance features\n",
        "import numpy as np\n",
        "import pandas as pd\n",
        "from itertools import combinations\n",
        "\n",
        "def imbalance_features(df):\n",
        "    df = df.copy()\n",
        "    prices = [\"reference_price\", \"ask_price\", \"bid_price\", \"wap\"]\n",
        "    sizes = [\"matched_size\", \"bid_size\", \"ask_size\"]\n",
        "\n",
        "    df.loc[:, \"volume\"] = df[\"ask_size\"] + df[\"bid_size\"]\n",
        "    df.loc[:, \"mid_price\"] = (df[\"ask_price\"] + df[\"bid_price\"]) / 2\n",
        "    df.loc[:, \"liquidity_imbalance\"] = (df[\"bid_size\"] - df[\"ask_size\"]) / (df[\"bid_size\"] + df[\"ask_size\"])\n",
        "\n",
        "    for c in combinations(prices, 2):\n",
        "        df.loc[:, f\"{c[0]}_{c[1]}_imb\"] = (df[c[0]] - df[c[1]]) / (df[c[0]] + df[c[1]])\n",
        "\n",
        "    df.loc[:, \"stock_weights\"] = df[\"stock_id\"].map(weights_dict)\n",
        "    df.loc[:, \"weighted_wap\"] = df[\"stock_weights\"] * df[\"wap\"]\n",
        "    df.loc[:, \"price_spread\"] = df[\"ask_price\"] - df[\"bid_price\"]\n",
        "    df.loc[:, \"spread_depth_ratio\"] = df[\"price_spread\"] / (df['bid_size'] + df['ask_size'])\n",
        "\n",
        "    df.loc[:, f\"all_prices_mean\"] = df[prices].mean(axis=1)\n",
        "    df.loc[:, f\"all_prices_std\"] = df[prices].std(axis=1)\n",
        "    df.loc[:, f\"all_sizes_mean\"] = df[sizes].mean(axis=1)\n",
        "    df.loc[:, f\"all_sizes_std\"] = df[sizes].std(axis=1)\n",
        "\n",
        "    return df\n",
        "\n",
        "\n",
        "\n",
        "def other_features(df):\n",
        "    df = df.copy()\n",
        "    df.loc[:, \"dow\"] = df[\"date_id\"] % 5\n",
        "    df.loc[:, \"dom\"] = df[\"date_id\"] % 20\n",
        "    df.loc[:, \"seconds\"] = df[\"seconds_in_bucket\"] % 60\n",
        "    df.loc[:, \"minute\"] = df[\"seconds_in_bucket\"] // 60\n",
        "\n",
        "    for key, value in global_stock_id_feats.items():\n",
        "        df.loc[:, f\"global_{key}\"] = df[\"stock_id\"].map(value.to_dict())\n",
        "\n",
        "    return df\n",
        "\n",
        "# generate all features\n",
        "def generate_all_features(df):\n",
        "    df = df.copy()\n",
        "    cols = [c for c in df.columns if c not in [\"row_id\", \"time_id\", \"target\"]]\n",
        "    df = df[cols]\n",
        "    df = imbalance_features(df)\n",
        "    df = other_features(df)\n",
        "    gc.collect()\n",
        "\n",
        "    feature_name = [i for i in df.columns if i not in [\"row_id\", \"target\", \"time_id\"]]#, \"date_id\"]]\n",
        "\n",
        "    return df[feature_name]\n",
        "\n",
        "def compute_triplet_imbalance(df_values, comb_indices):\n",
        "    num_rows = df_values.shape[0]\n",
        "    num_combinations = len(comb_indices)\n",
        "    imbalance_features = np.empty((num_rows, num_combinations))\n",
        "\n",
        "    for i in range(num_combinations):\n",
        "        a, b, c = comb_indices[i]\n",
        "        for j in range(num_rows):\n",
        "            max_val = max(df_values[j, a], df_values[j, b], df_values[j, c])\n",
        "            min_val = min(df_values[j, a], df_values[j, b], df_values[j, c])\n",
        "            mid_val = df_values[j, a] + df_values[j, b] + df_values[j, c] - min_val - max_val\n",
        "            if mid_val == min_val:  # Prevent division by zero\n",
        "                imbalance_features[j, i] = np.nan\n",
        "            else:\n",
        "                imbalance_features[j, i] = (max_val - mid_val) / (mid_val - min_val)\n",
        "\n",
        "    return imbalance_features\n",
        "\n",
        "def calculate_triplet_imbalance_numba(price, df):\n",
        "    # Convert DataFrame to numpy array for Numba compatibility\n",
        "    df_values = df[price].values\n",
        "    comb_indices = [(price.index(a), price.index(b), price.index(c)) for a, b, c in combinations(price, 3)]\n",
        "\n",
        "    # Calculate the triplet imbalance\n",
        "    features_array = compute_triplet_imbalance(df_values, comb_indices)\n",
        "\n",
        "    # Create a DataFrame from the results\n",
        "    columns = [f\"{a}_{b}_{c}_imb2\" for a, b, c in combinations(price, 3)]\n",
        "    features = pd.DataFrame(features_array, columns=columns)\n",
        "\n",
        "    return features"
      ],
      "metadata": {
        "id": "U_ox0mgDWbhE",
        "execution": {
          "iopub.status.busy": "2023-11-30T00:22:58.879485Z",
          "iopub.execute_input": "2023-11-30T00:22:58.879944Z",
          "iopub.status.idle": "2023-11-30T00:22:58.904439Z",
          "shell.execute_reply.started": "2023-11-30T00:22:58.879917Z",
          "shell.execute_reply": "2023-11-30T00:22:58.903531Z"
        },
        "trusted": true
      },
      "execution_count": null,
      "outputs": [],
      "id": "U_ox0mgDWbhE"
    },
    {
      "cell_type": "code",
      "source": [
        "class ImbalanceFeaturesTransformer(BaseEstimator, TransformerMixin):\n",
        "    def fit(self, X, y=None):\n",
        "        return self  # No fitting process needed\n",
        "\n",
        "    def transform(self, X):\n",
        "        # Make sure that imbalance_features returns a DataFrame\n",
        "        transformed_X = imbalance_features(X)\n",
        "        return transformed_X\n",
        "\n",
        "\n",
        "class OtherFeaturesTransformer(BaseEstimator, TransformerMixin):\n",
        "    def fit(self, X, y=None):\n",
        "        return self  # No fitting process needed\n",
        "\n",
        "    def transform(self, X):\n",
        "        return other_features(X)\n",
        "\n",
        "\n",
        "class AllFeaturesTransformer(BaseEstimator, TransformerMixin):\n",
        "    def fit(self, X, y=None):\n",
        "        return self  # No fitting process needed\n",
        "\n",
        "    def transform(self, X):\n",
        "        return generate_all_features(X)\n"
      ],
      "metadata": {
        "id": "RBYRkxpPWeoL",
        "execution": {
          "iopub.status.busy": "2023-11-30T00:22:58.906005Z",
          "iopub.execute_input": "2023-11-30T00:22:58.906450Z",
          "iopub.status.idle": "2023-11-30T00:22:58.917863Z",
          "shell.execute_reply.started": "2023-11-30T00:22:58.906390Z",
          "shell.execute_reply": "2023-11-30T00:22:58.916881Z"
        },
        "trusted": true
      },
      "execution_count": null,
      "outputs": [],
      "id": "RBYRkxpPWeoL"
    },
    {
      "cell_type": "code",
      "source": [
        "weights = [\n",
        "    0.004, 0.001, 0.002, 0.006, 0.004, 0.004, 0.002, 0.006, 0.006, 0.002, 0.002, 0.008,\n",
        "    0.006, 0.002, 0.008, 0.006, 0.002, 0.006, 0.004, 0.002, 0.004, 0.001, 0.006, 0.004,\n",
        "    0.002, 0.002, 0.004, 0.002, 0.004, 0.004, 0.001, 0.001, 0.002, 0.002, 0.006, 0.004,\n",
        "    0.004, 0.004, 0.006, 0.002, 0.002, 0.04 , 0.002, 0.002, 0.004, 0.04 , 0.002, 0.001,\n",
        "    0.006, 0.004, 0.004, 0.006, 0.001, 0.004, 0.004, 0.002, 0.006, 0.004, 0.006, 0.004,\n",
        "    0.006, 0.004, 0.002, 0.001, 0.002, 0.004, 0.002, 0.008, 0.004, 0.004, 0.002, 0.004,\n",
        "    0.006, 0.002, 0.004, 0.004, 0.002, 0.004, 0.004, 0.004, 0.001, 0.002, 0.002, 0.008,\n",
        "    0.02 , 0.004, 0.006, 0.002, 0.02 , 0.002, 0.002, 0.006, 0.004, 0.002, 0.001, 0.02,\n",
        "    0.006, 0.001, 0.002, 0.004, 0.001, 0.002, 0.006, 0.006, 0.004, 0.006, 0.001, 0.002,\n",
        "    0.004, 0.006, 0.006, 0.001, 0.04 , 0.006, 0.002, 0.004, 0.002, 0.002, 0.006, 0.002,\n",
        "    0.002, 0.004, 0.006, 0.006, 0.002, 0.002, 0.008, 0.006, 0.004, 0.002, 0.006, 0.002,\n",
        "    0.004, 0.006, 0.002, 0.004, 0.001, 0.004, 0.002, 0.004, 0.008, 0.006, 0.008, 0.002,\n",
        "    0.004, 0.002, 0.001, 0.004, 0.004, 0.004, 0.006, 0.008, 0.004, 0.001, 0.001, 0.002,\n",
        "    0.006, 0.004, 0.001, 0.002, 0.006, 0.004, 0.006, 0.008, 0.002, 0.002, 0.004, 0.002,\n",
        "    0.04 , 0.002, 0.002, 0.004, 0.002, 0.002, 0.006, 0.02 , 0.004, 0.002, 0.006, 0.02,\n",
        "    0.001, 0.002, 0.006, 0.004, 0.006, 0.004, 0.004, 0.004, 0.004, 0.002, 0.004, 0.04,\n",
        "    0.002, 0.008, 0.002, 0.004, 0.001, 0.004, 0.006, 0.004,\n",
        "]\n",
        "\n",
        "global_stock_id_feats = {\n",
        "        \"median_size\": df.groupby(\"stock_id\")[\"bid_size\"].median() + df.groupby(\"stock_id\")[\"ask_size\"].median(),\n",
        "        \"std_size\": df.groupby(\"stock_id\")[\"bid_size\"].std() + df.groupby(\"stock_id\")[\"ask_size\"].std(),\n",
        "        \"ptp_size\": df.groupby(\"stock_id\")[\"bid_size\"].max() - df.groupby(\"stock_id\")[\"bid_size\"].min(),\n",
        "        \"median_price\": df.groupby(\"stock_id\")[\"bid_price\"].median() + df.groupby(\"stock_id\")[\"ask_price\"].median(),\n",
        "        \"std_price\": df.groupby(\"stock_id\")[\"bid_price\"].std() + df.groupby(\"stock_id\")[\"ask_price\"].std(),\n",
        "        \"ptp_price\": df.groupby(\"stock_id\")[\"bid_price\"].max() - df.groupby(\"stock_id\")[\"ask_price\"].min(),\n",
        "    }"
      ],
      "metadata": {
        "id": "6kdNxjMEYXFr",
        "execution": {
          "iopub.status.busy": "2023-11-30T00:22:58.919198Z",
          "iopub.execute_input": "2023-11-30T00:22:58.919749Z",
          "iopub.status.idle": "2023-11-30T00:23:00.887749Z",
          "shell.execute_reply.started": "2023-11-30T00:22:58.919715Z",
          "shell.execute_reply": "2023-11-30T00:23:00.886603Z"
        },
        "trusted": true
      },
      "execution_count": null,
      "outputs": [],
      "id": "6kdNxjMEYXFr"
    },
    {
      "cell_type": "code",
      "source": [
        "# Convert weights list to a dictionary\n",
        "stock_ids = range(len(weights))  # Replace this with your actual stock IDs if they are different\n",
        "weights_dict = dict(zip(stock_ids, weights))"
      ],
      "metadata": {
        "id": "Y9or7NgZbEw4",
        "execution": {
          "iopub.status.busy": "2023-11-30T00:23:00.889041Z",
          "iopub.execute_input": "2023-11-30T00:23:00.889492Z",
          "iopub.status.idle": "2023-11-30T00:23:00.894801Z",
          "shell.execute_reply.started": "2023-11-30T00:23:00.889463Z",
          "shell.execute_reply": "2023-11-30T00:23:00.893562Z"
        },
        "trusted": true
      },
      "execution_count": null,
      "outputs": [],
      "id": "Y9or7NgZbEw4"
    },
    {
      "cell_type": "code",
      "source": [
        "from sklearn.compose import ColumnTransformer\n",
        "\n",
        "# Set up preprocessing pipeline\n",
        "preprocess_steps = [\n",
        "    ('drop_columns', DropColumns(['time_id', 'currently_scored'])),\n",
        "    ('imputer1', DataFrameSimpleImputer(strategy='constant', fill_value=0)),\n",
        "    ('moving_average', MovingAverageTransformer(window_size=2, columns=['ask_size', 'ask_price', 'bid_price', 'ask_size', 'reference_price', 'wap'])),\n",
        "    ('imbalance_features', ImbalanceFeaturesTransformer()),\n",
        "    ('other_features', OtherFeaturesTransformer()),\n",
        "    ('all_features', AllFeaturesTransformer()),\n",
        "    ('imputer2', DataFrameSimpleImputer(strategy='constant', fill_value=0)),\n",
        "]\n",
        "pp_pipeline = Pipeline(preprocess_steps)"
      ],
      "metadata": {
        "id": "1Wk4-2n04X2W",
        "execution": {
          "iopub.status.busy": "2023-11-30T00:23:00.896270Z",
          "iopub.execute_input": "2023-11-30T00:23:00.896711Z",
          "iopub.status.idle": "2023-11-30T00:23:00.910859Z",
          "shell.execute_reply.started": "2023-11-30T00:23:00.896673Z",
          "shell.execute_reply": "2023-11-30T00:23:00.909642Z"
        },
        "trusted": true
      },
      "execution_count": null,
      "outputs": [],
      "id": "1Wk4-2n04X2W"
    },
    {
      "cell_type": "code",
      "source": [
        "def get_grouped_df(original_df:pd.DataFrame, columns_lst:list):\n",
        "    grouped_df_lst = []\n",
        "    incomplete_ts = []\n",
        "    columns_lst = columns_lst[0] if len(columns_lst)==1 else columns_lst # To avoid Pandas future warning\n",
        "    for k, subdf in tqdm(original_df.groupby(columns_lst)):\n",
        "        if subdf.shape[0] >= 55:\n",
        "            grp_item = [col_name for col_name in k] if isinstance(k, tuple) else [k]\n",
        "            grp_item.append(subdf)\n",
        "            grouped_df_lst.append(grp_item)\n",
        "        else:\n",
        "            incomplete_dict ={}\n",
        "            for index, col_name in enumerate(columns_lst):\n",
        "                incomplete_dict[col_name] = k[index]\n",
        "            incomplete_dict[\"length\"] = len(subdf)\n",
        "            incomplete_ts.append(incomplete_dict)\n",
        "    return grouped_df_lst, incomplete_ts"
      ],
      "metadata": {
        "id": "g5OWUSrIhXUm",
        "execution": {
          "iopub.status.busy": "2023-11-30T00:23:00.912513Z",
          "iopub.execute_input": "2023-11-30T00:23:00.913216Z",
          "iopub.status.idle": "2023-11-30T00:23:00.921857Z",
          "shell.execute_reply.started": "2023-11-30T00:23:00.913186Z",
          "shell.execute_reply": "2023-11-30T00:23:00.920656Z"
        },
        "trusted": true
      },
      "execution_count": null,
      "outputs": [],
      "id": "g5OWUSrIhXUm"
    },
    {
      "cell_type": "code",
      "source": [
        "stock_grp_lst, incomplete_ts = get_grouped_df(df, ['stock_id', 'date_id']) ; del df"
      ],
      "metadata": {
        "colab": {
          "base_uri": "https://localhost:8080/"
        },
        "id": "BbCccBfS1Efc",
        "outputId": "6c7dfe44-07c8-44c8-e6a5-3e9474855046",
        "execution": {
          "iopub.status.busy": "2023-11-30T00:23:00.923165Z",
          "iopub.execute_input": "2023-11-30T00:23:00.923658Z",
          "iopub.status.idle": "2023-11-30T00:23:22.415765Z",
          "shell.execute_reply.started": "2023-11-30T00:23:00.923620Z",
          "shell.execute_reply": "2023-11-30T00:23:22.414646Z"
        },
        "trusted": true
      },
      "execution_count": null,
      "outputs": [
        {
          "name": "stderr",
          "text": "100%|██████████| 95235/95235 [00:06<00:00, 14134.85it/s]\n",
          "output_type": "stream"
        }
      ],
      "id": "BbCccBfS1Efc"
    },
    {
      "cell_type": "code",
      "source": [
        "MAX_NUM_SAMPLES = len(stock_grp_lst)\n",
        "if SAMPLE_SIZE < 0:\n",
        "    SAMPLE_SIZE = MAX_NUM_SAMPLES"
      ],
      "metadata": {
        "id": "6bwToEVn3CMW",
        "execution": {
          "iopub.status.busy": "2023-11-30T00:23:22.417183Z",
          "iopub.execute_input": "2023-11-30T00:23:22.417522Z",
          "iopub.status.idle": "2023-11-30T00:23:22.421914Z",
          "shell.execute_reply.started": "2023-11-30T00:23:22.417495Z",
          "shell.execute_reply": "2023-11-30T00:23:22.420880Z"
        },
        "trusted": true
      },
      "execution_count": null,
      "outputs": [],
      "id": "6bwToEVn3CMW"
    },
    {
      "cell_type": "code",
      "source": [
        "stock_grp_lst[0][2].head(2)"
      ],
      "metadata": {
        "colab": {
          "base_uri": "https://localhost:8080/",
          "height": 132
        },
        "id": "JOONd5gv6dRk",
        "outputId": "42766d0e-3116-470b-a948-e570649d49da",
        "execution": {
          "iopub.status.busy": "2023-11-30T00:23:22.423272Z",
          "iopub.execute_input": "2023-11-30T00:23:22.423562Z",
          "iopub.status.idle": "2023-11-30T00:23:22.450410Z",
          "shell.execute_reply.started": "2023-11-30T00:23:22.423537Z",
          "shell.execute_reply": "2023-11-30T00:23:22.449337Z"
        },
        "trusted": true
      },
      "execution_count": null,
      "outputs": [
        {
          "execution_count": 24,
          "output_type": "execute_result",
          "data": {
            "text/plain": "     stock_id  date_id  seconds_in_bucket  imbalance_size  \\\n0           0        0                  0        3.18e+06   \n191         0        0                 10        1.30e+06   \n\n     imbalance_buy_sell_flag  reference_price  matched_size  far_price  \\\n0                          1              1.0      1.34e+07        NaN   \n191                        1              1.0      1.53e+07        NaN   \n\n     near_price  bid_price  bid_size  ask_price  ask_size  wap  target  \\\n0           NaN        1.0   60651.5        1.0   8493.03  1.0   -3.03   \n191         NaN        1.0   13996.5        1.0  23519.16  1.0    0.39   \n\n     time_id  row_id  \n0          0   0_0_0  \n191        1  0_10_0  ",
            "text/html": "<div>\n<style scoped>\n    .dataframe tbody tr th:only-of-type {\n        vertical-align: middle;\n    }\n\n    .dataframe tbody tr th {\n        vertical-align: top;\n    }\n\n    .dataframe thead th {\n        text-align: right;\n    }\n</style>\n<table border=\"1\" class=\"dataframe\">\n  <thead>\n    <tr style=\"text-align: right;\">\n      <th></th>\n      <th>stock_id</th>\n      <th>date_id</th>\n      <th>seconds_in_bucket</th>\n      <th>imbalance_size</th>\n      <th>imbalance_buy_sell_flag</th>\n      <th>reference_price</th>\n      <th>matched_size</th>\n      <th>far_price</th>\n      <th>near_price</th>\n      <th>bid_price</th>\n      <th>bid_size</th>\n      <th>ask_price</th>\n      <th>ask_size</th>\n      <th>wap</th>\n      <th>target</th>\n      <th>time_id</th>\n      <th>row_id</th>\n    </tr>\n  </thead>\n  <tbody>\n    <tr>\n      <th>0</th>\n      <td>0</td>\n      <td>0</td>\n      <td>0</td>\n      <td>3.18e+06</td>\n      <td>1</td>\n      <td>1.0</td>\n      <td>1.34e+07</td>\n      <td>NaN</td>\n      <td>NaN</td>\n      <td>1.0</td>\n      <td>60651.5</td>\n      <td>1.0</td>\n      <td>8493.03</td>\n      <td>1.0</td>\n      <td>-3.03</td>\n      <td>0</td>\n      <td>0_0_0</td>\n    </tr>\n    <tr>\n      <th>191</th>\n      <td>0</td>\n      <td>0</td>\n      <td>10</td>\n      <td>1.30e+06</td>\n      <td>1</td>\n      <td>1.0</td>\n      <td>1.53e+07</td>\n      <td>NaN</td>\n      <td>NaN</td>\n      <td>1.0</td>\n      <td>13996.5</td>\n      <td>1.0</td>\n      <td>23519.16</td>\n      <td>1.0</td>\n      <td>0.39</td>\n      <td>1</td>\n      <td>0_10_0</td>\n    </tr>\n  </tbody>\n</table>\n</div>"
          },
          "metadata": {}
        }
      ],
      "id": "JOONd5gv6dRk"
    },
    {
      "cell_type": "code",
      "source": [
        "%%time\n",
        "dataset_folds = KFold(n_splits=10, shuffle=True, random_state=0)\n",
        "XY_train_lst = []\n",
        "XY_test_lst = []\n",
        "for fold_num, (train_index, test_index) in enumerate(dataset_folds.split(stock_grp_lst)):\n",
        "    XY_train_df_getter = itemgetter(*list(train_index))(stock_grp_lst)     # check if we can use generators\n",
        "    XY_test_df_getter = itemgetter(*list(test_index))(stock_grp_lst)\n",
        "    for stock_id, date_id, XY_train_df_item in XY_train_df_getter[:SAMPLE_SIZE]:\n",
        "        XY_train_lst.append(XY_train_df_item)\n",
        "    for stock_id, date_id, XY_test_df_item in XY_test_df_getter[:SAMPLE_SIZE//10]:\n",
        "        XY_test_lst.append(XY_test_df_item)\n",
        "    break # Get one fold\n",
        "XY_train_df = pd.concat(XY_train_lst, axis=0)\n",
        "XY_test_df = pd.concat(XY_test_lst, axis=0)"
      ],
      "metadata": {
        "colab": {
          "base_uri": "https://localhost:8080/"
        },
        "id": "YnCPaitATMJz",
        "outputId": "c0a86266-a2ab-4084-eb4f-5bb88c6ef7cc",
        "execution": {
          "iopub.status.busy": "2023-11-30T00:23:22.451746Z",
          "iopub.execute_input": "2023-11-30T00:23:22.452049Z",
          "iopub.status.idle": "2023-11-30T00:23:43.520661Z",
          "shell.execute_reply.started": "2023-11-30T00:23:22.452024Z",
          "shell.execute_reply": "2023-11-30T00:23:43.519382Z"
        },
        "trusted": true
      },
      "execution_count": null,
      "outputs": [
        {
          "name": "stdout",
          "text": "CPU times: user 20.7 s, sys: 308 ms, total: 21.1 s\nWall time: 21.1 s\n",
          "output_type": "stream"
        }
      ],
      "id": "YnCPaitATMJz"
    },
    {
      "cell_type": "code",
      "source": [
        "del stock_grp_lst"
      ],
      "metadata": {
        "id": "Xp7p9f479zzY",
        "execution": {
          "iopub.status.busy": "2023-11-30T00:23:43.522437Z",
          "iopub.execute_input": "2023-11-30T00:23:43.522859Z",
          "iopub.status.idle": "2023-11-30T00:23:43.529125Z",
          "shell.execute_reply.started": "2023-11-30T00:23:43.522820Z",
          "shell.execute_reply": "2023-11-30T00:23:43.528087Z"
        },
        "trusted": true
      },
      "execution_count": null,
      "outputs": [],
      "id": "Xp7p9f479zzY"
    },
    {
      "cell_type": "code",
      "source": [
        "XY_train_df.shape"
      ],
      "metadata": {
        "colab": {
          "base_uri": "https://localhost:8080/"
        },
        "id": "_7_ZKT579lQV",
        "outputId": "0e434a0a-0b6b-4d5a-ca90-2a466932d1cb",
        "execution": {
          "iopub.status.busy": "2023-11-30T00:23:43.530513Z",
          "iopub.execute_input": "2023-11-30T00:23:43.531499Z",
          "iopub.status.idle": "2023-11-30T00:23:43.544048Z",
          "shell.execute_reply.started": "2023-11-30T00:23:43.531461Z",
          "shell.execute_reply": "2023-11-30T00:23:43.543052Z"
        },
        "trusted": true
      },
      "execution_count": null,
      "outputs": [
        {
          "execution_count": 27,
          "output_type": "execute_result",
          "data": {
            "text/plain": "(2750000, 17)"
          },
          "metadata": {}
        }
      ],
      "id": "_7_ZKT579lQV"
    },
    {
      "cell_type": "code",
      "source": [
        "XY_train_df.head(2)"
      ],
      "metadata": {
        "colab": {
          "base_uri": "https://localhost:8080/",
          "height": 132
        },
        "id": "YmJTYbQgU0t-",
        "outputId": "bad99751-c208-4cef-8c19-8704dd957f42",
        "execution": {
          "iopub.status.busy": "2023-11-30T00:23:43.545128Z",
          "iopub.execute_input": "2023-11-30T00:23:43.545450Z",
          "iopub.status.idle": "2023-11-30T00:23:43.569539Z",
          "shell.execute_reply.started": "2023-11-30T00:23:43.545422Z",
          "shell.execute_reply": "2023-11-30T00:23:43.568353Z"
        },
        "trusted": true
      },
      "execution_count": null,
      "outputs": [
        {
          "execution_count": 28,
          "output_type": "execute_result",
          "data": {
            "text/plain": "     stock_id  date_id  seconds_in_bucket  imbalance_size  \\\n0           0        0                  0        3.18e+06   \n191         0        0                 10        1.30e+06   \n\n     imbalance_buy_sell_flag  reference_price  matched_size  far_price  \\\n0                          1              1.0      1.34e+07        NaN   \n191                        1              1.0      1.53e+07        NaN   \n\n     near_price  bid_price  bid_size  ask_price  ask_size  wap  target  \\\n0           NaN        1.0   60651.5        1.0   8493.03  1.0   -3.03   \n191         NaN        1.0   13996.5        1.0  23519.16  1.0    0.39   \n\n     time_id  row_id  \n0          0   0_0_0  \n191        1  0_10_0  ",
            "text/html": "<div>\n<style scoped>\n    .dataframe tbody tr th:only-of-type {\n        vertical-align: middle;\n    }\n\n    .dataframe tbody tr th {\n        vertical-align: top;\n    }\n\n    .dataframe thead th {\n        text-align: right;\n    }\n</style>\n<table border=\"1\" class=\"dataframe\">\n  <thead>\n    <tr style=\"text-align: right;\">\n      <th></th>\n      <th>stock_id</th>\n      <th>date_id</th>\n      <th>seconds_in_bucket</th>\n      <th>imbalance_size</th>\n      <th>imbalance_buy_sell_flag</th>\n      <th>reference_price</th>\n      <th>matched_size</th>\n      <th>far_price</th>\n      <th>near_price</th>\n      <th>bid_price</th>\n      <th>bid_size</th>\n      <th>ask_price</th>\n      <th>ask_size</th>\n      <th>wap</th>\n      <th>target</th>\n      <th>time_id</th>\n      <th>row_id</th>\n    </tr>\n  </thead>\n  <tbody>\n    <tr>\n      <th>0</th>\n      <td>0</td>\n      <td>0</td>\n      <td>0</td>\n      <td>3.18e+06</td>\n      <td>1</td>\n      <td>1.0</td>\n      <td>1.34e+07</td>\n      <td>NaN</td>\n      <td>NaN</td>\n      <td>1.0</td>\n      <td>60651.5</td>\n      <td>1.0</td>\n      <td>8493.03</td>\n      <td>1.0</td>\n      <td>-3.03</td>\n      <td>0</td>\n      <td>0_0_0</td>\n    </tr>\n    <tr>\n      <th>191</th>\n      <td>0</td>\n      <td>0</td>\n      <td>10</td>\n      <td>1.30e+06</td>\n      <td>1</td>\n      <td>1.0</td>\n      <td>1.53e+07</td>\n      <td>NaN</td>\n      <td>NaN</td>\n      <td>1.0</td>\n      <td>13996.5</td>\n      <td>1.0</td>\n      <td>23519.16</td>\n      <td>1.0</td>\n      <td>0.39</td>\n      <td>1</td>\n      <td>0_10_0</td>\n    </tr>\n  </tbody>\n</table>\n</div>"
          },
          "metadata": {}
        }
      ],
      "id": "YmJTYbQgU0t-"
    },
    {
      "cell_type": "code",
      "source": [
        "XY_test_df.shape"
      ],
      "metadata": {
        "colab": {
          "base_uri": "https://localhost:8080/"
        },
        "id": "NTmrQ1mw-DTR",
        "outputId": "665470fc-e902-44bf-edfe-23b4f3b1092b",
        "execution": {
          "iopub.status.busy": "2023-11-30T00:23:43.570681Z",
          "iopub.execute_input": "2023-11-30T00:23:43.571085Z",
          "iopub.status.idle": "2023-11-30T00:23:43.579327Z",
          "shell.execute_reply.started": "2023-11-30T00:23:43.571048Z",
          "shell.execute_reply": "2023-11-30T00:23:43.577990Z"
        },
        "trusted": true
      },
      "execution_count": null,
      "outputs": [
        {
          "execution_count": 29,
          "output_type": "execute_result",
          "data": {
            "text/plain": "(275000, 17)"
          },
          "metadata": {}
        }
      ],
      "id": "NTmrQ1mw-DTR"
    },
    {
      "cell_type": "code",
      "source": [
        "X_train_pp = pp_pipeline.fit_transform(XY_train_df)\n",
        "Y_train = XY_train_df.target\n",
        "X_test_pp = pp_pipeline.fit_transform(XY_test_df)\n",
        "Y_test = XY_test_df.target\n",
        "del XY_train_df\n",
        "del XY_test_df\n",
        "gc.collect()"
      ],
      "metadata": {
        "colab": {
          "base_uri": "https://localhost:8080/"
        },
        "id": "KnQrY89C-Hgk",
        "outputId": "dc5fbd53-0398-4344-d39e-7b936b5a1dd0",
        "execution": {
          "iopub.status.busy": "2023-11-30T00:23:43.589032Z",
          "iopub.execute_input": "2023-11-30T00:23:43.589396Z",
          "iopub.status.idle": "2023-11-30T00:24:05.612115Z",
          "shell.execute_reply.started": "2023-11-30T00:23:43.589366Z",
          "shell.execute_reply": "2023-11-30T00:24:05.611092Z"
        },
        "trusted": true
      },
      "execution_count": null,
      "outputs": [
        {
          "execution_count": 30,
          "output_type": "execute_result",
          "data": {
            "text/plain": "0"
          },
          "metadata": {}
        }
      ],
      "id": "KnQrY89C-Hgk"
    },
    {
      "cell_type": "code",
      "source": [
        "X_train_pp.columns"
      ],
      "metadata": {
        "colab": {
          "base_uri": "https://localhost:8080/"
        },
        "id": "prqNWIhl-XRa",
        "outputId": "90f1c484-3367-49f7-c216-7359b6165376",
        "execution": {
          "iopub.status.busy": "2023-11-30T00:24:05.613501Z",
          "iopub.execute_input": "2023-11-30T00:24:05.613821Z",
          "iopub.status.idle": "2023-11-30T00:24:05.620114Z",
          "shell.execute_reply.started": "2023-11-30T00:24:05.613795Z",
          "shell.execute_reply": "2023-11-30T00:24:05.619125Z"
        },
        "trusted": true
      },
      "execution_count": null,
      "outputs": [
        {
          "execution_count": 31,
          "output_type": "execute_result",
          "data": {
            "text/plain": "Index(['stock_id', 'date_id', 'seconds_in_bucket', 'imbalance_size',\n       'imbalance_buy_sell_flag', 'reference_price', 'matched_size',\n       'far_price', 'near_price', 'bid_price', 'bid_size', 'ask_price',\n       'ask_size', 'wap', 'ask_size_sma', 'ask_price_sma', 'bid_price_sma',\n       'reference_price_sma', 'wap_sma', 'volume', 'mid_price',\n       'liquidity_imbalance', 'reference_price_ask_price_imb',\n       'reference_price_bid_price_imb', 'reference_price_wap_imb',\n       'ask_price_bid_price_imb', 'ask_price_wap_imb', 'bid_price_wap_imb',\n       'stock_weights', 'weighted_wap', 'price_spread', 'spread_depth_ratio',\n       'all_prices_mean', 'all_prices_std', 'all_sizes_mean', 'all_sizes_std',\n       'dow', 'dom', 'seconds', 'minute', 'global_median_size',\n       'global_std_size', 'global_ptp_size', 'global_median_price',\n       'global_std_price', 'global_ptp_price'],\n      dtype='object')"
          },
          "metadata": {}
        }
      ],
      "id": "prqNWIhl-XRa"
    },
    {
      "cell_type": "code",
      "source": [
        "X_train_pp.shape"
      ],
      "metadata": {
        "colab": {
          "base_uri": "https://localhost:8080/"
        },
        "id": "sZQY6s2d1N9G",
        "outputId": "14f3ea8f-140f-4e08-b6b6-a7ef359db7d1",
        "execution": {
          "iopub.status.busy": "2023-11-30T00:24:05.621726Z",
          "iopub.execute_input": "2023-11-30T00:24:05.622018Z",
          "iopub.status.idle": "2023-11-30T00:24:05.631488Z",
          "shell.execute_reply.started": "2023-11-30T00:24:05.621992Z",
          "shell.execute_reply": "2023-11-30T00:24:05.630045Z"
        },
        "trusted": true
      },
      "execution_count": null,
      "outputs": [
        {
          "execution_count": 32,
          "output_type": "execute_result",
          "data": {
            "text/plain": "(2750000, 46)"
          },
          "metadata": {}
        }
      ],
      "id": "sZQY6s2d1N9G"
    },
    {
      "cell_type": "code",
      "source": [
        "%%time\n",
        "tseries_columns = [\n",
        "    'ask_price_sma',\n",
        "    'bid_price_sma',\n",
        "    'wap_sma',\n",
        "    ]\n",
        "stocks_tseries_data = []\n",
        "for k, subdf in tqdm(X_train_pp.groupby(['stock_id', 'date_id'])):\n",
        "    stocks_tseries_data.append(subdf[tseries_columns].T.values.ravel())\n",
        "stocks_tseries = np.array(stocks_tseries_data)"
      ],
      "metadata": {
        "colab": {
          "base_uri": "https://localhost:8080/"
        },
        "id": "Ar6PhDno3QgM",
        "outputId": "49e1226f-eaa9-445b-a183-733eef0b57c6",
        "execution": {
          "iopub.status.busy": "2023-11-30T00:24:05.633514Z",
          "iopub.execute_input": "2023-11-30T00:24:05.634412Z",
          "iopub.status.idle": "2023-11-30T00:25:21.967395Z",
          "shell.execute_reply.started": "2023-11-30T00:24:05.634374Z",
          "shell.execute_reply": "2023-11-30T00:25:21.966266Z"
        },
        "trusted": true
      },
      "execution_count": null,
      "outputs": [
        {
          "name": "stderr",
          "text": "100%|██████████| 50000/50000 [01:06<00:00, 746.80it/s]\n",
          "output_type": "stream"
        },
        {
          "name": "stdout",
          "text": "CPU times: user 1min 15s, sys: 1.41 s, total: 1min 16s\nWall time: 1min 16s\n",
          "output_type": "stream"
        }
      ],
      "id": "Ar6PhDno3QgM"
    },
    {
      "cell_type": "code",
      "source": [
        "stocks_tseries.shape"
      ],
      "metadata": {
        "colab": {
          "base_uri": "https://localhost:8080/"
        },
        "id": "BdY-qfWUsN09",
        "outputId": "a3911808-ab65-4d57-e0f8-b1d514fbde8b",
        "execution": {
          "iopub.status.busy": "2023-11-30T00:25:21.969298Z",
          "iopub.execute_input": "2023-11-30T00:25:21.969763Z",
          "iopub.status.idle": "2023-11-30T00:25:21.980375Z",
          "shell.execute_reply.started": "2023-11-30T00:25:21.969722Z",
          "shell.execute_reply": "2023-11-30T00:25:21.979118Z"
        },
        "trusted": true
      },
      "execution_count": null,
      "outputs": [
        {
          "execution_count": 34,
          "output_type": "execute_result",
          "data": {
            "text/plain": "(50000, 165)"
          },
          "metadata": {}
        }
      ],
      "id": "BdY-qfWUsN09"
    },
    {
      "cell_type": "code",
      "source": [],
      "metadata": {
        "id": "D3pP9vC44O0S"
      },
      "execution_count": null,
      "outputs": [],
      "id": "D3pP9vC44O0S"
    },
    {
      "cell_type": "code",
      "source": [
        "%%time\n",
        "pca = PCA(n_components=3, random_state=0)\n",
        "stocks_tseries_transformed = pca.fit_transform(stocks_tseries)"
      ],
      "metadata": {
        "colab": {
          "base_uri": "https://localhost:8080/"
        },
        "id": "57am9UGIr5Pf",
        "outputId": "47e1fb70-7e30-40d6-dc3f-f2beb18cdae5",
        "execution": {
          "iopub.status.busy": "2023-11-30T00:25:21.981925Z",
          "iopub.execute_input": "2023-11-30T00:25:21.982716Z",
          "iopub.status.idle": "2023-11-30T00:25:22.614436Z",
          "shell.execute_reply.started": "2023-11-30T00:25:21.982685Z",
          "shell.execute_reply": "2023-11-30T00:25:22.612991Z"
        },
        "trusted": true
      },
      "execution_count": null,
      "outputs": [
        {
          "name": "stdout",
          "text": "CPU times: user 1.75 s, sys: 532 ms, total: 2.29 s\nWall time: 621 ms\n",
          "output_type": "stream"
        }
      ],
      "id": "57am9UGIr5Pf"
    },
    {
      "cell_type": "code",
      "source": [],
      "metadata": {
        "id": "AMHL-cNEwGfy"
      },
      "execution_count": null,
      "outputs": [],
      "id": "AMHL-cNEwGfy"
    },
    {
      "cell_type": "code",
      "source": [
        "stocks_tseries_transformed.shape"
      ],
      "metadata": {
        "colab": {
          "base_uri": "https://localhost:8080/"
        },
        "id": "6A9wCSlFsTHS",
        "outputId": "104d6789-62b9-4ae7-96e4-806a6ed02c28",
        "execution": {
          "iopub.status.busy": "2023-11-30T00:25:22.620959Z",
          "iopub.execute_input": "2023-11-30T00:25:22.622634Z",
          "iopub.status.idle": "2023-11-30T00:25:22.639554Z",
          "shell.execute_reply.started": "2023-11-30T00:25:22.622569Z",
          "shell.execute_reply": "2023-11-30T00:25:22.637003Z"
        },
        "trusted": true
      },
      "execution_count": null,
      "outputs": [
        {
          "execution_count": 36,
          "output_type": "execute_result",
          "data": {
            "text/plain": "(50000, 3)"
          },
          "metadata": {}
        }
      ],
      "id": "6A9wCSlFsTHS"
    },
    {
      "cell_type": "code",
      "source": [],
      "metadata": {
        "id": "VpZUp2S-sTV5"
      },
      "execution_count": null,
      "outputs": [],
      "id": "VpZUp2S-sTV5"
    },
    {
      "cell_type": "code",
      "source": [
        "%%time\n",
        "kmeans_tseries = KMeans(n_clusters=5, n_init=10,\n",
        "                        random_state=0,\n",
        "                        max_iter=5000)\n",
        "tseries_clusters = kmeans_tseries.fit_predict(stocks_tseries_transformed)"
      ],
      "metadata": {
        "colab": {
          "base_uri": "https://localhost:8080/"
        },
        "id": "9baMty2SsZkX",
        "outputId": "0356020e-42d5-469f-ba95-7186f5f1b8a3",
        "execution": {
          "iopub.status.busy": "2023-11-30T00:25:22.643023Z",
          "iopub.execute_input": "2023-11-30T00:25:22.643730Z",
          "iopub.status.idle": "2023-11-30T00:25:44.567299Z",
          "shell.execute_reply.started": "2023-11-30T00:25:22.643673Z",
          "shell.execute_reply": "2023-11-30T00:25:44.566386Z"
        },
        "trusted": true
      },
      "execution_count": null,
      "outputs": [
        {
          "name": "stdout",
          "text": "CPU times: user 23.8 s, sys: 2.8 s, total: 26.6 s\nWall time: 21.9 s\n",
          "output_type": "stream"
        }
      ],
      "id": "9baMty2SsZkX"
    },
    {
      "cell_type": "code",
      "source": [
        "len(tseries_clusters)"
      ],
      "metadata": {
        "colab": {
          "base_uri": "https://localhost:8080/"
        },
        "id": "as6s9goOtPBN",
        "outputId": "4887075d-553c-4c73-c2e7-c3ef0d1e5bc5",
        "execution": {
          "iopub.status.busy": "2023-11-30T00:25:44.568632Z",
          "iopub.execute_input": "2023-11-30T00:25:44.568959Z",
          "iopub.status.idle": "2023-11-30T00:25:44.586638Z",
          "shell.execute_reply.started": "2023-11-30T00:25:44.568931Z",
          "shell.execute_reply": "2023-11-30T00:25:44.585868Z"
        },
        "trusted": true
      },
      "execution_count": null,
      "outputs": [
        {
          "execution_count": 38,
          "output_type": "execute_result",
          "data": {
            "text/plain": "50000"
          },
          "metadata": {}
        }
      ],
      "id": "as6s9goOtPBN"
    },
    {
      "cell_type": "code",
      "source": [
        "tseries_clusters[:20]"
      ],
      "metadata": {
        "colab": {
          "base_uri": "https://localhost:8080/"
        },
        "id": "wn-FDWTquQ-W",
        "outputId": "4a2a71af-16ae-47b3-dd37-79348551300f",
        "execution": {
          "iopub.status.busy": "2023-11-30T00:25:44.587851Z",
          "iopub.execute_input": "2023-11-30T00:25:44.588171Z",
          "iopub.status.idle": "2023-11-30T00:25:44.596763Z",
          "shell.execute_reply.started": "2023-11-30T00:25:44.588144Z",
          "shell.execute_reply": "2023-11-30T00:25:44.595977Z"
        },
        "trusted": true
      },
      "execution_count": null,
      "outputs": [
        {
          "execution_count": 39,
          "output_type": "execute_result",
          "data": {
            "text/plain": "array([3, 1, 1, 1, 3, 1, 0, 3, 3, 3, 3, 3, 1, 1, 3, 0, 3, 1, 3, 3], dtype=int32)"
          },
          "metadata": {}
        }
      ],
      "id": "wn-FDWTquQ-W"
    },
    {
      "cell_type": "code",
      "source": [
        "%%time\n",
        "# Add cluster information to stock DataFrame\n",
        "X_train_pp_c_lst = []\n",
        "for index, grpby_tuple in enumerate(X_train_pp.groupby(['stock_id', 'date_id'])):\n",
        "    k, subdf = grpby_tuple\n",
        "    subdf['cluster_id'] = tseries_clusters[index]\n",
        "    X_train_pp_c_lst.append(subdf)\n",
        "X_train_pp_c = pd.concat(X_train_pp_c_lst, axis=0)\n",
        "X_train_pp_c.shape"
      ],
      "metadata": {
        "colab": {
          "base_uri": "https://localhost:8080/"
        },
        "id": "wC4nUW8ljFAG",
        "outputId": "36eb21e6-cd97-4d60-8978-efdff9596933",
        "execution": {
          "iopub.status.busy": "2023-11-30T00:25:44.597724Z",
          "iopub.execute_input": "2023-11-30T00:25:44.598032Z",
          "iopub.status.idle": "2023-11-30T00:27:27.935882Z",
          "shell.execute_reply.started": "2023-11-30T00:25:44.598006Z",
          "shell.execute_reply": "2023-11-30T00:27:27.934832Z"
        },
        "trusted": true
      },
      "execution_count": null,
      "outputs": [
        {
          "name": "stdout",
          "text": "CPU times: user 1min 40s, sys: 2.73 s, total: 1min 43s\nWall time: 1min 43s\n",
          "output_type": "stream"
        },
        {
          "execution_count": 40,
          "output_type": "execute_result",
          "data": {
            "text/plain": "(2750000, 47)"
          },
          "metadata": {}
        }
      ],
      "id": "wC4nUW8ljFAG"
    },
    {
      "cell_type": "code",
      "source": [
        "X_train_pp_c.columns"
      ],
      "metadata": {
        "colab": {
          "base_uri": "https://localhost:8080/"
        },
        "id": "Qpp72dKxCEHZ",
        "outputId": "20c5395e-fe5f-4796-c582-464d0015b2ed",
        "execution": {
          "iopub.status.busy": "2023-11-30T00:27:27.937569Z",
          "iopub.execute_input": "2023-11-30T00:27:27.938488Z",
          "iopub.status.idle": "2023-11-30T00:27:27.946242Z",
          "shell.execute_reply.started": "2023-11-30T00:27:27.938449Z",
          "shell.execute_reply": "2023-11-30T00:27:27.945165Z"
        },
        "trusted": true
      },
      "execution_count": null,
      "outputs": [
        {
          "execution_count": 41,
          "output_type": "execute_result",
          "data": {
            "text/plain": "Index(['stock_id', 'date_id', 'seconds_in_bucket', 'imbalance_size',\n       'imbalance_buy_sell_flag', 'reference_price', 'matched_size',\n       'far_price', 'near_price', 'bid_price', 'bid_size', 'ask_price',\n       'ask_size', 'wap', 'ask_size_sma', 'ask_price_sma', 'bid_price_sma',\n       'reference_price_sma', 'wap_sma', 'volume', 'mid_price',\n       'liquidity_imbalance', 'reference_price_ask_price_imb',\n       'reference_price_bid_price_imb', 'reference_price_wap_imb',\n       'ask_price_bid_price_imb', 'ask_price_wap_imb', 'bid_price_wap_imb',\n       'stock_weights', 'weighted_wap', 'price_spread', 'spread_depth_ratio',\n       'all_prices_mean', 'all_prices_std', 'all_sizes_mean', 'all_sizes_std',\n       'dow', 'dom', 'seconds', 'minute', 'global_median_size',\n       'global_std_size', 'global_ptp_size', 'global_median_price',\n       'global_std_price', 'global_ptp_price', 'cluster_id'],\n      dtype='object')"
          },
          "metadata": {}
        }
      ],
      "id": "Qpp72dKxCEHZ"
    },
    {
      "cell_type": "code",
      "source": [
        "XY_train_df = X_train_pp_c.copy()\n",
        "XY_train_df['target'] = Y_train"
      ],
      "metadata": {
        "id": "NFEw2Du9y69T",
        "execution": {
          "iopub.status.busy": "2023-11-30T00:27:27.947824Z",
          "iopub.execute_input": "2023-11-30T00:27:27.948248Z",
          "iopub.status.idle": "2023-11-30T00:27:29.486586Z",
          "shell.execute_reply.started": "2023-11-30T00:27:27.948210Z",
          "shell.execute_reply": "2023-11-30T00:27:29.485386Z"
        },
        "trusted": true
      },
      "execution_count": null,
      "outputs": [],
      "id": "NFEw2Du9y69T"
    },
    {
      "cell_type": "code",
      "source": [
        "grp_df_lst_clstr, _ = get_grouped_df(XY_train_df, ['cluster_id'])"
      ],
      "metadata": {
        "colab": {
          "base_uri": "https://localhost:8080/"
        },
        "id": "kLGGXix2jO78",
        "outputId": "18c6622e-d2a2-4f9a-ba28-b6943cfca6ab",
        "execution": {
          "iopub.status.busy": "2023-11-30T00:27:29.487884Z",
          "iopub.execute_input": "2023-11-30T00:27:29.488534Z",
          "iopub.status.idle": "2023-11-30T00:27:30.235947Z",
          "shell.execute_reply.started": "2023-11-30T00:27:29.488502Z",
          "shell.execute_reply": "2023-11-30T00:27:30.234840Z"
        },
        "trusted": true
      },
      "execution_count": null,
      "outputs": [
        {
          "name": "stderr",
          "text": "100%|██████████| 5/5 [00:00<00:00,  7.87it/s]\n",
          "output_type": "stream"
        }
      ],
      "id": "kLGGXix2jO78"
    },
    {
      "cell_type": "code",
      "source": [
        "num_tslots = []\n",
        "for cluster_id, stock_df in grp_df_lst_clstr:\n",
        "    #display(grp_df_lst_clstr[3][1])\n",
        "    print(f\"cluster:{cluster_id}\")\n",
        "    print(f\"  Number of time series: {len(stock_df)/55}\")\n",
        "    print(f\"  Number of time slots:  {len(stock_df)}\")\n",
        "    num_tslots.append(len(stock_df))"
      ],
      "metadata": {
        "colab": {
          "base_uri": "https://localhost:8080/"
        },
        "id": "lbihJV9GjR31",
        "outputId": "6082c4a8-c554-4567-8bc0-f474603f03fb",
        "execution": {
          "iopub.status.busy": "2023-11-30T00:27:30.237245Z",
          "iopub.execute_input": "2023-11-30T00:27:30.237640Z",
          "iopub.status.idle": "2023-11-30T00:27:30.244967Z",
          "shell.execute_reply.started": "2023-11-30T00:27:30.237612Z",
          "shell.execute_reply": "2023-11-30T00:27:30.243845Z"
        },
        "trusted": true
      },
      "execution_count": null,
      "outputs": [
        {
          "name": "stdout",
          "text": "cluster:0\n  Number of time series: 10939.0\n  Number of time slots:  601645\ncluster:1\n  Number of time series: 13780.0\n  Number of time slots:  757900\ncluster:2\n  Number of time series: 2187.0\n  Number of time slots:  120285\ncluster:3\n  Number of time series: 19601.0\n  Number of time slots:  1078055\ncluster:4\n  Number of time series: 3493.0\n  Number of time slots:  192115\n",
          "output_type": "stream"
        }
      ],
      "id": "lbihJV9GjR31"
    },
    {
      "cell_type": "code",
      "source": [
        "num_tslots"
      ],
      "metadata": {
        "colab": {
          "base_uri": "https://localhost:8080/"
        },
        "id": "BbMw1c_TjUZ7",
        "outputId": "c612323e-769f-42ef-dca2-8d25e7c0a446",
        "execution": {
          "iopub.status.busy": "2023-11-30T00:27:30.246472Z",
          "iopub.execute_input": "2023-11-30T00:27:30.246768Z",
          "iopub.status.idle": "2023-11-30T00:27:30.256810Z",
          "shell.execute_reply.started": "2023-11-30T00:27:30.246742Z",
          "shell.execute_reply": "2023-11-30T00:27:30.255664Z"
        },
        "trusted": true
      },
      "execution_count": null,
      "outputs": [
        {
          "execution_count": 45,
          "output_type": "execute_result",
          "data": {
            "text/plain": "[601645, 757900, 120285, 1078055, 192115]"
          },
          "metadata": {}
        }
      ],
      "id": "BbMw1c_TjUZ7"
    },
    {
      "cell_type": "code",
      "source": [
        "# Sample clustered DataFrames\n",
        "MAX_CLSTR_SAMPLE_SIZE = min(num_tslots)\n",
        "CLSTR_SAMPLE_SIZE = int(0.99*MAX_CLSTR_SAMPLE_SIZE)\n",
        "print(f\"Cluster Sample size: {CLSTR_SAMPLE_SIZE}\")\n",
        "\n",
        "cluster_dataframes = {}\n",
        "# Iterate each cluster in grp_df_lst_clstr\n",
        "for cluster_id, stock_df in tqdm(grp_df_lst_clstr):\n",
        "    # Group each DataFrame by ['stock_id', 'date_id']\n",
        "    stock_grp_lst, _ = get_grouped_df(stock_df, ['stock_id', 'date_id'])\n",
        "    # Generate Train and Test Dataset per cluster\n",
        "    num_splits = min(len(stock_grp_lst), 10)\n",
        "    dataset_folds = KFold(n_splits=num_splits, shuffle=True, random_state=0)\n",
        "    clstr_XY_train_df_lst = []\n",
        "    clstr_XY_test_df_lst = []\n",
        "    for fold_num, (train_index, test_index) in enumerate(dataset_folds.split(stock_grp_lst)):\n",
        "        clstr_XY_train_df_getter = itemgetter(*list(train_index))(stock_grp_lst)    # check if we can use generators\n",
        "        clstr_XY_test_df_getter = itemgetter(*list(test_index))(stock_grp_lst)\n",
        "        for stock_id, date_id, clstr_XY_train_df_item in clstr_XY_train_df_getter[:CLSTR_SAMPLE_SIZE] :\n",
        "            clstr_XY_train_df_lst.append(clstr_XY_train_df_item)\n",
        "        for stock_id, date_id, clstr_XY_test_df_item in clstr_XY_test_df_getter[:CLSTR_SAMPLE_SIZE//10]:\n",
        "            clstr_XY_test_df_lst.append(clstr_XY_test_df_item)\n",
        "        break # Get one fold\n",
        "    clstr_XY_train_df = pd.concat(clstr_XY_train_df_lst, axis=0)\n",
        "    clstr_XY_test_df = pd.concat(clstr_XY_test_df_lst, axis=0)\n",
        "    if clstr_XY_train_df is not None and clstr_XY_test_df is not None:\n",
        "        cluster_dataframes[cluster_id] = {\n",
        "            \"XY_train\" : clstr_XY_train_df.copy().drop(['cluster_id'], axis=1),\n",
        "            \"XY_test\" : clstr_XY_test_df.copy().drop(['cluster_id'], axis=1),\n",
        "        }\n",
        "    else:\n",
        "        print(f\"we did a boo boo. cluster_id: {cluster_id}\")\n",
        "    # break # Get one cluster"
      ],
      "metadata": {
        "colab": {
          "base_uri": "https://localhost:8080/"
        },
        "id": "Xd3VIjeNjW46",
        "outputId": "66006bbc-e480-4280-83a5-26e0d1d3f3c6",
        "execution": {
          "iopub.status.busy": "2023-11-30T00:27:30.257994Z",
          "iopub.execute_input": "2023-11-30T00:27:30.258375Z",
          "iopub.status.idle": "2023-11-30T00:28:04.068067Z",
          "shell.execute_reply.started": "2023-11-30T00:27:30.258333Z",
          "shell.execute_reply": "2023-11-30T00:28:04.066962Z"
        },
        "trusted": true
      },
      "execution_count": null,
      "outputs": [
        {
          "name": "stdout",
          "text": "Cluster Sample size: 119082\n",
          "output_type": "stream"
        },
        {
          "name": "stderr",
          "text": "  0%|          | 0/5 [00:00<?, ?it/s]\n  0%|          | 0/10939 [00:00<?, ?it/s]\u001b[A\n  0%|          | 1/10939 [00:00<32:50,  5.55it/s]\u001b[A\n 27%|██▋       | 2903/10939 [00:00<00:00, 12838.26it/s]\u001b[A\n 53%|█████▎    | 5808/10939 [00:00<00:00, 19069.67it/s]\u001b[A\n100%|██████████| 10939/10939 [00:00<00:00, 19731.51it/s][A\n 20%|██        | 1/5 [00:06<00:26,  6.64s/it]\n  0%|          | 0/13780 [00:00<?, ?it/s]\u001b[A\n  0%|          | 1/13780 [00:00<52:41,  4.36it/s]\u001b[A\n 21%|██        | 2847/13780 [00:00<00:01, 10922.81it/s]\u001b[A\n 39%|███▊      | 5318/13780 [00:00<00:00, 15803.82it/s]\u001b[A\n 60%|█████▉    | 8219/13780 [00:00<00:00, 20239.14it/s]\u001b[A\n100%|██████████| 13780/13780 [00:00<00:00, 19089.82it/s]\u001b[A\n 40%|████      | 2/5 [00:15<00:23,  7.75s/it]\n  0%|          | 0/2187 [00:00<?, ?it/s]\u001b[A\n100%|██████████| 2187/2187 [00:00<00:00, 20735.16it/s]\u001b[A\n 60%|██████    | 3/5 [00:16<00:09,  4.84s/it]\n  0%|          | 0/19601 [00:00<?, ?it/s]\u001b[A\n  0%|          | 1/19601 [00:00<1:47:56,  3.03it/s]\u001b[A\n 13%|█▎        | 2521/19601 [00:03<00:21, 783.79it/s]\u001b[A\n 28%|██▊       | 5532/19601 [00:03<00:06, 2031.05it/s]\u001b[A\n 44%|████▍     | 8598/19601 [00:03<00:02, 3670.82it/s]\u001b[A\n 59%|█████▉    | 11639/19601 [00:03<00:01, 5689.99it/s]\u001b[A\n 75%|███████▌  | 14724/19601 [00:03<00:00, 8142.09it/s]\u001b[A\n100%|██████████| 19601/19601 [00:03<00:00, 5054.91it/s] \u001b[A\n 80%|████████  | 4/5 [00:31<00:08,  8.87s/it]\n  0%|          | 0/3493 [00:00<?, ?it/s]\u001b[A\n100%|██████████| 3493/3493 [00:00<00:00, 19479.68it/s]\u001b[A\n100%|██████████| 5/5 [00:33<00:00,  6.76s/it]\n",
          "output_type": "stream"
        }
      ],
      "id": "Xd3VIjeNjW46"
    },
    {
      "cell_type": "code",
      "source": [
        "if UNIT_TESTS:\n",
        "    if cluster_dataframes:\n",
        "        cluster_id = 0\n",
        "        print(f\"Cluster #{cluster_id}\")\n",
        "        print(f\"    keys: {cluster_dataframes[cluster_id].keys()}\")\n",
        "        display(cluster_dataframes[cluster_id]['XY_test'].head(2))\n",
        "        print(f\"    columns:{cluster_dataframes[cluster_id]['XY_test'].columns}\")"
      ],
      "metadata": {
        "id": "tcbedRzHKKyb",
        "execution": {
          "iopub.status.busy": "2023-11-30T00:28:04.069678Z",
          "iopub.execute_input": "2023-11-30T00:28:04.070000Z",
          "iopub.status.idle": "2023-11-30T00:28:04.074529Z",
          "shell.execute_reply.started": "2023-11-30T00:28:04.069975Z",
          "shell.execute_reply": "2023-11-30T00:28:04.073803Z"
        },
        "trusted": true
      },
      "execution_count": null,
      "outputs": [],
      "id": "tcbedRzHKKyb"
    },
    {
      "cell_type": "code",
      "source": [
        "def get_transformed_datasets(cluster_dataframes:dict):\n",
        "    transformed_df = {}\n",
        "    for cluster_id, df_data in tqdm(cluster_dataframes.items()):\n",
        "        clstr_XY_train_df = df_data['XY_train']\n",
        "        clstr_XY_test_df = df_data['XY_test']\n",
        "        transformed_df[cluster_id] = {\n",
        "            \"X_train_pp\" : clstr_XY_train_df.drop(['target', 'stock_id', 'date_id', 'seconds_in_bucket'], axis=1),\n",
        "            \"Y_train\" : clstr_XY_train_df.target,\n",
        "            \"X_test_pp\" : clstr_XY_test_df.drop(['target', 'stock_id', 'date_id', 'seconds_in_bucket'], axis=1),\n",
        "            \"Y_test\" : clstr_XY_test_df.target,\n",
        "            }\n",
        "    return transformed_df"
      ],
      "metadata": {
        "id": "QnWXrvMmjR8D",
        "execution": {
          "iopub.status.busy": "2023-11-30T00:28:04.075515Z",
          "iopub.execute_input": "2023-11-30T00:28:04.075788Z",
          "iopub.status.idle": "2023-11-30T00:28:04.092735Z",
          "shell.execute_reply.started": "2023-11-30T00:28:04.075763Z",
          "shell.execute_reply": "2023-11-30T00:28:04.091674Z"
        },
        "trusted": true
      },
      "execution_count": null,
      "outputs": [],
      "id": "QnWXrvMmjR8D"
    },
    {
      "cell_type": "code",
      "source": [
        "cluster_dataframes_tr = get_transformed_datasets(cluster_dataframes)"
      ],
      "metadata": {
        "colab": {
          "base_uri": "https://localhost:8080/"
        },
        "id": "P9dBzL5ujCs3",
        "outputId": "44f4c72a-334c-40f5-ef2e-494ce836b3ad",
        "execution": {
          "iopub.status.busy": "2023-11-30T00:28:04.094098Z",
          "iopub.execute_input": "2023-11-30T00:28:04.094894Z",
          "iopub.status.idle": "2023-11-30T00:28:04.388742Z",
          "shell.execute_reply.started": "2023-11-30T00:28:04.094865Z",
          "shell.execute_reply": "2023-11-30T00:28:04.387691Z"
        },
        "trusted": true
      },
      "execution_count": null,
      "outputs": [
        {
          "name": "stderr",
          "text": "100%|██████████| 5/5 [00:00<00:00, 17.71it/s]\n",
          "output_type": "stream"
        }
      ],
      "id": "P9dBzL5ujCs3"
    },
    {
      "cell_type": "code",
      "source": [
        "if UNIT_TESTS:\n",
        "    cluster_id = 0\n",
        "    print(f\"Cluster #{cluster_id}\")\n",
        "    display(cluster_dataframes_tr[cluster_id]['X_train_pp'])\n",
        "    print(f\"  columns: {cluster_dataframes_tr[cluster_id]['X_train_pp'].columns}\")\n",
        "elif not COMPUTE_TRAINING_METRICS:\n",
        "    # Release memory\n",
        "    del cluster_dataframes"
      ],
      "metadata": {
        "id": "0q9pqxOPqx5Y",
        "execution": {
          "iopub.status.busy": "2023-11-30T00:28:04.390176Z",
          "iopub.execute_input": "2023-11-30T00:28:04.390516Z",
          "iopub.status.idle": "2023-11-30T00:28:04.396085Z",
          "shell.execute_reply.started": "2023-11-30T00:28:04.390487Z",
          "shell.execute_reply": "2023-11-30T00:28:04.394915Z"
        },
        "trusted": true
      },
      "execution_count": null,
      "outputs": [],
      "id": "0q9pqxOPqx5Y"
    },
    {
      "cell_type": "code",
      "source": [
        "print(\"Number of timeslots per cluster:\")\n",
        "for cluster_id, all_dataframes in cluster_dataframes_tr.items():\n",
        "    print(f\"cluster_id: {cluster_id}\")\n",
        "    print(f\"  X_train_pp - {all_dataframes['X_train_pp'].shape[0]}\")\n",
        "    print(f\"  X_test_pp  - {all_dataframes['X_test_pp'].shape[0]}\")"
      ],
      "metadata": {
        "colab": {
          "base_uri": "https://localhost:8080/"
        },
        "id": "9bD1Sgh-0bnT",
        "outputId": "621948d5-6fff-42c7-a1c4-0d6a6356095c",
        "execution": {
          "iopub.status.busy": "2023-11-30T00:28:04.397444Z",
          "iopub.execute_input": "2023-11-30T00:28:04.397765Z",
          "iopub.status.idle": "2023-11-30T00:28:04.408139Z",
          "shell.execute_reply.started": "2023-11-30T00:28:04.397738Z",
          "shell.execute_reply": "2023-11-30T00:28:04.406923Z"
        },
        "trusted": true
      },
      "execution_count": null,
      "outputs": [
        {
          "name": "stdout",
          "text": "Number of timeslots per cluster:\ncluster_id: 0\n  X_train_pp - 541475\n  X_test_pp  - 60170\ncluster_id: 1\n  X_train_pp - 682110\n  X_test_pp  - 75790\ncluster_id: 2\n  X_train_pp - 108240\n  X_test_pp  - 12045\ncluster_id: 3\n  X_train_pp - 970200\n  X_test_pp  - 107855\ncluster_id: 4\n  X_train_pp - 172865\n  X_test_pp  - 19250\n",
          "output_type": "stream"
        }
      ],
      "id": "9bD1Sgh-0bnT"
    },
    {
      "cell_type": "markdown",
      "source": [
        "# Make submission"
      ],
      "metadata": {
        "id": "677e7903"
      },
      "id": "677e7903"
    },
    {
      "cell_type": "code",
      "source": [
        "cluster_dataframes_tr[0].keys()"
      ],
      "metadata": {
        "colab": {
          "base_uri": "https://localhost:8080/"
        },
        "id": "b-rZbq2GqBkU",
        "outputId": "44fb84ee-1bec-418a-caa3-3ea677465ddf",
        "execution": {
          "iopub.status.busy": "2023-11-30T00:28:04.409545Z",
          "iopub.execute_input": "2023-11-30T00:28:04.409905Z",
          "iopub.status.idle": "2023-11-30T00:28:04.418367Z",
          "shell.execute_reply.started": "2023-11-30T00:28:04.409878Z",
          "shell.execute_reply": "2023-11-30T00:28:04.417124Z"
        },
        "trusted": true
      },
      "execution_count": null,
      "outputs": [
        {
          "execution_count": 52,
          "output_type": "execute_result",
          "data": {
            "text/plain": "dict_keys(['X_train_pp', 'Y_train', 'X_test_pp', 'Y_test'])"
          },
          "metadata": {}
        }
      ],
      "id": "b-rZbq2GqBkU"
    },
    {
      "cell_type": "code",
      "source": [
        "def build_train_models(cluster_dataframes_tf:dict):\n",
        "    \"\"\"Train a model for each Time Series Cluster\"\"\"\n",
        "    all_models = {}\n",
        "    ctb_params = dict(iterations=1000,\n",
        "                      learning_rate=0.1,\n",
        "                      depth=8,\n",
        "                      l2_leaf_reg=30,\n",
        "                      bootstrap_type='Bernoulli',\n",
        "                      subsample=0.66,\n",
        "                      loss_function='MAE',\n",
        "                      eval_metric = 'MAE',\n",
        "                      metric_period=100,\n",
        "                      od_type='Iter',\n",
        "                      od_wait=30,\n",
        "                      allow_writing_files=False,\n",
        "                      )\n",
        "    for cluster_id, df_data in tqdm(cluster_dataframes_tf.items()):\n",
        "        X_train_tr = df_data['X_train_pp']\n",
        "        Y_train = df_data['Y_train']\n",
        "        models = {\n",
        "#                 'lr': LinearRegression(),\n",
        "#                 'lgb': lgb.LGBMRegressor(objective='regression_l1', n_estimators=250),\n",
        "                'catboost': CatBoostRegressor(**ctb_params)\n",
        "            }\n",
        "        for name, model in models.items():\n",
        "            print(f'Training {name} model for cluster {cluster_id}')\n",
        "            model.fit(X_train_tr, Y_train.values.ravel())\n",
        "        all_models[cluster_id] = models\n",
        "    return all_models"
      ],
      "metadata": {
        "id": "x-YKdUE899j3",
        "execution": {
          "iopub.status.busy": "2023-11-30T00:28:04.419860Z",
          "iopub.execute_input": "2023-11-30T00:28:04.420173Z",
          "iopub.status.idle": "2023-11-30T00:28:04.428438Z",
          "shell.execute_reply.started": "2023-11-30T00:28:04.420146Z",
          "shell.execute_reply": "2023-11-30T00:28:04.427642Z"
        },
        "trusted": true
      },
      "execution_count": null,
      "outputs": [],
      "id": "x-YKdUE899j3"
    },
    {
      "cell_type": "code",
      "source": [
        "%%time\n",
        "all_models = build_train_models(cluster_dataframes_tr)"
      ],
      "metadata": {
        "colab": {
          "base_uri": "https://localhost:8080/"
        },
        "id": "6hBcUtP8n3P_",
        "outputId": "f2dcdefb-9b74-47fb-e37f-198f4aa9d909",
        "execution": {
          "iopub.status.busy": "2023-11-30T00:28:04.429709Z",
          "iopub.execute_input": "2023-11-30T00:28:04.430007Z",
          "iopub.status.idle": "2023-11-30T00:38:29.236303Z",
          "shell.execute_reply.started": "2023-11-30T00:28:04.429981Z",
          "shell.execute_reply": "2023-11-30T00:38:29.235203Z"
        },
        "trusted": true
      },
      "execution_count": null,
      "outputs": [
        {
          "name": "stderr",
          "text": "  0%|          | 0/5 [00:00<?, ?it/s]",
          "output_type": "stream"
        },
        {
          "name": "stdout",
          "text": "Training catboost model for cluster 0\n0:\tlearn: 6.5756380\ttotal: 249ms\tremaining: 4m 8s\n100:\tlearn: 6.1172157\ttotal: 13.8s\tremaining: 2m 2s\n200:\tlearn: 6.0233538\ttotal: 27.6s\tremaining: 1m 49s\n300:\tlearn: 5.9466370\ttotal: 40.8s\tremaining: 1m 34s\n400:\tlearn: 5.8822843\ttotal: 54.1s\tremaining: 1m 20s\n500:\tlearn: 5.8276980\ttotal: 1m 7s\tremaining: 1m 7s\n600:\tlearn: 5.7770323\ttotal: 1m 20s\tremaining: 53.7s\n700:\tlearn: 5.7292293\ttotal: 1m 34s\tremaining: 40.3s\n800:\tlearn: 5.6868274\ttotal: 1m 47s\tremaining: 26.8s\n900:\tlearn: 5.6457090\ttotal: 2m 1s\tremaining: 13.4s\n",
          "output_type": "stream"
        },
        {
          "name": "stderr",
          "text": " 20%|██        | 1/5 [02:15<09:03, 135.88s/it]",
          "output_type": "stream"
        },
        {
          "name": "stdout",
          "text": "999:\tlearn: 5.6111918\ttotal: 2m 14s\tremaining: 0us\nTraining catboost model for cluster 1\n0:\tlearn: 6.1664697\ttotal: 219ms\tremaining: 3m 38s\n100:\tlearn: 5.7588122\ttotal: 17.2s\tremaining: 2m 32s\n200:\tlearn: 5.6881352\ttotal: 33.5s\tremaining: 2m 13s\n300:\tlearn: 5.6286112\ttotal: 50s\tremaining: 1m 56s\n400:\tlearn: 5.5787066\ttotal: 1m 5s\tremaining: 1m 38s\n500:\tlearn: 5.5330427\ttotal: 1m 22s\tremaining: 1m 22s\n600:\tlearn: 5.4900598\ttotal: 1m 39s\tremaining: 1m 5s\n700:\tlearn: 5.4501708\ttotal: 1m 55s\tremaining: 49.3s\n800:\tlearn: 5.4141995\ttotal: 2m 11s\tremaining: 32.8s\n900:\tlearn: 5.3814997\ttotal: 2m 28s\tremaining: 16.3s\n",
          "output_type": "stream"
        },
        {
          "name": "stderr",
          "text": " 40%|████      | 2/5 [05:01<07:39, 153.33s/it]",
          "output_type": "stream"
        },
        {
          "name": "stdout",
          "text": "999:\tlearn: 5.3512506\ttotal: 2m 44s\tremaining: 0us\nTraining catboost model for cluster 2\n0:\tlearn: 10.9067318\ttotal: 53.7ms\tremaining: 53.6s\n100:\tlearn: 9.6603331\ttotal: 4.12s\tremaining: 36.7s\n200:\tlearn: 9.1770572\ttotal: 8.02s\tremaining: 31.9s\n300:\tlearn: 8.8297321\ttotal: 12.3s\tremaining: 28.7s\n400:\tlearn: 8.5534662\ttotal: 16.3s\tremaining: 24.3s\n500:\tlearn: 8.3185489\ttotal: 20.2s\tremaining: 20.2s\n600:\tlearn: 8.1208507\ttotal: 24.2s\tremaining: 16.1s\n700:\tlearn: 7.9429640\ttotal: 28.2s\tremaining: 12s\n800:\tlearn: 7.7866729\ttotal: 32.2s\tremaining: 8.01s\n900:\tlearn: 7.6417544\ttotal: 36.2s\tremaining: 3.97s\n",
          "output_type": "stream"
        },
        {
          "name": "stderr",
          "text": " 60%|██████    | 3/5 [05:41<03:23, 101.74s/it]",
          "output_type": "stream"
        },
        {
          "name": "stdout",
          "text": "999:\tlearn: 7.5186540\ttotal: 40s\tremaining: 0us\nTraining catboost model for cluster 3\n0:\tlearn: 5.4536125\ttotal: 411ms\tremaining: 6m 50s\n100:\tlearn: 5.1591172\ttotal: 23.5s\tremaining: 3m 29s\n200:\tlearn: 5.1106575\ttotal: 46.9s\tremaining: 3m 6s\n300:\tlearn: 5.0700473\ttotal: 1m 9s\tremaining: 2m 41s\n400:\tlearn: 5.0331233\ttotal: 1m 31s\tremaining: 2m 16s\n500:\tlearn: 5.0018671\ttotal: 1m 54s\tremaining: 1m 53s\n600:\tlearn: 4.9735586\ttotal: 2m 16s\tremaining: 1m 30s\n700:\tlearn: 4.9470581\ttotal: 2m 39s\tremaining: 1m 7s\n800:\tlearn: 4.9218699\ttotal: 3m 1s\tremaining: 45.1s\n900:\tlearn: 4.8993031\ttotal: 3m 24s\tremaining: 22.4s\n",
          "output_type": "stream"
        },
        {
          "name": "stderr",
          "text": " 80%|████████  | 4/5 [09:29<02:31, 151.62s/it]",
          "output_type": "stream"
        },
        {
          "name": "stdout",
          "text": "999:\tlearn: 4.8774927\ttotal: 3m 46s\tremaining: 0us\nTraining catboost model for cluster 4\n0:\tlearn: 9.2075747\ttotal: 70.6ms\tremaining: 1m 10s\n100:\tlearn: 8.3257119\ttotal: 5.6s\tremaining: 49.9s\n200:\tlearn: 8.0352706\ttotal: 10.9s\tremaining: 43.4s\n300:\tlearn: 7.8078002\ttotal: 16.3s\tremaining: 37.8s\n400:\tlearn: 7.6257338\ttotal: 21.6s\tremaining: 32.3s\n500:\tlearn: 7.4690212\ttotal: 27s\tremaining: 26.9s\n600:\tlearn: 7.3258142\ttotal: 32.8s\tremaining: 21.8s\n700:\tlearn: 7.2045377\ttotal: 38.3s\tremaining: 16.3s\n800:\tlearn: 7.1011432\ttotal: 43.7s\tremaining: 10.9s\n900:\tlearn: 7.0001880\ttotal: 49.2s\tremaining: 5.4s\n",
          "output_type": "stream"
        },
        {
          "name": "stderr",
          "text": "100%|██████████| 5/5 [10:24<00:00, 124.96s/it]",
          "output_type": "stream"
        },
        {
          "name": "stdout",
          "text": "999:\tlearn: 6.9141582\ttotal: 54.5s\tremaining: 0us\nCPU times: user 32min 43s, sys: 26.7 s, total: 33min 10s\nWall time: 10min 24s\n",
          "output_type": "stream"
        },
        {
          "name": "stderr",
          "text": "\n",
          "output_type": "stream"
        }
      ],
      "id": "6hBcUtP8n3P_"
    },
    {
      "cell_type": "code",
      "source": [
        "all_models.keys()"
      ],
      "metadata": {
        "colab": {
          "base_uri": "https://localhost:8080/"
        },
        "id": "pjPcGp3XoRIM",
        "outputId": "31d5c920-25f2-426e-e2e2-2b1c120ea9a6",
        "execution": {
          "iopub.status.busy": "2023-11-30T00:38:29.237609Z",
          "iopub.execute_input": "2023-11-30T00:38:29.237928Z",
          "iopub.status.idle": "2023-11-30T00:38:29.244743Z",
          "shell.execute_reply.started": "2023-11-30T00:38:29.237900Z",
          "shell.execute_reply": "2023-11-30T00:38:29.243683Z"
        },
        "trusted": true
      },
      "execution_count": null,
      "outputs": [
        {
          "execution_count": 55,
          "output_type": "execute_result",
          "data": {
            "text/plain": "dict_keys([0, 1, 2, 3, 4])"
          },
          "metadata": {}
        }
      ],
      "id": "pjPcGp3XoRIM"
    },
    {
      "cell_type": "code",
      "source": [
        "if UNIT_TESTS:\n",
        "    x_test_df = cluster_dataframes[0]['XY_test'].drop(['target'], axis=1)\n",
        "    display(x_test_df.head(4))\n",
        "    print(f\"  columns: {x_test_df.columns}\")\n",
        "    print(f\"  Moving average features: {[col_name for col_name in x_test_df.columns if 'sma' in col_name]}\")"
      ],
      "metadata": {
        "id": "pNp9fPUgrJrF",
        "execution": {
          "iopub.status.busy": "2023-11-30T00:38:29.246364Z",
          "iopub.execute_input": "2023-11-30T00:38:29.246707Z",
          "iopub.status.idle": "2023-11-30T00:38:29.256575Z",
          "shell.execute_reply.started": "2023-11-30T00:38:29.246658Z",
          "shell.execute_reply": "2023-11-30T00:38:29.255686Z"
        },
        "trusted": true
      },
      "execution_count": null,
      "outputs": [],
      "id": "pNp9fPUgrJrF"
    },
    {
      "cell_type": "code",
      "source": [
        "def get_ts_cluster_data(target_df_:pd.DataFrame, tseries_columns:list, kmeans_tseries):\n",
        "    \"\"\"\n",
        "    Generate cluster_id for each Time Series grouped by ['stock_id', 'date_id']\n",
        "    \"\"\"\n",
        "    target_df = target_df_.copy()\n",
        "    stocks_tseries_data = []\n",
        "    for k, subdf in tqdm(target_df.groupby(['stock_id', 'date_id'])):\n",
        "        stocks_tseries_data.append(subdf[tseries_columns].values.ravel())\n",
        "        stocks_tseries = np.array(stocks_tseries_data)\n",
        "        if stocks_tseries.shape[1] > len(tseries_columns):\n",
        "            stocks_tseries_transformed = pca.transform(stocks_tseries)\n",
        "        else:\n",
        "            stocks_tseries_transformed = stocks_tseries\n",
        "        cluster_data = kmeans_tseries.predict(stocks_tseries_transformed)\n",
        "        target_df['cluster_id'] = cluster_data[0]\n",
        "    return target_df[['cluster_id']]"
      ],
      "metadata": {
        "id": "5Wy_4dn9sOd1",
        "execution": {
          "iopub.status.busy": "2023-11-30T00:38:29.258107Z",
          "iopub.execute_input": "2023-11-30T00:38:29.258404Z",
          "iopub.status.idle": "2023-11-30T00:38:29.268225Z",
          "shell.execute_reply.started": "2023-11-30T00:38:29.258378Z",
          "shell.execute_reply": "2023-11-30T00:38:29.267290Z"
        },
        "trusted": true
      },
      "execution_count": null,
      "outputs": [],
      "id": "5Wy_4dn9sOd1"
    },
    {
      "cell_type": "code",
      "source": [
        "if UNIT_TESTS:\n",
        "    cluster_data = get_ts_cluster_data(x_test_df, ['ask_price_sma'], kmeans_tseries)\n",
        "    display(cluster_data.head(4))\n",
        "    print(f\"Length of cluster_data: {len(cluster_data)}\")"
      ],
      "metadata": {
        "id": "cWCRA7RK4TC5",
        "execution": {
          "iopub.status.busy": "2023-11-30T00:38:29.269261Z",
          "iopub.execute_input": "2023-11-30T00:38:29.270289Z",
          "iopub.status.idle": "2023-11-30T00:38:29.281776Z",
          "shell.execute_reply.started": "2023-11-30T00:38:29.270260Z",
          "shell.execute_reply": "2023-11-30T00:38:29.280882Z"
        },
        "trusted": true
      },
      "execution_count": null,
      "outputs": [],
      "id": "cWCRA7RK4TC5"
    },
    {
      "cell_type": "code",
      "source": [
        "def get_prediction(X, all_models:dict):\n",
        "    #print(f\"cluster_id: {X['cluster_id']}\")\n",
        "    row_inputs = X.drop(['cluster_id']).to_frame().T\n",
        "    #print(f\"row_inputs: {row_inputs.shape}\")\n",
        "    return np.mean([model.predict(row_inputs) for _, model in all_models[X['cluster_id']].items()])"
      ],
      "metadata": {
        "id": "NMsRxgBPNkCd",
        "execution": {
          "iopub.status.busy": "2023-11-30T00:38:29.282934Z",
          "iopub.execute_input": "2023-11-30T00:38:29.283298Z",
          "iopub.status.idle": "2023-11-30T00:38:29.291878Z",
          "shell.execute_reply.started": "2023-11-30T00:38:29.283272Z",
          "shell.execute_reply": "2023-11-30T00:38:29.291166Z"
        },
        "trusted": true
      },
      "execution_count": null,
      "outputs": [],
      "id": "NMsRxgBPNkCd"
    },
    {
      "cell_type": "code",
      "source": [
        "def get_all_preds(X_inputs:pd.DataFrame, all_models:dict, cluster_data:pd.DataFrame):\n",
        "    # Add cluster information\n",
        "    X_inputs_clstr = pd.concat([cluster_data, X_inputs], axis=1)\n",
        "    return X_inputs_clstr.apply(lambda row: get_prediction(row, all_models), axis=1)"
      ],
      "metadata": {
        "id": "05e136dGJ6SA",
        "execution": {
          "iopub.status.busy": "2023-11-30T00:38:29.293078Z",
          "iopub.execute_input": "2023-11-30T00:38:29.293391Z",
          "iopub.status.idle": "2023-11-30T00:38:29.302193Z",
          "shell.execute_reply.started": "2023-11-30T00:38:29.293332Z",
          "shell.execute_reply": "2023-11-30T00:38:29.301287Z"
        },
        "trusted": true
      },
      "execution_count": null,
      "outputs": [],
      "id": "05e136dGJ6SA"
    },
    {
      "cell_type": "code",
      "source": [
        "%%time\n",
        "# Unit Test\n",
        "if UNIT_TESTS:\n",
        "    x_test_inputs = x_test_df.drop(['stock_id', 'date_id', 'seconds_in_bucket'], axis=1)\n",
        "    print(f\"x_test_inputs.shape: {x_test_inputs.shape}\")\n",
        "    all_preds = get_all_preds(x_test_inputs, all_models, cluster_data)\n",
        "    print(f\"Number of predictions: {len(all_preds)}\")"
      ],
      "metadata": {
        "colab": {
          "base_uri": "https://localhost:8080/"
        },
        "id": "j9DFpU71OBZ9",
        "outputId": "25aa9a7d-7482-4bcf-9bf9-523d92ea2f92",
        "execution": {
          "iopub.status.busy": "2023-11-30T00:38:29.303554Z",
          "iopub.execute_input": "2023-11-30T00:38:29.303911Z",
          "iopub.status.idle": "2023-11-30T00:38:29.313823Z",
          "shell.execute_reply.started": "2023-11-30T00:38:29.303819Z",
          "shell.execute_reply": "2023-11-30T00:38:29.312832Z"
        },
        "trusted": true
      },
      "execution_count": null,
      "outputs": [
        {
          "name": "stdout",
          "text": "CPU times: user 6 µs, sys: 0 ns, total: 6 µs\nWall time: 10 µs\n",
          "output_type": "stream"
        }
      ],
      "id": "j9DFpU71OBZ9"
    },
    {
      "cell_type": "code",
      "source": [
        "%%time\n",
        "if COMPUTE_TRAINING_METRICS:\n",
        "    all_metrics = {}\n",
        "    for cluster_id, datasets in cluster_dataframes.items():\n",
        "        X_test_clstr = datasets['XY_test'].drop(['target'], axis=1)\n",
        "        clstr_y_true = datasets['XY_test'].target\n",
        "        cluster_data = get_ts_cluster_data(X_test_clstr, tseries_columns, kmeans_tseries)\n",
        "        clstr_y_preds = get_all_preds(X_test_clstr.drop(['stock_id', 'date_id', 'seconds_in_bucket'], axis=1), all_models, cluster_data)\n",
        "        all_metrics[cluster_id] = {\"MAE\": mean_absolute_error(clstr_y_true, clstr_y_preds)}\n",
        "    all_errors = [metrics_data[\"MAE\"] for _, metrics_data in all_metrics.items()]\n",
        "    print(f\"Average MAE: {np.mean(all_errors)}\")\n",
        "    print(all_metrics)"
      ],
      "metadata": {
        "colab": {
          "base_uri": "https://localhost:8080/"
        },
        "id": "Em56syGKa20J",
        "outputId": "4a4d8161-a1eb-4f15-e1d1-c7ba6ad7a4ad",
        "execution": {
          "iopub.status.busy": "2023-11-30T00:38:29.315222Z",
          "iopub.execute_input": "2023-11-30T00:38:29.315634Z",
          "iopub.status.idle": "2023-11-30T01:03:16.928990Z",
          "shell.execute_reply.started": "2023-11-30T00:38:29.315607Z",
          "shell.execute_reply": "2023-11-30T01:03:16.928080Z"
        },
        "trusted": true
      },
      "execution_count": null,
      "outputs": [
        {
          "name": "stderr",
          "text": "100%|██████████| 1094/1094 [00:52<00:00, 20.66it/s]\n100%|██████████| 1378/1378 [01:16<00:00, 18.02it/s]\n100%|██████████| 219/219 [00:00<00:00, 692.60it/s]\n100%|██████████| 1961/1961 [02:08<00:00, 15.31it/s]\n100%|██████████| 350/350 [00:04<00:00, 84.45it/s] \n",
          "output_type": "stream"
        },
        {
          "name": "stdout",
          "text": "Average MAE: 7.256611244817909\n{0: {'MAE': 6.362073373681628}, 1: {'MAE': 5.6978156919703045}, 2: {'MAE': 10.303579083397088}, 3: {'MAE': 5.302556966090376}, 4: {'MAE': 8.617031108950155}}\nCPU times: user 31min 8s, sys: 7min 33s, total: 38min 42s\nWall time: 24min 47s\n",
          "output_type": "stream"
        }
      ],
      "id": "Em56syGKa20J"
    },
    {
      "cell_type": "code",
      "source": [
        "# if not is_google_colab():\n",
        "import optiver2023\n",
        "env = optiver2023.make_env()\n",
        "iter_test = env.iter_test()"
      ],
      "metadata": {
        "id": "125e7ca2",
        "execution": {
          "iopub.status.busy": "2023-11-30T01:03:16.930107Z",
          "iopub.execute_input": "2023-11-30T01:03:16.930420Z",
          "iopub.status.idle": "2023-11-30T01:03:16.960389Z",
          "shell.execute_reply.started": "2023-11-30T01:03:16.930394Z",
          "shell.execute_reply": "2023-11-30T01:03:16.959583Z"
        },
        "trusted": true
      },
      "execution_count": null,
      "outputs": [],
      "id": "125e7ca2"
    },
    {
      "cell_type": "code",
      "source": [
        "%%time\n",
        "from sklearn.metrics import mean_absolute_error\n",
        "import pandas as pd\n",
        "\n",
        "if is_google_colab():\n",
        "\n",
        "    # Lists to store true and predicted targets\n",
        "    true_targets = []\n",
        "    predicted_targets = []\n",
        "\n",
        "    for (test, revealed_targets, sample_prediction) in iter_test:\n",
        "        # Get Cluster predictions\n",
        "        cluster_data = get_ts_cluster_data(test, tseries_columns, kmeans_tseries)\n",
        "\n",
        "        # Preprocess test DataFrame\n",
        "        test_pp = pp_pipeline.transform(test)\n",
        "\n",
        "        # Predict target values\n",
        "        predictions = get_all_preds(test_pp.drop(['stock_id', 'date_id', 'seconds_in_bucket'], axis=1), all_models, cluster_data)\n",
        "\n",
        "        # Only take as many predictions and true targets as the minimum of the two\n",
        "        min_len = min(len(predictions), len(revealed_targets))\n",
        "\n",
        "        # Trim down the predictions list so that it is the same size as the revealed targets\n",
        "        current_predictions = predictions[:min_len]\n",
        "        current_true_targets = revealed_targets['revealed_target'].values[:min_len]\n",
        "\n",
        "        # Extend the lists of true targets and predictions with the ones from the current batch\n",
        "        true_targets.extend(current_true_targets)\n",
        "        predicted_targets.extend(current_predictions)\n",
        "\n",
        "        # Make the actual prediction and add to sample_prediction df\n",
        "        sample_prediction['target'] = predictions\n",
        "\n",
        "        # Submit the predictions for this chunk of test data\n",
        "        env.predict(sample_prediction)\n",
        "\n",
        "    if true_targets and predicted_targets:\n",
        "        # Convert lists to dataframes\n",
        "        df_true = pd.DataFrame(true_targets, columns=['true_target'])\n",
        "        df_pred = pd.DataFrame(predicted_targets, columns=['predicted_target'])\n",
        "\n",
        "        # Calculate and print the MAE\n",
        "        mae = mean_absolute_error(df_true.fillna(0), df_pred)\n",
        "        print(\"Mean Absolute Error:\", mae)\n",
        "        # 5.261823197997517\n",
        "    else:\n",
        "        print(\"No targets available to compute metrics.\")"
      ],
      "metadata": {
        "colab": {
          "base_uri": "https://localhost:8080/"
        },
        "id": "sQp63Jd7wwiG",
        "outputId": "06f0e002-d03e-4b89-d7c6-29b9c28e7a5c",
        "execution": {
          "iopub.status.busy": "2023-11-30T01:03:16.961956Z",
          "iopub.execute_input": "2023-11-30T01:03:16.962706Z",
          "iopub.status.idle": "2023-11-30T01:03:16.972898Z",
          "shell.execute_reply.started": "2023-11-30T01:03:16.962675Z",
          "shell.execute_reply": "2023-11-30T01:03:16.972066Z"
        },
        "trusted": true
      },
      "execution_count": null,
      "outputs": [
        {
          "name": "stdout",
          "text": "CPU times: user 0 ns, sys: 249 µs, total: 249 µs\nWall time: 346 µs\n",
          "output_type": "stream"
        }
      ],
      "id": "sQp63Jd7wwiG"
    },
    {
      "cell_type": "code",
      "source": [
        "%%time\n",
        "if not is_google_colab():\n",
        "    cnt = 0\n",
        "    for (test, revealed_targets, sample_prediction) in tqdm(iter_test):\n",
        "        # Preprocess test DataFrame\n",
        "        test_pp = pp_pipeline.transform(test)\n",
        "        # Get Cluster predictions\n",
        "        cluster_data = get_ts_cluster_data(test_pp, tseries_columns, kmeans_tseries)\n",
        "        # Predict target values\n",
        "        sample_prediction['target'] = get_all_preds(test_pp.drop(['stock_id', 'date_id', 'seconds_in_bucket'], axis=1), all_models, cluster_data)\n",
        "        # Submit the predictions for this chunk of test data\n",
        "        env.predict(sample_prediction)\n",
        "        cnt += 1\n",
        "    print(f\"iterations: {cnt}\")"
      ],
      "metadata": {
        "colab": {
          "base_uri": "https://localhost:8080/"
        },
        "id": "b11532c5",
        "outputId": "686592ac-6deb-4168-ae75-cf8d1db2f753",
        "execution": {
          "iopub.status.busy": "2023-11-30T01:03:16.973948Z",
          "iopub.execute_input": "2023-11-30T01:03:16.974867Z",
          "iopub.status.idle": "2023-11-30T01:15:41.150230Z",
          "shell.execute_reply.started": "2023-11-30T01:03:16.974837Z",
          "shell.execute_reply": "2023-11-30T01:15:41.149308Z"
        },
        "trusted": true
      },
      "execution_count": null,
      "outputs": [
        {
          "name": "stderr",
          "text": "0it [00:00, ?it/s]",
          "output_type": "stream"
        },
        {
          "name": "stdout",
          "text": "This version of the API is not optimized and should not be used to estimate the runtime of your code on the hidden test set.\n",
          "output_type": "stream"
        },
        {
          "name": "stderr",
          "text": "\n  0%|          | 0/200 [00:00<?, ?it/s]\u001b[A\n 44%|████▍     | 88/200 [00:00<00:00, 871.44it/s]\u001b[A\n100%|██████████| 200/200 [00:00<00:00, 816.51it/s]\u001b[A\n1it [00:04,  4.84s/it]\n  0%|          | 0/200 [00:00<?, ?it/s]\u001b[A\n 44%|████▍     | 88/200 [00:00<00:00, 874.17it/s]\u001b[A\n100%|██████████| 200/200 [00:00<00:00, 804.51it/s]\u001b[A\n2it [00:09,  4.68s/it]\n  0%|          | 0/200 [00:00<?, ?it/s]\u001b[A\n 43%|████▎     | 86/200 [00:00<00:00, 852.36it/s]\u001b[A\n100%|██████████| 200/200 [00:00<00:00, 808.74it/s]\u001b[A\n3it [00:13,  4.58s/it]\n  0%|          | 0/200 [00:00<?, ?it/s]\u001b[A\n 42%|████▏     | 84/200 [00:00<00:00, 835.43it/s]\u001b[A\n100%|██████████| 200/200 [00:00<00:00, 794.75it/s]\u001b[A\n4it [00:18,  4.54s/it]\n  0%|          | 0/200 [00:00<?, ?it/s]\u001b[A\n 42%|████▏     | 84/200 [00:00<00:00, 837.91it/s]\u001b[A\n100%|██████████| 200/200 [00:00<00:00, 782.91it/s]\u001b[A\n5it [00:22,  4.51s/it]\n  0%|          | 0/200 [00:00<?, ?it/s]\u001b[A\n 44%|████▍     | 88/200 [00:00<00:00, 873.77it/s]\u001b[A\n100%|██████████| 200/200 [00:00<00:00, 810.79it/s]\u001b[A\n6it [00:27,  4.50s/it]\n  0%|          | 0/200 [00:00<?, ?it/s]\u001b[A\n 44%|████▎     | 87/200 [00:00<00:00, 860.88it/s]\u001b[A\n100%|██████████| 200/200 [00:00<00:00, 753.25it/s]\u001b[A\n7it [00:31,  4.48s/it]\n  0%|          | 0/200 [00:00<?, ?it/s]\u001b[A\n 44%|████▍     | 88/200 [00:00<00:00, 876.98it/s]\u001b[A\n100%|██████████| 200/200 [00:00<00:00, 819.16it/s]\u001b[A\n8it [00:36,  4.48s/it]\n  0%|          | 0/200 [00:00<?, ?it/s]\u001b[A\n 41%|████      | 82/200 [00:00<00:00, 818.31it/s]\u001b[A\n100%|██████████| 200/200 [00:00<00:00, 772.81it/s]\u001b[A\n9it [00:40,  4.53s/it]\n  0%|          | 0/200 [00:00<?, ?it/s]\u001b[A\n 44%|████▎     | 87/200 [00:00<00:00, 865.73it/s]\u001b[A\n100%|██████████| 200/200 [00:00<00:00, 800.77it/s]\u001b[A\n10it [00:45,  4.51s/it]\n  0%|          | 0/200 [00:00<?, ?it/s]\u001b[A\n 44%|████▍     | 88/200 [00:00<00:00, 878.32it/s]\u001b[A\n100%|██████████| 200/200 [00:00<00:00, 820.42it/s]\u001b[A\n11it [00:49,  4.49s/it]\n  0%|          | 0/200 [00:00<?, ?it/s]\u001b[A\n 44%|████▍     | 89/200 [00:00<00:00, 883.35it/s]\u001b[A\n100%|██████████| 200/200 [00:00<00:00, 814.05it/s]\u001b[A\n12it [00:54,  4.49s/it]\n  0%|          | 0/200 [00:00<?, ?it/s]\u001b[A\n 44%|████▍     | 88/200 [00:00<00:00, 874.89it/s]\u001b[A\n100%|██████████| 200/200 [00:00<00:00, 811.40it/s]\u001b[A\n13it [00:58,  4.48s/it]\n  0%|          | 0/200 [00:00<?, ?it/s]\u001b[A\n 44%|████▍     | 89/200 [00:00<00:00, 889.59it/s]\u001b[A\n100%|██████████| 200/200 [00:00<00:00, 820.58it/s]\u001b[A\n14it [01:03,  4.49s/it]\n  0%|          | 0/200 [00:00<?, ?it/s]\u001b[A\n 44%|████▍     | 88/200 [00:00<00:00, 872.26it/s]\u001b[A\n100%|██████████| 200/200 [00:00<00:00, 801.98it/s]\u001b[A\n15it [01:07,  4.47s/it]\n  0%|          | 0/200 [00:00<?, ?it/s]\u001b[A\n 44%|████▍     | 89/200 [00:00<00:00, 887.32it/s]\u001b[A\n100%|██████████| 200/200 [00:00<00:00, 806.35it/s]\u001b[A\n16it [01:12,  4.53s/it]\n  0%|          | 0/200 [00:00<?, ?it/s]\u001b[A\n 44%|████▍     | 88/200 [00:00<00:00, 878.25it/s]\u001b[A\n100%|██████████| 200/200 [00:00<00:00, 804.35it/s]\u001b[A\n17it [01:16,  4.52s/it]\n  0%|          | 0/200 [00:00<?, ?it/s]\u001b[A\n 44%|████▎     | 87/200 [00:00<00:00, 865.30it/s]\u001b[A\n100%|██████████| 200/200 [00:00<00:00, 799.27it/s]\u001b[A\n18it [01:21,  4.52s/it]\n  0%|          | 0/200 [00:00<?, ?it/s]\u001b[A\n 44%|████▍     | 89/200 [00:00<00:00, 880.23it/s]\u001b[A\n100%|██████████| 200/200 [00:00<00:00, 819.36it/s]\u001b[A\n19it [01:25,  4.50s/it]\n  0%|          | 0/200 [00:00<?, ?it/s]\u001b[A\n 42%|████▏     | 83/200 [00:00<00:00, 821.24it/s]\u001b[A\n100%|██████████| 200/200 [00:00<00:00, 781.97it/s]\u001b[A\n20it [01:30,  4.50s/it]\n  0%|          | 0/200 [00:00<?, ?it/s]\u001b[A\n 44%|████▎     | 87/200 [00:00<00:00, 863.79it/s]\u001b[A\n100%|██████████| 200/200 [00:00<00:00, 809.30it/s]\u001b[A\n21it [01:34,  4.51s/it]\n  0%|          | 0/200 [00:00<?, ?it/s]\u001b[A\n 44%|████▎     | 87/200 [00:00<00:00, 867.08it/s]\u001b[A\n100%|██████████| 200/200 [00:00<00:00, 811.42it/s]\u001b[A\n22it [01:39,  4.52s/it]\n  0%|          | 0/200 [00:00<?, ?it/s]\u001b[A\n 44%|████▍     | 88/200 [00:00<00:00, 874.26it/s]\u001b[A\n100%|██████████| 200/200 [00:00<00:00, 816.06it/s]\u001b[A\n23it [01:43,  4.54s/it]\n  0%|          | 0/200 [00:00<?, ?it/s]\u001b[A\n 44%|████▎     | 87/200 [00:00<00:00, 860.40it/s]\u001b[A\n100%|██████████| 200/200 [00:00<00:00, 792.12it/s]\u001b[A\n24it [01:48,  4.52s/it]\n  0%|          | 0/200 [00:00<?, ?it/s]\u001b[A\n 44%|████▎     | 87/200 [00:00<00:00, 867.55it/s]\u001b[A\n100%|██████████| 200/200 [00:00<00:00, 813.76it/s]\u001b[A\n25it [01:52,  4.51s/it]\n  0%|          | 0/200 [00:00<?, ?it/s]\u001b[A\n 44%|████▎     | 87/200 [00:00<00:00, 868.72it/s]\u001b[A\n100%|██████████| 200/200 [00:00<00:00, 809.80it/s]\u001b[A\n26it [01:57,  4.50s/it]\n  0%|          | 0/200 [00:00<?, ?it/s]\u001b[A\n 42%|████▏     | 83/200 [00:00<00:00, 827.98it/s]\u001b[A\n100%|██████████| 200/200 [00:00<00:00, 793.72it/s]\u001b[A\n27it [02:01,  4.50s/it]\n  0%|          | 0/200 [00:00<?, ?it/s]\u001b[A\n 44%|████▍     | 89/200 [00:00<00:00, 883.78it/s]\u001b[A\n100%|██████████| 200/200 [00:00<00:00, 812.92it/s]\u001b[A\n28it [02:06,  4.49s/it]\n  0%|          | 0/200 [00:00<?, ?it/s]\u001b[A\n 43%|████▎     | 86/200 [00:00<00:00, 854.28it/s]\u001b[A\n100%|██████████| 200/200 [00:00<00:00, 797.25it/s]\u001b[A\n29it [02:10,  4.49s/it]\n  0%|          | 0/200 [00:00<?, ?it/s]\u001b[A\n 43%|████▎     | 86/200 [00:00<00:00, 859.25it/s]\u001b[A\n100%|██████████| 200/200 [00:00<00:00, 801.58it/s]\u001b[A\n30it [02:15,  4.49s/it]\n  0%|          | 0/200 [00:00<?, ?it/s]\u001b[A\n 43%|████▎     | 86/200 [00:00<00:00, 852.09it/s]\u001b[A\n100%|██████████| 200/200 [00:00<00:00, 800.88it/s]\u001b[A\n31it [02:19,  4.48s/it]\n  0%|          | 0/200 [00:00<?, ?it/s]\u001b[A\n 44%|████▎     | 87/200 [00:00<00:00, 862.10it/s]\u001b[A\n100%|██████████| 200/200 [00:00<00:00, 803.92it/s]\u001b[A\n32it [02:24,  4.49s/it]\n  0%|          | 0/200 [00:00<?, ?it/s]\u001b[A\n 44%|████▍     | 88/200 [00:00<00:00, 872.56it/s]\u001b[A\n100%|██████████| 200/200 [00:00<00:00, 810.16it/s]\u001b[A\n33it [02:28,  4.48s/it]\n  0%|          | 0/200 [00:00<?, ?it/s]\u001b[A\n 43%|████▎     | 86/200 [00:00<00:00, 858.79it/s]\u001b[A\n100%|██████████| 200/200 [00:00<00:00, 808.54it/s]\u001b[A\n34it [02:33,  4.48s/it]\n  0%|          | 0/200 [00:00<?, ?it/s]\u001b[A\n 44%|████▍     | 89/200 [00:00<00:00, 882.04it/s]\u001b[A\n100%|██████████| 200/200 [00:00<00:00, 803.49it/s]\u001b[A\n35it [02:37,  4.48s/it]\n  0%|          | 0/200 [00:00<?, ?it/s]\u001b[A\n 44%|████▍     | 88/200 [00:00<00:00, 873.36it/s]\u001b[A\n100%|██████████| 200/200 [00:00<00:00, 816.24it/s]\u001b[A\n36it [02:42,  4.47s/it]\n  0%|          | 0/200 [00:00<?, ?it/s]\u001b[A\n 44%|████▍     | 89/200 [00:00<00:00, 879.79it/s]\u001b[A\n100%|██████████| 200/200 [00:00<00:00, 809.30it/s]\u001b[A\n37it [02:46,  4.48s/it]\n  0%|          | 0/200 [00:00<?, ?it/s]\u001b[A\n 43%|████▎     | 86/200 [00:00<00:00, 850.29it/s]\u001b[A\n100%|██████████| 200/200 [00:00<00:00, 784.87it/s]\u001b[A\n38it [02:51,  4.49s/it]\n  0%|          | 0/200 [00:00<?, ?it/s]\u001b[A\n 43%|████▎     | 86/200 [00:00<00:00, 857.83it/s]\u001b[A\n100%|██████████| 200/200 [00:00<00:00, 802.32it/s]\u001b[A\n39it [02:55,  4.48s/it]\n  0%|          | 0/200 [00:00<?, ?it/s]\u001b[A\n 44%|████▎     | 87/200 [00:00<00:00, 868.47it/s]\u001b[A\n100%|██████████| 200/200 [00:00<00:00, 812.57it/s]\u001b[A\n40it [03:00,  4.46s/it]\n  0%|          | 0/200 [00:00<?, ?it/s]\u001b[A\n 44%|████▍     | 89/200 [00:00<00:00, 882.17it/s]\u001b[A\n100%|██████████| 200/200 [00:00<00:00, 822.79it/s]\u001b[A\n41it [03:04,  4.46s/it]\n  0%|          | 0/200 [00:00<?, ?it/s]\u001b[A\n 43%|████▎     | 86/200 [00:00<00:00, 858.99it/s]\u001b[A\n100%|██████████| 200/200 [00:00<00:00, 804.75it/s]\u001b[A\n42it [03:08,  4.46s/it]\n  0%|          | 0/200 [00:00<?, ?it/s]\u001b[A\n 44%|████▎     | 87/200 [00:00<00:00, 861.00it/s]\u001b[A\n100%|██████████| 200/200 [00:00<00:00, 814.87it/s]\u001b[A\n43it [03:13,  4.46s/it]\n  0%|          | 0/200 [00:00<?, ?it/s]\u001b[A\n 42%|████▏     | 83/200 [00:00<00:00, 823.58it/s]\u001b[A\n100%|██████████| 200/200 [00:00<00:00, 779.38it/s]\u001b[A\n44it [03:18,  4.54s/it]\n  0%|          | 0/200 [00:00<?, ?it/s]\u001b[A\n 44%|████▎     | 87/200 [00:00<00:00, 868.20it/s]\u001b[A\n100%|██████████| 200/200 [00:00<00:00, 812.07it/s]\u001b[A\n45it [03:22,  4.51s/it]\n  0%|          | 0/200 [00:00<?, ?it/s]\u001b[A\n 44%|████▍     | 88/200 [00:00<00:00, 874.40it/s]\u001b[A\n100%|██████████| 200/200 [00:00<00:00, 816.42it/s]\u001b[A\n46it [03:27,  4.50s/it]\n  0%|          | 0/200 [00:00<?, ?it/s]\u001b[A\n 44%|████▎     | 87/200 [00:00<00:00, 867.57it/s]\u001b[A\n100%|██████████| 200/200 [00:00<00:00, 806.36it/s]\u001b[A\n47it [03:31,  4.50s/it]\n  0%|          | 0/200 [00:00<?, ?it/s]\u001b[A\n 44%|████▎     | 87/200 [00:00<00:00, 869.69it/s]\u001b[A\n100%|██████████| 200/200 [00:00<00:00, 802.92it/s]\u001b[A\n48it [03:36,  4.49s/it]\n  0%|          | 0/200 [00:00<?, ?it/s]\u001b[A\n 44%|████▍     | 88/200 [00:00<00:00, 873.93it/s]\u001b[A\n100%|██████████| 200/200 [00:00<00:00, 815.54it/s]\u001b[A\n49it [03:40,  4.47s/it]\n  0%|          | 0/200 [00:00<?, ?it/s]\u001b[A\n 44%|████▎     | 87/200 [00:00<00:00, 869.93it/s]\u001b[A\n100%|██████████| 200/200 [00:00<00:00, 816.28it/s]\u001b[A\n50it [03:44,  4.47s/it]\n  0%|          | 0/200 [00:00<?, ?it/s]\u001b[A\n 44%|████▍     | 88/200 [00:00<00:00, 876.87it/s]\u001b[A\n100%|██████████| 200/200 [00:00<00:00, 799.65it/s]\u001b[A\n51it [03:49,  4.53s/it]\n  0%|          | 0/200 [00:00<?, ?it/s]\u001b[A\n 43%|████▎     | 86/200 [00:00<00:00, 855.50it/s]\u001b[A\n100%|██████████| 200/200 [00:00<00:00, 808.08it/s]\u001b[A\n52it [03:54,  4.52s/it]\n  0%|          | 0/200 [00:00<?, ?it/s]\u001b[A\n 44%|████▍     | 89/200 [00:00<00:00, 884.08it/s]\u001b[A\n100%|██████████| 200/200 [00:00<00:00, 822.48it/s]\u001b[A\n53it [03:58,  4.50s/it]\n  0%|          | 0/200 [00:00<?, ?it/s]\u001b[A\n 44%|████▍     | 88/200 [00:00<00:00, 874.05it/s]\u001b[A\n100%|██████████| 200/200 [00:00<00:00, 815.37it/s]\u001b[A\n54it [04:03,  4.49s/it]\n  0%|          | 0/200 [00:00<?, ?it/s]\u001b[A\n 42%|████▏     | 83/200 [00:00<00:00, 820.98it/s]\u001b[A\n100%|██████████| 200/200 [00:00<00:00, 791.79it/s]\u001b[A\n55it [04:07,  4.48s/it]\n  0%|          | 0/200 [00:00<?, ?it/s]\u001b[A\n 42%|████▎     | 85/200 [00:00<00:00, 843.33it/s]\u001b[A\n100%|██████████| 200/200 [00:00<00:00, 771.49it/s]\u001b[A\n56it [04:11,  4.48s/it]\n  0%|          | 0/200 [00:00<?, ?it/s]\u001b[A\n 44%|████▎     | 87/200 [00:00<00:00, 867.36it/s]\u001b[A\n100%|██████████| 200/200 [00:00<00:00, 808.09it/s]\u001b[A\n57it [04:16,  4.46s/it]\n  0%|          | 0/200 [00:00<?, ?it/s]\u001b[A\n 44%|████▍     | 88/200 [00:00<00:00, 874.60it/s]\u001b[A\n100%|██████████| 200/200 [00:00<00:00, 812.08it/s]\u001b[A\n58it [04:20,  4.47s/it]\n  0%|          | 0/200 [00:00<?, ?it/s]\u001b[A\n 42%|████▏     | 84/200 [00:00<00:00, 836.66it/s]\u001b[A\n100%|██████████| 200/200 [00:00<00:00, 796.10it/s]\u001b[A\n59it [04:25,  4.47s/it]\n  0%|          | 0/200 [00:00<?, ?it/s]\u001b[A\n 42%|████▎     | 85/200 [00:00<00:00, 840.25it/s]\u001b[A\n100%|██████████| 200/200 [00:00<00:00, 794.61it/s]\u001b[A\n60it [04:29,  4.47s/it]\n  0%|          | 0/200 [00:00<?, ?it/s]\u001b[A\n 44%|████▎     | 87/200 [00:00<00:00, 867.83it/s]\u001b[A\n100%|██████████| 200/200 [00:00<00:00, 810.60it/s]\u001b[A\n61it [04:34,  4.47s/it]\n  0%|          | 0/200 [00:00<?, ?it/s]\u001b[A\n 44%|████▍     | 88/200 [00:00<00:00, 872.51it/s]\u001b[A\n100%|██████████| 200/200 [00:00<00:00, 810.10it/s]\u001b[A\n62it [04:38,  4.46s/it]\n  0%|          | 0/200 [00:00<?, ?it/s]\u001b[A\n 44%|████▍     | 89/200 [00:00<00:00, 879.92it/s]\u001b[A\n100%|██████████| 200/200 [00:00<00:00, 820.12it/s]\u001b[A\n63it [04:43,  4.46s/it]\n  0%|          | 0/200 [00:00<?, ?it/s]\u001b[A\n 44%|████▎     | 87/200 [00:00<00:00, 863.65it/s]\u001b[A\n100%|██████████| 200/200 [00:00<00:00, 806.23it/s]\u001b[A\n64it [04:47,  4.46s/it]\n  0%|          | 0/200 [00:00<?, ?it/s]\u001b[A\n 44%|████▎     | 87/200 [00:00<00:00, 858.22it/s]\u001b[A\n100%|██████████| 200/200 [00:00<00:00, 806.24it/s]\u001b[A\n65it [04:52,  4.52s/it]\n  0%|          | 0/200 [00:00<?, ?it/s]\u001b[A\n 44%|████▍     | 89/200 [00:00<00:00, 881.30it/s]\u001b[A\n100%|██████████| 200/200 [00:00<00:00, 814.04it/s]\u001b[A\n66it [04:56,  4.51s/it]\n  0%|          | 0/200 [00:00<?, ?it/s]\u001b[A\n 43%|████▎     | 86/200 [00:00<00:00, 859.40it/s]\u001b[A\n100%|██████████| 200/200 [00:00<00:00, 793.95it/s]\u001b[A\n67it [05:01,  4.50s/it]\n  0%|          | 0/200 [00:00<?, ?it/s]\u001b[A\n 42%|████▎     | 85/200 [00:00<00:00, 847.25it/s]\u001b[A\n100%|██████████| 200/200 [00:00<00:00, 800.70it/s]\u001b[A\n68it [05:05,  4.49s/it]\n  0%|          | 0/200 [00:00<?, ?it/s]\u001b[A\n 43%|████▎     | 86/200 [00:00<00:00, 859.41it/s]\u001b[A\n100%|██████████| 200/200 [00:00<00:00, 804.46it/s]\u001b[A\n69it [05:10,  4.48s/it]\n  0%|          | 0/200 [00:00<?, ?it/s]\u001b[A\n 44%|████▍     | 88/200 [00:00<00:00, 870.34it/s]\u001b[A\n100%|██████████| 200/200 [00:00<00:00, 811.21it/s]\u001b[A\n70it [05:14,  4.47s/it]\n  0%|          | 0/200 [00:00<?, ?it/s]\u001b[A\n 44%|████▍     | 88/200 [00:00<00:00, 874.50it/s]\u001b[A\n100%|██████████| 200/200 [00:00<00:00, 815.19it/s]\u001b[A\n71it [05:19,  4.45s/it]\n  0%|          | 0/200 [00:00<?, ?it/s]\u001b[A\n 35%|███▌      | 70/200 [00:00<00:00, 699.58it/s]\u001b[A\n100%|██████████| 200/200 [00:00<00:00, 674.82it/s]\u001b[A\n72it [05:23,  4.50s/it]\n  0%|          | 0/200 [00:00<?, ?it/s]\u001b[A\n 44%|████▎     | 87/200 [00:00<00:00, 862.95it/s]\u001b[A\n100%|██████████| 200/200 [00:00<00:00, 809.86it/s]\u001b[A\n73it [05:28,  4.49s/it]\n  0%|          | 0/200 [00:00<?, ?it/s]\u001b[A\n 43%|████▎     | 86/200 [00:00<00:00, 855.34it/s]\u001b[A\n100%|██████████| 200/200 [00:00<00:00, 800.49it/s]\u001b[A\n74it [05:32,  4.49s/it]\n  0%|          | 0/200 [00:00<?, ?it/s]\u001b[A\n 42%|████▏     | 83/200 [00:00<00:00, 825.99it/s]\u001b[A\n100%|██████████| 200/200 [00:00<00:00, 796.97it/s]\u001b[A\n75it [05:37,  4.48s/it]\n  0%|          | 0/200 [00:00<?, ?it/s]\u001b[A\n 44%|████▎     | 87/200 [00:00<00:00, 868.05it/s]\u001b[A\n100%|██████████| 200/200 [00:00<00:00, 802.10it/s]\u001b[A\n76it [05:41,  4.47s/it]\n  0%|          | 0/200 [00:00<?, ?it/s]\u001b[A\n 44%|████▎     | 87/200 [00:00<00:00, 869.15it/s]\u001b[A\n100%|██████████| 200/200 [00:00<00:00, 812.58it/s]\u001b[A\n77it [05:45,  4.47s/it]\n  0%|          | 0/200 [00:00<?, ?it/s]\u001b[A\n 42%|████▎     | 85/200 [00:00<00:00, 849.79it/s]\u001b[A\n100%|██████████| 200/200 [00:00<00:00, 807.41it/s]\u001b[A\n78it [05:50,  4.48s/it]\n  0%|          | 0/200 [00:00<?, ?it/s]\u001b[A\n 44%|████▎     | 87/200 [00:00<00:00, 859.84it/s]\u001b[A\n100%|██████████| 200/200 [00:00<00:00, 799.37it/s]\u001b[A\n79it [05:55,  4.50s/it]\n  0%|          | 0/200 [00:00<?, ?it/s]\u001b[A\n 43%|████▎     | 86/200 [00:00<00:00, 859.71it/s]\u001b[A\n100%|██████████| 200/200 [00:00<00:00, 796.89it/s]\u001b[A\n80it [05:59,  4.48s/it]\n  0%|          | 0/200 [00:00<?, ?it/s]\u001b[A\n 44%|████▎     | 87/200 [00:00<00:00, 866.50it/s]\u001b[A\n100%|██████████| 200/200 [00:00<00:00, 812.20it/s]\u001b[A\n81it [06:03,  4.49s/it]\n  0%|          | 0/200 [00:00<?, ?it/s]\u001b[A\n 45%|████▌     | 90/200 [00:00<00:00, 895.02it/s]\u001b[A\n100%|██████████| 200/200 [00:00<00:00, 836.26it/s]\u001b[A\n82it [06:08,  4.48s/it]\n  0%|          | 0/200 [00:00<?, ?it/s]\u001b[A\n 44%|████▍     | 88/200 [00:00<00:00, 874.24it/s]\u001b[A\n100%|██████████| 200/200 [00:00<00:00, 820.87it/s]\u001b[A\n83it [06:12,  4.48s/it]\n  0%|          | 0/200 [00:00<?, ?it/s]\u001b[A\n 44%|████▎     | 87/200 [00:00<00:00, 861.33it/s]\u001b[A\n100%|██████████| 200/200 [00:00<00:00, 815.43it/s]\u001b[A\n84it [06:17,  4.48s/it]\n  0%|          | 0/200 [00:00<?, ?it/s]\u001b[A\n 40%|████      | 80/200 [00:00<00:00, 796.91it/s]\u001b[A\n100%|██████████| 200/200 [00:00<00:00, 785.39it/s]\u001b[A\n85it [06:21,  4.48s/it]\n  0%|          | 0/200 [00:00<?, ?it/s]\u001b[A\n 44%|████▎     | 87/200 [00:00<00:00, 860.84it/s]\u001b[A\n100%|██████████| 200/200 [00:00<00:00, 801.50it/s]\u001b[A\n86it [06:26,  4.49s/it]\n  0%|          | 0/200 [00:00<?, ?it/s]\u001b[A\n 43%|████▎     | 86/200 [00:00<00:00, 857.58it/s]\u001b[A\n100%|██████████| 200/200 [00:00<00:00, 805.86it/s]\u001b[A\n87it [06:30,  4.50s/it]\n  0%|          | 0/200 [00:00<?, ?it/s]\u001b[A\n 44%|████▎     | 87/200 [00:00<00:00, 869.70it/s]\u001b[A\n100%|██████████| 200/200 [00:00<00:00, 808.28it/s]\u001b[A\n88it [06:35,  4.48s/it]\n  0%|          | 0/200 [00:00<?, ?it/s]\u001b[A\n 42%|████▏     | 84/200 [00:00<00:00, 839.72it/s]\u001b[A\n100%|██████████| 200/200 [00:00<00:00, 794.58it/s]\u001b[A\n89it [06:39,  4.48s/it]\n  0%|          | 0/200 [00:00<?, ?it/s]\u001b[A\n 44%|████▎     | 87/200 [00:00<00:00, 862.72it/s]\u001b[A\n100%|██████████| 200/200 [00:00<00:00, 791.06it/s]\u001b[A\n90it [06:44,  4.49s/it]\n  0%|          | 0/200 [00:00<?, ?it/s]\u001b[A\n 40%|████      | 81/200 [00:00<00:00, 809.32it/s]\u001b[A\n100%|██████████| 200/200 [00:00<00:00, 785.73it/s]\u001b[A\n91it [06:48,  4.49s/it]\n  0%|          | 0/200 [00:00<?, ?it/s]\u001b[A\n 44%|████▍     | 88/200 [00:00<00:00, 875.83it/s]\u001b[A\n100%|██████████| 200/200 [00:00<00:00, 818.03it/s]\u001b[A\n92it [06:53,  4.49s/it]\n  0%|          | 0/200 [00:00<?, ?it/s]\u001b[A\n 42%|████▏     | 83/200 [00:00<00:00, 828.14it/s]\u001b[A\n100%|██████████| 200/200 [00:00<00:00, 775.95it/s]\u001b[A\n93it [06:57,  4.50s/it]\n  0%|          | 0/200 [00:00<?, ?it/s]\u001b[A\n 43%|████▎     | 86/200 [00:00<00:00, 845.67it/s]\u001b[A\n100%|██████████| 200/200 [00:00<00:00, 800.73it/s]\u001b[A\n94it [07:02,  4.51s/it]\n  0%|          | 0/200 [00:00<?, ?it/s]\u001b[A\n 44%|████▍     | 88/200 [00:00<00:00, 878.53it/s]\u001b[A\n100%|██████████| 200/200 [00:00<00:00, 801.55it/s]\u001b[A\n95it [07:06,  4.50s/it]\n  0%|          | 0/200 [00:00<?, ?it/s]\u001b[A\n 44%|████▎     | 87/200 [00:00<00:00, 863.08it/s]\u001b[A\n100%|██████████| 200/200 [00:00<00:00, 805.81it/s]\u001b[A\n96it [07:11,  4.50s/it]\n  0%|          | 0/200 [00:00<?, ?it/s]\u001b[A\n 44%|████▎     | 87/200 [00:00<00:00, 860.90it/s]\u001b[A\n100%|██████████| 200/200 [00:00<00:00, 783.88it/s]\u001b[A\n97it [07:15,  4.50s/it]\n  0%|          | 0/200 [00:00<?, ?it/s]\u001b[A\n 44%|████▍     | 88/200 [00:00<00:00, 876.18it/s]\u001b[A\n100%|██████████| 200/200 [00:00<00:00, 810.96it/s]\u001b[A\n98it [07:20,  4.49s/it]\n  0%|          | 0/200 [00:00<?, ?it/s]\u001b[A\n 44%|████▎     | 87/200 [00:00<00:00, 860.99it/s]\u001b[A\n100%|██████████| 200/200 [00:00<00:00, 801.16it/s]\u001b[A\n99it [07:24,  4.50s/it]\n  0%|          | 0/200 [00:00<?, ?it/s]\u001b[A\n 43%|████▎     | 86/200 [00:00<00:00, 857.53it/s]\u001b[A\n100%|██████████| 200/200 [00:00<00:00, 798.03it/s]\u001b[A\n100it [07:29,  4.53s/it]\n  0%|          | 0/200 [00:00<?, ?it/s]\u001b[A\n 42%|████▎     | 85/200 [00:00<00:00, 848.02it/s]\u001b[A\n100%|██████████| 200/200 [00:00<00:00, 798.41it/s]\u001b[A\n101it [07:33,  4.53s/it]\n  0%|          | 0/200 [00:00<?, ?it/s]\u001b[A\n 44%|████▎     | 87/200 [00:00<00:00, 869.30it/s]\u001b[A\n100%|██████████| 200/200 [00:00<00:00, 812.04it/s]\u001b[A\n102it [07:38,  4.52s/it]\n  0%|          | 0/200 [00:00<?, ?it/s]\u001b[A\n 44%|████▍     | 88/200 [00:00<00:00, 875.09it/s]\u001b[A\n100%|██████████| 200/200 [00:00<00:00, 798.70it/s]\u001b[A\n103it [07:42,  4.53s/it]\n  0%|          | 0/200 [00:00<?, ?it/s]\u001b[A\n 44%|████▎     | 87/200 [00:00<00:00, 867.67it/s]\u001b[A\n100%|██████████| 200/200 [00:00<00:00, 811.24it/s]\u001b[A\n104it [07:47,  4.52s/it]\n  0%|          | 0/200 [00:00<?, ?it/s]\u001b[A\n 42%|████▏     | 84/200 [00:00<00:00, 839.88it/s]\u001b[A\n100%|██████████| 200/200 [00:00<00:00, 792.28it/s]\u001b[A\n105it [07:52,  4.53s/it]\n  0%|          | 0/200 [00:00<?, ?it/s]\u001b[A\n 43%|████▎     | 86/200 [00:00<00:00, 850.96it/s]\u001b[A\n100%|██████████| 200/200 [00:00<00:00, 808.21it/s]\u001b[A\n106it [07:56,  4.53s/it]\n  0%|          | 0/200 [00:00<?, ?it/s]\u001b[A\n 43%|████▎     | 86/200 [00:00<00:00, 853.05it/s]\u001b[A\n100%|██████████| 200/200 [00:00<00:00, 810.92it/s]\u001b[A\n107it [08:01,  4.53s/it]\n  0%|          | 0/200 [00:00<?, ?it/s]\u001b[A\n 42%|████▏     | 84/200 [00:00<00:00, 835.49it/s]\u001b[A\n100%|██████████| 200/200 [00:00<00:00, 798.37it/s]\u001b[A\n108it [08:05,  4.52s/it]\n  0%|          | 0/200 [00:00<?, ?it/s]\u001b[A\n 42%|████▏     | 84/200 [00:00<00:00, 830.94it/s]\u001b[A\n100%|██████████| 200/200 [00:00<00:00, 792.17it/s]\u001b[A\n109it [08:10,  4.51s/it]\n  0%|          | 0/200 [00:00<?, ?it/s]\u001b[A\n 44%|████▍     | 88/200 [00:00<00:00, 871.96it/s]\u001b[A\n100%|██████████| 200/200 [00:00<00:00, 809.98it/s]\u001b[A\n110it [08:14,  4.51s/it]\n  0%|          | 0/200 [00:00<?, ?it/s]\u001b[A\n 43%|████▎     | 86/200 [00:00<00:00, 850.53it/s]\u001b[A\n100%|██████████| 200/200 [00:00<00:00, 812.52it/s]\u001b[A\n111it [08:19,  4.51s/it]\n  0%|          | 0/200 [00:00<?, ?it/s]\u001b[A\n 44%|████▎     | 87/200 [00:00<00:00, 868.47it/s]\u001b[A\n100%|██████████| 200/200 [00:00<00:00, 794.72it/s]\u001b[A\n112it [08:23,  4.51s/it]\n  0%|          | 0/200 [00:00<?, ?it/s]\u001b[A\n 42%|████▎     | 85/200 [00:00<00:00, 841.11it/s]\u001b[A\n100%|██████████| 200/200 [00:00<00:00, 796.06it/s]\u001b[A\n113it [08:28,  4.52s/it]\n  0%|          | 0/200 [00:00<?, ?it/s]\u001b[A\n 42%|████▏     | 83/200 [00:00<00:00, 826.39it/s]\u001b[A\n100%|██████████| 200/200 [00:00<00:00, 794.06it/s]\u001b[A\n114it [08:32,  4.54s/it]\n  0%|          | 0/200 [00:00<?, ?it/s]\u001b[A\n 44%|████▎     | 87/200 [00:00<00:00, 866.88it/s]\u001b[A\n100%|██████████| 200/200 [00:00<00:00, 809.91it/s]\u001b[A\n115it [08:37,  4.52s/it]\n  0%|          | 0/200 [00:00<?, ?it/s]\u001b[A\n 42%|████▎     | 85/200 [00:00<00:00, 847.09it/s]\u001b[A\n100%|██████████| 200/200 [00:00<00:00, 745.28it/s]\u001b[A\n116it [08:41,  4.52s/it]\n  0%|          | 0/200 [00:00<?, ?it/s]\u001b[A\n 44%|████▎     | 87/200 [00:00<00:00, 866.60it/s]\u001b[A\n100%|██████████| 200/200 [00:00<00:00, 794.15it/s]\u001b[A\n117it [08:46,  4.51s/it]\n  0%|          | 0/200 [00:00<?, ?it/s]\u001b[A\n 43%|████▎     | 86/200 [00:00<00:00, 851.74it/s]\u001b[A\n100%|██████████| 200/200 [00:00<00:00, 797.34it/s]\u001b[A\n118it [08:50,  4.52s/it]\n  0%|          | 0/200 [00:00<?, ?it/s]\u001b[A\n 44%|████▍     | 89/200 [00:00<00:00, 880.48it/s]\u001b[A\n100%|██████████| 200/200 [00:00<00:00, 813.11it/s]\u001b[A\n119it [08:55,  4.51s/it]\n  0%|          | 0/200 [00:00<?, ?it/s]\u001b[A\n 42%|████▎     | 85/200 [00:00<00:00, 849.25it/s]\u001b[A\n100%|██████████| 200/200 [00:00<00:00, 807.21it/s]\u001b[A\n120it [08:59,  4.51s/it]\n  0%|          | 0/200 [00:00<?, ?it/s]\u001b[A\n 44%|████▎     | 87/200 [00:00<00:00, 864.89it/s]\u001b[A\n100%|██████████| 200/200 [00:00<00:00, 805.11it/s]\u001b[A\n121it [09:04,  4.52s/it]\n  0%|          | 0/200 [00:00<?, ?it/s]\u001b[A\n 44%|████▍     | 88/200 [00:00<00:00, 875.08it/s]\u001b[A\n100%|██████████| 200/200 [00:00<00:00, 810.10it/s]\u001b[A\n122it [09:08,  4.52s/it]\n  0%|          | 0/200 [00:00<?, ?it/s]\u001b[A\n 43%|████▎     | 86/200 [00:00<00:00, 851.85it/s]\u001b[A\n100%|██████████| 200/200 [00:00<00:00, 793.24it/s]\u001b[A\n123it [09:13,  4.52s/it]\n  0%|          | 0/200 [00:00<?, ?it/s]\u001b[A\n 44%|████▍     | 88/200 [00:00<00:00, 877.98it/s]\u001b[A\n100%|██████████| 200/200 [00:00<00:00, 807.87it/s]\u001b[A\n124it [09:17,  4.52s/it]\n  0%|          | 0/200 [00:00<?, ?it/s]\u001b[A\n 43%|████▎     | 86/200 [00:00<00:00, 858.15it/s]\u001b[A\n100%|██████████| 200/200 [00:00<00:00, 805.39it/s]\u001b[A\n125it [09:22,  4.52s/it]\n  0%|          | 0/200 [00:00<?, ?it/s]\u001b[A\n 44%|████▍     | 88/200 [00:00<00:00, 875.88it/s]\u001b[A\n100%|██████████| 200/200 [00:00<00:00, 819.05it/s]\u001b[A\n126it [09:26,  4.51s/it]\n  0%|          | 0/200 [00:00<?, ?it/s]\u001b[A\n 44%|████▍     | 88/200 [00:00<00:00, 873.83it/s]\u001b[A\n100%|██████████| 200/200 [00:00<00:00, 800.66it/s]\u001b[A\n127it [09:31,  4.52s/it]\n  0%|          | 0/200 [00:00<?, ?it/s]\u001b[A\n 44%|████▎     | 87/200 [00:00<00:00, 864.69it/s]\u001b[A\n100%|██████████| 200/200 [00:00<00:00, 793.48it/s]\u001b[A\n128it [09:35,  4.53s/it]\n  0%|          | 0/200 [00:00<?, ?it/s]\u001b[A\n 44%|████▎     | 87/200 [00:00<00:00, 862.77it/s]\u001b[A\n100%|██████████| 200/200 [00:00<00:00, 799.55it/s]\u001b[A\n129it [09:40,  4.53s/it]\n  0%|          | 0/200 [00:00<?, ?it/s]\u001b[A\n 44%|████▍     | 88/200 [00:00<00:00, 879.46it/s]\u001b[A\n100%|██████████| 200/200 [00:00<00:00, 810.13it/s]\u001b[A\n130it [09:45,  4.53s/it]\n  0%|          | 0/200 [00:00<?, ?it/s]\u001b[A\n 42%|████▎     | 85/200 [00:00<00:00, 849.41it/s]\u001b[A\n100%|██████████| 200/200 [00:00<00:00, 805.73it/s]\u001b[A\n131it [09:49,  4.52s/it]\n  0%|          | 0/200 [00:00<?, ?it/s]\u001b[A\n 44%|████▍     | 88/200 [00:00<00:00, 870.98it/s]\u001b[A\n100%|██████████| 200/200 [00:00<00:00, 811.17it/s]\u001b[A\n132it [09:54,  4.53s/it]\n  0%|          | 0/200 [00:00<?, ?it/s]\u001b[A\n 44%|████▎     | 87/200 [00:00<00:00, 867.80it/s]\u001b[A\n100%|██████████| 200/200 [00:00<00:00, 810.92it/s]\u001b[A\n133it [09:58,  4.52s/it]\n  0%|          | 0/200 [00:00<?, ?it/s]\u001b[A\n 44%|████▍     | 88/200 [00:00<00:00, 875.73it/s]\u001b[A\n100%|██████████| 200/200 [00:00<00:00, 802.20it/s]\u001b[A\n134it [10:03,  4.53s/it]\n  0%|          | 0/200 [00:00<?, ?it/s]\u001b[A\n 43%|████▎     | 86/200 [00:00<00:00, 854.77it/s]\u001b[A\n100%|██████████| 200/200 [00:00<00:00, 805.96it/s]\u001b[A\n135it [10:07,  4.53s/it]\n  0%|          | 0/200 [00:00<?, ?it/s]\u001b[A\n 44%|████▍     | 88/200 [00:00<00:00, 875.09it/s]\u001b[A\n100%|██████████| 200/200 [00:00<00:00, 820.24it/s]\u001b[A\n136it [10:12,  4.52s/it]\n  0%|          | 0/200 [00:00<?, ?it/s]\u001b[A\n 42%|████▎     | 85/200 [00:00<00:00, 848.02it/s]\u001b[A\n100%|██████████| 200/200 [00:00<00:00, 797.48it/s]\u001b[A\n137it [10:16,  4.51s/it]\n  0%|          | 0/200 [00:00<?, ?it/s]\u001b[A\n 44%|████▍     | 88/200 [00:00<00:00, 869.98it/s]\u001b[A\n100%|██████████| 200/200 [00:00<00:00, 809.08it/s]\u001b[A\n138it [10:21,  4.53s/it]\n  0%|          | 0/200 [00:00<?, ?it/s]\u001b[A\n 42%|████▎     | 85/200 [00:00<00:00, 842.79it/s]\u001b[A\n100%|██████████| 200/200 [00:00<00:00, 784.72it/s]\u001b[A\n139it [10:25,  4.54s/it]\n  0%|          | 0/200 [00:00<?, ?it/s]\u001b[A\n 44%|████▎     | 87/200 [00:00<00:00, 868.46it/s]\u001b[A\n100%|██████████| 200/200 [00:00<00:00, 811.80it/s]\u001b[A\n140it [10:30,  4.54s/it]\n  0%|          | 0/200 [00:00<?, ?it/s]\u001b[A\n 44%|████▎     | 87/200 [00:00<00:00, 869.10it/s]\u001b[A\n100%|██████████| 200/200 [00:00<00:00, 803.95it/s]\u001b[A\n141it [10:34,  4.55s/it]\n  0%|          | 0/200 [00:00<?, ?it/s]\u001b[A\n 44%|████▍     | 89/200 [00:00<00:00, 880.11it/s]\u001b[A\n100%|██████████| 200/200 [00:00<00:00, 817.98it/s]\u001b[A\n142it [10:39,  4.55s/it]\n  0%|          | 0/200 [00:00<?, ?it/s]\u001b[A\n 44%|████▎     | 87/200 [00:00<00:00, 864.40it/s]\u001b[A\n100%|██████████| 200/200 [00:00<00:00, 802.53it/s]\u001b[A\n143it [10:44,  4.55s/it]\n  0%|          | 0/200 [00:00<?, ?it/s]\u001b[A\n 44%|████▍     | 88/200 [00:00<00:00, 874.29it/s]\u001b[A\n100%|██████████| 200/200 [00:00<00:00, 812.22it/s]\u001b[A\n144it [10:48,  4.55s/it]\n  0%|          | 0/200 [00:00<?, ?it/s]\u001b[A\n 44%|████▎     | 87/200 [00:00<00:00, 865.40it/s]\u001b[A\n100%|██████████| 200/200 [00:00<00:00, 799.76it/s]\u001b[A\n145it [10:53,  4.55s/it]\n  0%|          | 0/200 [00:00<?, ?it/s]\u001b[A\n 43%|████▎     | 86/200 [00:00<00:00, 853.67it/s]\u001b[A\n100%|██████████| 200/200 [00:00<00:00, 792.84it/s]\u001b[A\n146it [10:57,  4.54s/it]\n  0%|          | 0/200 [00:00<?, ?it/s]\u001b[A\n 44%|████▎     | 87/200 [00:00<00:00, 862.05it/s]\u001b[A\n100%|██████████| 200/200 [00:00<00:00, 802.66it/s]\u001b[A\n147it [11:02,  4.55s/it]\n  0%|          | 0/200 [00:00<?, ?it/s]\u001b[A\n 44%|████▍     | 88/200 [00:00<00:00, 871.86it/s]\u001b[A\n100%|██████████| 200/200 [00:00<00:00, 799.18it/s]\u001b[A\n148it [11:06,  4.53s/it]\n  0%|          | 0/200 [00:00<?, ?it/s]\u001b[A\n 44%|████▍     | 89/200 [00:00<00:00, 879.52it/s]\u001b[A\n100%|██████████| 200/200 [00:00<00:00, 822.60it/s]\u001b[A\n149it [11:11,  4.54s/it]\n  0%|          | 0/200 [00:00<?, ?it/s]\u001b[A\n 44%|████▎     | 87/200 [00:00<00:00, 865.94it/s]\u001b[A\n100%|██████████| 200/200 [00:00<00:00, 803.56it/s]\u001b[A\n150it [11:15,  4.53s/it]\n  0%|          | 0/200 [00:00<?, ?it/s]\u001b[A\n 43%|████▎     | 86/200 [00:00<00:00, 853.88it/s]\u001b[A\n100%|██████████| 200/200 [00:00<00:00, 806.73it/s]\u001b[A\n151it [11:20,  4.52s/it]\n  0%|          | 0/200 [00:00<?, ?it/s]\u001b[A\n 44%|████▍     | 88/200 [00:00<00:00, 871.83it/s]\u001b[A\n100%|██████████| 200/200 [00:00<00:00, 801.60it/s]\u001b[A\n152it [11:24,  4.53s/it]\n  0%|          | 0/200 [00:00<?, ?it/s]\u001b[A\n 43%|████▎     | 86/200 [00:00<00:00, 853.48it/s]\u001b[A\n100%|██████████| 200/200 [00:00<00:00, 802.89it/s]\u001b[A\n153it [11:29,  4.52s/it]\n  0%|          | 0/200 [00:00<?, ?it/s]\u001b[A\n 44%|████▍     | 88/200 [00:00<00:00, 871.99it/s]\u001b[A\n100%|██████████| 200/200 [00:00<00:00, 811.71it/s]\u001b[A\n154it [11:33,  4.52s/it]\n  0%|          | 0/200 [00:00<?, ?it/s]\u001b[A\n 43%|████▎     | 86/200 [00:00<00:00, 858.94it/s]\u001b[A\n100%|██████████| 200/200 [00:00<00:00, 802.74it/s]\u001b[A\n155it [11:38,  4.52s/it]\n  0%|          | 0/200 [00:00<?, ?it/s]\u001b[A\n 44%|████▍     | 88/200 [00:00<00:00, 874.06it/s]\u001b[A\n100%|██████████| 200/200 [00:00<00:00, 815.19it/s]\u001b[A\n156it [11:43,  4.62s/it]\n  0%|          | 0/200 [00:00<?, ?it/s]\u001b[A\n 44%|████▎     | 87/200 [00:00<00:00, 868.88it/s]\u001b[A\n100%|██████████| 200/200 [00:00<00:00, 804.56it/s]\u001b[A\n157it [11:47,  4.59s/it]\n  0%|          | 0/200 [00:00<?, ?it/s]\u001b[A\n 44%|████▍     | 89/200 [00:00<00:00, 879.85it/s]\u001b[A\n100%|██████████| 200/200 [00:00<00:00, 803.36it/s]\u001b[A\n158it [11:52,  4.57s/it]\n  0%|          | 0/200 [00:00<?, ?it/s]\u001b[A\n 44%|████▎     | 87/200 [00:00<00:00, 864.57it/s]\u001b[A\n100%|██████████| 200/200 [00:00<00:00, 800.24it/s]\u001b[A\n159it [11:56,  4.56s/it]\n  0%|          | 0/200 [00:00<?, ?it/s]\u001b[A\n 44%|████▍     | 88/200 [00:00<00:00, 873.36it/s]\u001b[A\n100%|██████████| 200/200 [00:00<00:00, 816.22it/s]\u001b[A\n160it [12:01,  4.55s/it]\n  0%|          | 0/200 [00:00<?, ?it/s]\u001b[A\n 44%|████▎     | 87/200 [00:00<00:00, 868.14it/s]\u001b[A\n100%|██████████| 200/200 [00:00<00:00, 792.48it/s]\u001b[A\n161it [12:05,  4.54s/it]\n  0%|          | 0/200 [00:00<?, ?it/s]\u001b[A\n 44%|████▍     | 88/200 [00:00<00:00, 878.27it/s]\u001b[A\n100%|██████████| 200/200 [00:00<00:00, 815.23it/s]\u001b[A\n162it [12:10,  4.54s/it]\n  0%|          | 0/200 [00:00<?, ?it/s]\u001b[A\n 42%|████▎     | 85/200 [00:00<00:00, 848.84it/s]\u001b[A\n100%|██████████| 200/200 [00:00<00:00, 786.35it/s]\u001b[A\n163it [12:14,  4.54s/it]\n  0%|          | 0/200 [00:00<?, ?it/s]\u001b[A\n 44%|████▍     | 88/200 [00:00<00:00, 876.19it/s]\u001b[A\n100%|██████████| 200/200 [00:00<00:00, 822.91it/s]\u001b[A\n164it [12:19,  4.54s/it]\n  0%|          | 0/200 [00:00<?, ?it/s]\u001b[A\n 44%|████▍     | 88/200 [00:00<00:00, 879.81it/s]\u001b[A\n100%|██████████| 200/200 [00:00<00:00, 810.02it/s]\u001b[A\n165it [12:24,  4.51s/it]",
          "output_type": "stream"
        },
        {
          "name": "stdout",
          "text": "iterations: 165\nCPU times: user 12min 38s, sys: 11.2 s, total: 12min 50s\nWall time: 12min 24s\n",
          "output_type": "stream"
        },
        {
          "name": "stderr",
          "text": "\n",
          "output_type": "stream"
        }
      ],
      "id": "b11532c5"
    },
    {
      "cell_type": "code",
      "source": [
        "tmr.ShowTime()    # measure Colab's runtime."
      ],
      "metadata": {
        "colab": {
          "base_uri": "https://localhost:8080/"
        },
        "id": "ffa967ef",
        "outputId": "3422ba79-7dd7-4c23-abdd-63a99c3cdd2f",
        "execution": {
          "iopub.status.busy": "2023-11-30T01:15:41.152193Z",
          "iopub.execute_input": "2023-11-30T01:15:41.152600Z",
          "iopub.status.idle": "2023-11-30T01:15:41.158154Z",
          "shell.execute_reply.started": "2023-11-30T01:15:41.152558Z",
          "shell.execute_reply": "2023-11-30T01:15:41.157108Z"
        },
        "trusted": true
      },
      "execution_count": null,
      "outputs": [
        {
          "name": "stdout",
          "text": "Runtime is 3183 sec\n",
          "output_type": "stream"
        }
      ],
      "id": "ffa967ef"
    }
  ]
}