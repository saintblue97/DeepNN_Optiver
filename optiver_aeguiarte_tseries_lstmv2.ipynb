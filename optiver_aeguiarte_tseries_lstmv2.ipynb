{
  "metadata": {
    "accelerator": "TPU",
    "colab": {
      "provenance": [],
      "include_colab_link": true
    },
    "kernelspec": {
      "name": "python3",
      "display_name": "Python 3",
      "language": "python"
    },
    "language_info": {
      "codemirror_mode": {
        "name": "ipython",
        "version": 3
      },
      "file_extension": ".py",
      "mimetype": "text/x-python",
      "name": "python",
      "nbconvert_exporter": "python",
      "pygments_lexer": "ipython3",
      "version": "3.10.12"
    },
    "papermill": {
      "default_parameters": {},
      "duration": 43.098851,
      "end_time": "2023-10-09T02:39:35.544571",
      "environment_variables": {},
      "exception": null,
      "input_path": "__notebook__.ipynb",
      "output_path": "__notebook__.ipynb",
      "parameters": {},
      "start_time": "2023-10-09T02:38:52.445720",
      "version": "2.4.0"
    },
    "kaggle": {
      "accelerator": "none",
      "dataSources": [
        {
          "sourceId": 57891,
          "databundleVersionId": 7056235,
          "sourceType": "competition"
        }
      ],
      "dockerImageVersionId": 30587,
      "isInternetEnabled": true,
      "language": "python",
      "sourceType": "notebook",
      "isGpuEnabled": false
    }
  },
  "nbformat_minor": 0,
  "nbformat": 4,
  "cells": [
    {
      "cell_type": "markdown",
      "metadata": {
        "id": "view-in-github",
        "colab_type": "text"
      },
      "source": [
        "<a href=\"https://colab.research.google.com/github/saintblue97/DeepNN_Optiver/blob/main/optiver_aeguiarte_tseries_lstmv2.ipynb\" target=\"_parent\"><img src=\"https://colab.research.google.com/assets/colab-badge.svg\" alt=\"Open In Colab\"/></a>"
      ]
    },
    {
      "cell_type": "code",
      "source": [
        "try:\n",
        "    from google.colab import drive; drive.mount('/content/drive')\n",
        "except Exception as e:\n",
        "    print(\"Not in Google Colab\")"
      ],
      "metadata": {
        "id": "IjSGKgCB-GFu",
        "outputId": "46dcafea-3542-4668-ee01-5966fcea8337",
        "execution": {
          "iopub.status.busy": "2023-11-17T01:56:31.816997Z",
          "iopub.execute_input": "2023-11-17T01:56:31.818029Z",
          "iopub.status.idle": "2023-11-17T01:56:31.845430Z",
          "shell.execute_reply.started": "2023-11-17T01:56:31.817990Z",
          "shell.execute_reply": "2023-11-17T01:56:31.844235Z"
        },
        "trusted": true
      },
      "execution_count": null,
      "outputs": [
        {
          "name": "stdout",
          "text": "Not in Google Colab\n",
          "output_type": "stream"
        }
      ]
    },
    {
      "cell_type": "code",
      "source": [],
      "metadata": {
        "id": "gPl2c98pev2h"
      },
      "execution_count": null,
      "outputs": []
    },
    {
      "cell_type": "code",
      "source": [
        "%%time\n",
        "%%capture\n",
        "%reset -f\n",
        "import numpy as np, pandas as pd, time, matplotlib.pyplot as plt, seaborn as sns, os, tqdm, re, sys, cv2, skimage, xgboost, lightgbm as lgb, librosa\n",
        "\n",
        "ToCSV = lambda df, fname: df.round(2).to_csv(f'{fname}.csv', index_label='id') # rounds values to 2 decimals\n",
        "\n",
        "class Timer():\n",
        "    def __init__(self, lim:'RunTimeLimit'=7200): self.t0, self.lim, _ = time.time(), lim, print(f'⏳ started. You have {lim} sec. Good luck!')\n",
        "    def ShowTime(self):\n",
        "        msg = f'Runtime is {time.time()-self.t0:.0f} sec'\n",
        "        print(f'\\033[91m\\033[1m' + msg + f' > {self.lim} sec limit!!!\\033[0m' if (time.time()-self.t0-1) > self.lim else msg)\n",
        "\n",
        "np.set_printoptions(linewidth=100, precision=2, edgeitems=2, suppress=True)\n",
        "pd.set_option('display.max_columns', 20, 'display.precision', 2, 'display.max_rows', 4)"
      ],
      "metadata": {
        "id": "757da0d5",
        "outputId": "53437253-0708-4c56-cd8d-90f7d60915b7",
        "execution": {
          "iopub.status.busy": "2023-11-17T01:56:31.851958Z",
          "iopub.execute_input": "2023-11-17T01:56:31.852361Z",
          "iopub.status.idle": "2023-11-17T01:56:34.947867Z",
          "shell.execute_reply.started": "2023-11-17T01:56:31.852326Z",
          "shell.execute_reply": "2023-11-17T01:56:34.946508Z"
        },
        "trusted": true
      },
      "execution_count": null,
      "outputs": [
        {
          "name": "stdout",
          "text": "CPU times: user 2.23 s, sys: 501 ms, total: 2.73 s\nWall time: 3.09 s\n",
          "output_type": "stream"
        }
      ]
    },
    {
      "cell_type": "code",
      "source": [
        "def is_google_colab():\n",
        "    \"\"\"Check if the environment is Google Colab.\n",
        "    Returns:\n",
        "        bool: True if in Google Colab, False otherwise.\n",
        "    \"\"\"\n",
        "    try:\n",
        "        import google.colab\n",
        "        return True\n",
        "    except ImportError:\n",
        "        return False"
      ],
      "metadata": {
        "id": "cD_BCltfFyvz",
        "execution": {
          "iopub.status.busy": "2023-11-17T01:56:34.950223Z",
          "iopub.execute_input": "2023-11-17T01:56:34.950699Z",
          "iopub.status.idle": "2023-11-17T01:56:34.956913Z",
          "shell.execute_reply.started": "2023-11-17T01:56:34.950656Z",
          "shell.execute_reply": "2023-11-17T01:56:34.955650Z"
        },
        "trusted": true
      },
      "execution_count": null,
      "outputs": []
    },
    {
      "cell_type": "code",
      "source": [
        "if is_google_colab():\n",
        "    !pip install --upgrade --force-reinstall --no-deps kaggle > log  # upgrade kaggle package (to avoid a warning)\n",
        "    !mkdir -p ~/.kaggle                                           # .kaggle folder must contain kaggle.json for kaggle executable to properly authenticate you to Kaggle.com\n",
        "    !cp /content/drive/MyDrive/kaggle.json ~/.kaggle/kaggle.json >log  # First, download kaggle.json from kaggle.com (in Account page) and place it in the root of mounted Google Drive\n",
        "    !cp kaggle.json ~/.kaggle/kaggle.json > log                   # Alternative location of kaggle.json (without a connection to Google Drive)\n",
        "    !chmod 600 ~/.kaggle/kaggle.json                              # give only the owner full read/write access to kaggle.json\n",
        "    !kaggle config set -n competition -v optiver-trading-at-the-close        # set the competition context for the next few kaggle API calls. !kaggle config view - shows current settings\n",
        "    !kaggle competitions download >> log                          # download competition dataset as a zip file\n",
        "    !unzip -o *.zip >> log                                        # Kaggle dataset is copied as a single file and needs to be unzipped.\n",
        "    # !kaggle competitions leaderboard --show                       # print public leaderboard"
      ],
      "metadata": {
        "id": "sZ8cRq3I-HhN",
        "execution": {
          "iopub.status.busy": "2023-11-17T01:56:34.958755Z",
          "iopub.execute_input": "2023-11-17T01:56:34.959490Z",
          "iopub.status.idle": "2023-11-17T01:56:34.976413Z",
          "shell.execute_reply.started": "2023-11-17T01:56:34.959445Z",
          "shell.execute_reply": "2023-11-17T01:56:34.975239Z"
        },
        "trusted": true
      },
      "execution_count": null,
      "outputs": []
    },
    {
      "cell_type": "code",
      "source": [
        "if is_google_colab():\n",
        "    file_path= ''\n",
        "else:\n",
        "    file_path = '/kaggle/input/optiver-trading-at-the-close/'"
      ],
      "metadata": {
        "id": "_OHv44IyGw7d",
        "execution": {
          "iopub.status.busy": "2023-11-17T01:56:34.979481Z",
          "iopub.execute_input": "2023-11-17T01:56:34.979953Z",
          "iopub.status.idle": "2023-11-17T01:56:34.990728Z",
          "shell.execute_reply.started": "2023-11-17T01:56:34.979912Z",
          "shell.execute_reply": "2023-11-17T01:56:34.989576Z"
        },
        "trusted": true
      },
      "execution_count": null,
      "outputs": []
    },
    {
      "cell_type": "code",
      "source": [
        "tmr = Timer()"
      ],
      "metadata": {
        "id": "0RjmlRNgA3ip",
        "outputId": "38e59354-234d-4836-ab9b-d7de84f53d16",
        "execution": {
          "iopub.status.busy": "2023-11-17T01:56:34.992485Z",
          "iopub.execute_input": "2023-11-17T01:56:34.993149Z",
          "iopub.status.idle": "2023-11-17T01:56:35.001145Z",
          "shell.execute_reply.started": "2023-11-17T01:56:34.993103Z",
          "shell.execute_reply": "2023-11-17T01:56:34.999861Z"
        },
        "trusted": true
      },
      "execution_count": null,
      "outputs": [
        {
          "name": "stdout",
          "text": "⏳ started. You have 7200 sec. Good luck!\n",
          "output_type": "stream"
        }
      ]
    },
    {
      "cell_type": "code",
      "source": [
        "file_path"
      ],
      "metadata": {
        "id": "bycmHDFRE4ZL",
        "outputId": "5b50f659-ca1a-40e4-fffe-9e6ebc5a0b5a",
        "execution": {
          "iopub.status.busy": "2023-11-17T01:56:35.002661Z",
          "iopub.execute_input": "2023-11-17T01:56:35.003023Z",
          "iopub.status.idle": "2023-11-17T01:56:35.011997Z",
          "shell.execute_reply.started": "2023-11-17T01:56:35.002986Z",
          "shell.execute_reply": "2023-11-17T01:56:35.010880Z"
        },
        "trusted": true
      },
      "execution_count": null,
      "outputs": [
        {
          "execution_count": 7,
          "output_type": "execute_result",
          "data": {
            "text/plain": "'/kaggle/input/optiver-trading-at-the-close/'"
          },
          "metadata": {}
        }
      ]
    },
    {
      "cell_type": "code",
      "source": [
        "sample_submission_path = file_path + 'example_test_files/sample_submission.csv'\n",
        "\n",
        "sample_submission = pd.read_csv(sample_submission_path); sample_submission"
      ],
      "metadata": {
        "id": "527c24bc",
        "execution": {
          "iopub.status.busy": "2023-11-17T01:56:35.013599Z",
          "iopub.execute_input": "2023-11-17T01:56:35.014132Z",
          "iopub.status.idle": "2023-11-17T01:56:35.081686Z",
          "shell.execute_reply.started": "2023-11-17T01:56:35.014090Z",
          "shell.execute_reply": "2023-11-17T01:56:35.080792Z"
        },
        "trusted": true,
        "outputId": "cd8976bf-dacb-41eb-a754-be682523f22d"
      },
      "execution_count": null,
      "outputs": [
        {
          "execution_count": 8,
          "output_type": "execute_result",
          "data": {
            "text/plain": "       time_id       row_id  target\n0        26290      478_0_0       0\n1        26290      478_0_1       0\n...        ...          ...     ...\n32998    26454  480_540_198       0\n32999    26454  480_540_199       0\n\n[33000 rows x 3 columns]",
            "text/html": "<div>\n<style scoped>\n    .dataframe tbody tr th:only-of-type {\n        vertical-align: middle;\n    }\n\n    .dataframe tbody tr th {\n        vertical-align: top;\n    }\n\n    .dataframe thead th {\n        text-align: right;\n    }\n</style>\n<table border=\"1\" class=\"dataframe\">\n  <thead>\n    <tr style=\"text-align: right;\">\n      <th></th>\n      <th>time_id</th>\n      <th>row_id</th>\n      <th>target</th>\n    </tr>\n  </thead>\n  <tbody>\n    <tr>\n      <th>0</th>\n      <td>26290</td>\n      <td>478_0_0</td>\n      <td>0</td>\n    </tr>\n    <tr>\n      <th>1</th>\n      <td>26290</td>\n      <td>478_0_1</td>\n      <td>0</td>\n    </tr>\n    <tr>\n      <th>...</th>\n      <td>...</td>\n      <td>...</td>\n      <td>...</td>\n    </tr>\n    <tr>\n      <th>32998</th>\n      <td>26454</td>\n      <td>480_540_198</td>\n      <td>0</td>\n    </tr>\n    <tr>\n      <th>32999</th>\n      <td>26454</td>\n      <td>480_540_199</td>\n      <td>0</td>\n    </tr>\n  </tbody>\n</table>\n<p>33000 rows × 3 columns</p>\n</div>"
          },
          "metadata": {}
        }
      ]
    },
    {
      "cell_type": "markdown",
      "source": [
        "## Imports"
      ],
      "metadata": {
        "id": "FjEH5f0tAlXR"
      }
    },
    {
      "cell_type": "code",
      "source": [
        "pd.set_option('display.max_rows', 60)"
      ],
      "metadata": {
        "id": "tJG2PU1sC5NB",
        "execution": {
          "iopub.status.busy": "2023-11-17T01:56:35.082576Z",
          "iopub.execute_input": "2023-11-17T01:56:35.082880Z",
          "iopub.status.idle": "2023-11-17T01:56:35.087946Z",
          "shell.execute_reply.started": "2023-11-17T01:56:35.082853Z",
          "shell.execute_reply": "2023-11-17T01:56:35.086841Z"
        },
        "trusted": true
      },
      "execution_count": null,
      "outputs": []
    },
    {
      "cell_type": "code",
      "source": [
        "from sklearn.preprocessing import PolynomialFeatures, StandardScaler, MinMaxScaler, RobustScaler\n",
        "from sklearn.model_selection import cross_val_score, cross_val_predict, KFold, train_test_split, GridSearchCV\n",
        "from sklearn.compose import ColumnTransformer, make_column_selector\n",
        "from sklearn.pipeline import Pipeline, make_pipeline\n",
        "from sklearn.impute import SimpleImputer\n",
        "from sklearn.base import BaseEstimator, TransformerMixin, clone\n",
        "from sklearn.metrics import mean_absolute_error\n",
        "\n",
        "from sklearn.linear_model import LinearRegression\n",
        "from sklearn.linear_model import ARDRegression, BayesianRidge, LinearRegression, Ridge, Lars\n",
        "from tqdm import tqdm"
      ],
      "metadata": {
        "id": "sQlSOyzj4NSG",
        "execution": {
          "iopub.status.busy": "2023-11-17T01:56:35.089527Z",
          "iopub.execute_input": "2023-11-17T01:56:35.089869Z",
          "iopub.status.idle": "2023-11-17T01:56:35.253009Z",
          "shell.execute_reply.started": "2023-11-17T01:56:35.089839Z",
          "shell.execute_reply": "2023-11-17T01:56:35.251962Z"
        },
        "trusted": true
      },
      "execution_count": null,
      "outputs": []
    },
    {
      "cell_type": "code",
      "source": [
        "from operator import itemgetter"
      ],
      "metadata": {
        "id": "DedvGPbI-9vg",
        "execution": {
          "iopub.status.busy": "2023-11-17T01:56:35.258266Z",
          "iopub.execute_input": "2023-11-17T01:56:35.258622Z",
          "iopub.status.idle": "2023-11-17T01:56:35.263607Z",
          "shell.execute_reply.started": "2023-11-17T01:56:35.258595Z",
          "shell.execute_reply": "2023-11-17T01:56:35.262313Z"
        },
        "trusted": true
      },
      "execution_count": null,
      "outputs": []
    },
    {
      "cell_type": "code",
      "source": [
        "import tensorflow as tf\n",
        "import tensorflow.keras as keras\n",
        "from keras.layers import Flatten, Dense, Dropout, LSTM, Conv2D, MaxPooling2D, GlobalAveragePooling2D\n",
        "from keras.models import Sequential"
      ],
      "metadata": {
        "id": "C8vlOrk_DGvE",
        "execution": {
          "iopub.status.busy": "2023-11-17T01:56:35.267866Z",
          "iopub.execute_input": "2023-11-17T01:56:35.268281Z",
          "iopub.status.idle": "2023-11-17T01:56:47.976530Z",
          "shell.execute_reply.started": "2023-11-17T01:56:35.268248Z",
          "shell.execute_reply": "2023-11-17T01:56:47.975427Z"
        },
        "trusted": true
      },
      "execution_count": null,
      "outputs": []
    },
    {
      "cell_type": "code",
      "source": [
        "SAMPLE_SIZE = 500 # Number of examples = SAMPLE_SIZE * 55\n",
        "RANDOM_STATE = 40\n",
        "diff_order = 1"
      ],
      "metadata": {
        "id": "aKF_rs61FGii",
        "execution": {
          "iopub.status.busy": "2023-11-17T01:56:47.977975Z",
          "iopub.execute_input": "2023-11-17T01:56:47.978724Z",
          "iopub.status.idle": "2023-11-17T01:56:47.991534Z",
          "shell.execute_reply.started": "2023-11-17T01:56:47.978677Z",
          "shell.execute_reply": "2023-11-17T01:56:47.988506Z"
        },
        "trusted": true
      },
      "execution_count": null,
      "outputs": []
    },
    {
      "cell_type": "markdown",
      "source": [
        "# Load Data"
      ],
      "metadata": {
        "id": "171f3e9d"
      }
    },
    {
      "cell_type": "code",
      "source": [
        "train_data_path = file_path + 'train.csv'\n",
        "df = pd.read_csv(train_data_path);\n",
        "df = df.dropna(subset=['target']); df.head()"
      ],
      "metadata": {
        "id": "e4068237",
        "outputId": "a3cb8aff-6ed9-4ccb-e7f4-f444be90e2fc",
        "execution": {
          "iopub.status.busy": "2023-11-17T01:56:47.993633Z",
          "iopub.execute_input": "2023-11-17T01:56:47.994177Z",
          "iopub.status.idle": "2023-11-17T01:57:08.389296Z",
          "shell.execute_reply.started": "2023-11-17T01:56:47.994112Z",
          "shell.execute_reply": "2023-11-17T01:57:08.388015Z"
        },
        "trusted": true
      },
      "execution_count": null,
      "outputs": [
        {
          "execution_count": 14,
          "output_type": "execute_result",
          "data": {
            "text/plain": "   stock_id  date_id  seconds_in_bucket  imbalance_size  \\\n0         0        0                  0        3.18e+06   \n1         1        0                  0        1.67e+05   \n2         2        0                  0        3.03e+05   \n3         3        0                  0        1.19e+07   \n4         4        0                  0        4.48e+05   \n\n   imbalance_buy_sell_flag  reference_price  matched_size  far_price  \\\n0                        1              1.0      1.34e+07        NaN   \n1                       -1              1.0      1.64e+06        NaN   \n2                       -1              1.0      1.82e+06        NaN   \n3                       -1              1.0      1.84e+07        NaN   \n4                       -1              1.0      1.79e+07        NaN   \n\n   near_price  bid_price  bid_size  ask_price   ask_size  wap  target  \\\n0         NaN        1.0  60651.50        1.0    8493.03  1.0   -3.03   \n1         NaN        1.0   3233.04        1.0   20605.09  1.0   -5.52   \n2         NaN        1.0  37956.00        1.0   18995.00  1.0   -8.39   \n3         NaN        1.0   2324.90        1.0  479032.40  1.0   -4.01   \n4         NaN        1.0  16485.54        1.0     434.10  1.0   -7.35   \n\n   time_id row_id  \n0        0  0_0_0  \n1        0  0_0_1  \n2        0  0_0_2  \n3        0  0_0_3  \n4        0  0_0_4  ",
            "text/html": "<div>\n<style scoped>\n    .dataframe tbody tr th:only-of-type {\n        vertical-align: middle;\n    }\n\n    .dataframe tbody tr th {\n        vertical-align: top;\n    }\n\n    .dataframe thead th {\n        text-align: right;\n    }\n</style>\n<table border=\"1\" class=\"dataframe\">\n  <thead>\n    <tr style=\"text-align: right;\">\n      <th></th>\n      <th>stock_id</th>\n      <th>date_id</th>\n      <th>seconds_in_bucket</th>\n      <th>imbalance_size</th>\n      <th>imbalance_buy_sell_flag</th>\n      <th>reference_price</th>\n      <th>matched_size</th>\n      <th>far_price</th>\n      <th>near_price</th>\n      <th>bid_price</th>\n      <th>bid_size</th>\n      <th>ask_price</th>\n      <th>ask_size</th>\n      <th>wap</th>\n      <th>target</th>\n      <th>time_id</th>\n      <th>row_id</th>\n    </tr>\n  </thead>\n  <tbody>\n    <tr>\n      <th>0</th>\n      <td>0</td>\n      <td>0</td>\n      <td>0</td>\n      <td>3.18e+06</td>\n      <td>1</td>\n      <td>1.0</td>\n      <td>1.34e+07</td>\n      <td>NaN</td>\n      <td>NaN</td>\n      <td>1.0</td>\n      <td>60651.50</td>\n      <td>1.0</td>\n      <td>8493.03</td>\n      <td>1.0</td>\n      <td>-3.03</td>\n      <td>0</td>\n      <td>0_0_0</td>\n    </tr>\n    <tr>\n      <th>1</th>\n      <td>1</td>\n      <td>0</td>\n      <td>0</td>\n      <td>1.67e+05</td>\n      <td>-1</td>\n      <td>1.0</td>\n      <td>1.64e+06</td>\n      <td>NaN</td>\n      <td>NaN</td>\n      <td>1.0</td>\n      <td>3233.04</td>\n      <td>1.0</td>\n      <td>20605.09</td>\n      <td>1.0</td>\n      <td>-5.52</td>\n      <td>0</td>\n      <td>0_0_1</td>\n    </tr>\n    <tr>\n      <th>2</th>\n      <td>2</td>\n      <td>0</td>\n      <td>0</td>\n      <td>3.03e+05</td>\n      <td>-1</td>\n      <td>1.0</td>\n      <td>1.82e+06</td>\n      <td>NaN</td>\n      <td>NaN</td>\n      <td>1.0</td>\n      <td>37956.00</td>\n      <td>1.0</td>\n      <td>18995.00</td>\n      <td>1.0</td>\n      <td>-8.39</td>\n      <td>0</td>\n      <td>0_0_2</td>\n    </tr>\n    <tr>\n      <th>3</th>\n      <td>3</td>\n      <td>0</td>\n      <td>0</td>\n      <td>1.19e+07</td>\n      <td>-1</td>\n      <td>1.0</td>\n      <td>1.84e+07</td>\n      <td>NaN</td>\n      <td>NaN</td>\n      <td>1.0</td>\n      <td>2324.90</td>\n      <td>1.0</td>\n      <td>479032.40</td>\n      <td>1.0</td>\n      <td>-4.01</td>\n      <td>0</td>\n      <td>0_0_3</td>\n    </tr>\n    <tr>\n      <th>4</th>\n      <td>4</td>\n      <td>0</td>\n      <td>0</td>\n      <td>4.48e+05</td>\n      <td>-1</td>\n      <td>1.0</td>\n      <td>1.79e+07</td>\n      <td>NaN</td>\n      <td>NaN</td>\n      <td>1.0</td>\n      <td>16485.54</td>\n      <td>1.0</td>\n      <td>434.10</td>\n      <td>1.0</td>\n      <td>-7.35</td>\n      <td>0</td>\n      <td>0_0_4</td>\n    </tr>\n  </tbody>\n</table>\n</div>"
          },
          "metadata": {}
        }
      ]
    },
    {
      "cell_type": "code",
      "source": [
        "df.columns"
      ],
      "metadata": {
        "id": "qSwX8j8qw-uA",
        "execution": {
          "iopub.status.busy": "2023-11-17T01:57:08.390778Z",
          "iopub.execute_input": "2023-11-17T01:57:08.391205Z",
          "iopub.status.idle": "2023-11-17T01:57:08.398665Z",
          "shell.execute_reply.started": "2023-11-17T01:57:08.391146Z",
          "shell.execute_reply": "2023-11-17T01:57:08.397221Z"
        },
        "trusted": true,
        "outputId": "b88b71f9-143a-4e7a-de7f-ff482865b9fc"
      },
      "execution_count": null,
      "outputs": [
        {
          "execution_count": 15,
          "output_type": "execute_result",
          "data": {
            "text/plain": "Index(['stock_id', 'date_id', 'seconds_in_bucket', 'imbalance_size',\n       'imbalance_buy_sell_flag', 'reference_price', 'matched_size',\n       'far_price', 'near_price', 'bid_price', 'bid_size', 'ask_price',\n       'ask_size', 'wap', 'target', 'time_id', 'row_id'],\n      dtype='object')"
          },
          "metadata": {}
        }
      ]
    },
    {
      "cell_type": "code",
      "source": [
        "test_data_path = file_path + 'example_test_files/test.csv'\n",
        "df_test  = pd.read_csv(test_data_path); df_test.head()"
      ],
      "metadata": {
        "id": "JlZaNBeK8lvD",
        "execution": {
          "iopub.status.busy": "2023-11-17T01:57:08.400394Z",
          "iopub.execute_input": "2023-11-17T01:57:08.400890Z",
          "iopub.status.idle": "2023-11-17T01:57:08.563975Z",
          "shell.execute_reply.started": "2023-11-17T01:57:08.400847Z",
          "shell.execute_reply": "2023-11-17T01:57:08.563050Z"
        },
        "trusted": true,
        "outputId": "ceb1c743-2de6-437e-8f8b-1d3c38212658"
      },
      "execution_count": null,
      "outputs": [
        {
          "execution_count": 16,
          "output_type": "execute_result",
          "data": {
            "text/plain": "   stock_id  date_id  seconds_in_bucket  imbalance_size  \\\n0         0      478                  0        3.75e+06   \n1         1      478                  0        9.86e+05   \n2         2      478                  0        5.99e+05   \n3         3      478                  0        2.87e+06   \n4         4      478                  0        7.40e+05   \n\n   imbalance_buy_sell_flag  reference_price  matched_size  far_price  \\\n0                       -1              1.0      1.15e+07        NaN   \n1                       -1              1.0      3.85e+06        NaN   \n2                        1              1.0      4.36e+06        NaN   \n3                       -1              1.0      2.71e+07        NaN   \n4                       -1              1.0      8.88e+06        NaN   \n\n   near_price  bid_price  bid_size  ask_price  ask_size  wap  time_id  \\\n0         NaN        1.0  22940.00        1.0   9177.60  1.0    26290   \n1         NaN        1.0   1967.90        1.0  19692.00  1.0    26290   \n2         NaN        1.0   4488.22        1.0  34955.12  1.0    26290   \n3         NaN        1.0  16082.04        1.0  10314.00  1.0    26290   \n4         NaN        1.0  19012.35        1.0   7245.60  1.0    26290   \n\n    row_id  currently_scored  \n0  478_0_0             False  \n1  478_0_1             False  \n2  478_0_2             False  \n3  478_0_3             False  \n4  478_0_4             False  ",
            "text/html": "<div>\n<style scoped>\n    .dataframe tbody tr th:only-of-type {\n        vertical-align: middle;\n    }\n\n    .dataframe tbody tr th {\n        vertical-align: top;\n    }\n\n    .dataframe thead th {\n        text-align: right;\n    }\n</style>\n<table border=\"1\" class=\"dataframe\">\n  <thead>\n    <tr style=\"text-align: right;\">\n      <th></th>\n      <th>stock_id</th>\n      <th>date_id</th>\n      <th>seconds_in_bucket</th>\n      <th>imbalance_size</th>\n      <th>imbalance_buy_sell_flag</th>\n      <th>reference_price</th>\n      <th>matched_size</th>\n      <th>far_price</th>\n      <th>near_price</th>\n      <th>bid_price</th>\n      <th>bid_size</th>\n      <th>ask_price</th>\n      <th>ask_size</th>\n      <th>wap</th>\n      <th>time_id</th>\n      <th>row_id</th>\n      <th>currently_scored</th>\n    </tr>\n  </thead>\n  <tbody>\n    <tr>\n      <th>0</th>\n      <td>0</td>\n      <td>478</td>\n      <td>0</td>\n      <td>3.75e+06</td>\n      <td>-1</td>\n      <td>1.0</td>\n      <td>1.15e+07</td>\n      <td>NaN</td>\n      <td>NaN</td>\n      <td>1.0</td>\n      <td>22940.00</td>\n      <td>1.0</td>\n      <td>9177.60</td>\n      <td>1.0</td>\n      <td>26290</td>\n      <td>478_0_0</td>\n      <td>False</td>\n    </tr>\n    <tr>\n      <th>1</th>\n      <td>1</td>\n      <td>478</td>\n      <td>0</td>\n      <td>9.86e+05</td>\n      <td>-1</td>\n      <td>1.0</td>\n      <td>3.85e+06</td>\n      <td>NaN</td>\n      <td>NaN</td>\n      <td>1.0</td>\n      <td>1967.90</td>\n      <td>1.0</td>\n      <td>19692.00</td>\n      <td>1.0</td>\n      <td>26290</td>\n      <td>478_0_1</td>\n      <td>False</td>\n    </tr>\n    <tr>\n      <th>2</th>\n      <td>2</td>\n      <td>478</td>\n      <td>0</td>\n      <td>5.99e+05</td>\n      <td>1</td>\n      <td>1.0</td>\n      <td>4.36e+06</td>\n      <td>NaN</td>\n      <td>NaN</td>\n      <td>1.0</td>\n      <td>4488.22</td>\n      <td>1.0</td>\n      <td>34955.12</td>\n      <td>1.0</td>\n      <td>26290</td>\n      <td>478_0_2</td>\n      <td>False</td>\n    </tr>\n    <tr>\n      <th>3</th>\n      <td>3</td>\n      <td>478</td>\n      <td>0</td>\n      <td>2.87e+06</td>\n      <td>-1</td>\n      <td>1.0</td>\n      <td>2.71e+07</td>\n      <td>NaN</td>\n      <td>NaN</td>\n      <td>1.0</td>\n      <td>16082.04</td>\n      <td>1.0</td>\n      <td>10314.00</td>\n      <td>1.0</td>\n      <td>26290</td>\n      <td>478_0_3</td>\n      <td>False</td>\n    </tr>\n    <tr>\n      <th>4</th>\n      <td>4</td>\n      <td>478</td>\n      <td>0</td>\n      <td>7.40e+05</td>\n      <td>-1</td>\n      <td>1.0</td>\n      <td>8.88e+06</td>\n      <td>NaN</td>\n      <td>NaN</td>\n      <td>1.0</td>\n      <td>19012.35</td>\n      <td>1.0</td>\n      <td>7245.60</td>\n      <td>1.0</td>\n      <td>26290</td>\n      <td>478_0_4</td>\n      <td>False</td>\n    </tr>\n  </tbody>\n</table>\n</div>"
          },
          "metadata": {}
        }
      ]
    },
    {
      "cell_type": "code",
      "source": [
        "print('Shape of training data =', df.shape)\n",
        "print('Shape of testing data  =', df_test.shape)"
      ],
      "metadata": {
        "id": "b40f79d1",
        "execution": {
          "iopub.status.busy": "2023-11-17T01:57:08.565552Z",
          "iopub.execute_input": "2023-11-17T01:57:08.565914Z",
          "iopub.status.idle": "2023-11-17T01:57:08.572463Z",
          "shell.execute_reply.started": "2023-11-17T01:57:08.565883Z",
          "shell.execute_reply": "2023-11-17T01:57:08.571226Z"
        },
        "trusted": true,
        "outputId": "41626046-e0b0-48d5-c14b-674b0f6a3277"
      },
      "execution_count": null,
      "outputs": [
        {
          "name": "stdout",
          "text": "Shape of training data = (5237892, 17)\nShape of testing data  = (33000, 17)\n",
          "output_type": "stream"
        }
      ]
    },
    {
      "cell_type": "code",
      "source": [
        "# Remove NaNs here!!\n",
        "df_pp = df.dropna()"
      ],
      "metadata": {
        "id": "1cLklnJXC8u8",
        "execution": {
          "iopub.status.busy": "2023-11-17T01:57:08.573831Z",
          "iopub.execute_input": "2023-11-17T01:57:08.574270Z",
          "iopub.status.idle": "2023-11-17T01:57:09.145672Z",
          "shell.execute_reply.started": "2023-11-17T01:57:08.574236Z",
          "shell.execute_reply": "2023-11-17T01:57:09.144618Z"
        },
        "trusted": true
      },
      "execution_count": null,
      "outputs": []
    },
    {
      "cell_type": "code",
      "source": [
        "df_pp.shape"
      ],
      "metadata": {
        "id": "5jUZ1OBIH0nP",
        "execution": {
          "iopub.status.busy": "2023-11-17T01:57:09.147141Z",
          "iopub.execute_input": "2023-11-17T01:57:09.147548Z",
          "iopub.status.idle": "2023-11-17T01:57:09.154146Z",
          "shell.execute_reply.started": "2023-11-17T01:57:09.147515Z",
          "shell.execute_reply": "2023-11-17T01:57:09.153083Z"
        },
        "trusted": true,
        "outputId": "f61a96e8-80de-46be-d1b2-b0d02f873c85"
      },
      "execution_count": null,
      "outputs": [
        {
          "execution_count": 19,
          "output_type": "execute_result",
          "data": {
            "text/plain": "(2343638, 17)"
          },
          "metadata": {}
        }
      ]
    },
    {
      "cell_type": "code",
      "source": [
        "def get_grouped_df(original_df:pd.DataFrame):\n",
        "    grouped_df_lst = []\n",
        "    incomplete_ts = []\n",
        "    cnt = 0\n",
        "    for k, subdf in tqdm(df.groupby(['stock_id', 'date_id'])):\n",
        "        if subdf.shape[0] >= 55:\n",
        "            grouped_df_lst.append(subdf)\n",
        "        else:\n",
        "            incomplete_ts.append({\"stock_id\": k[0], \"date_id\": k[1], \"length\": len(subdf)})\n",
        "            #display(subdf.head(20))\n",
        "            # print(subdf.shape)\n",
        "    return grouped_df_lst, incomplete_ts"
      ],
      "metadata": {
        "id": "9CH4nQxrT-tI",
        "execution": {
          "iopub.status.busy": "2023-11-17T01:57:09.155802Z",
          "iopub.execute_input": "2023-11-17T01:57:09.156630Z",
          "iopub.status.idle": "2023-11-17T01:57:09.164772Z",
          "shell.execute_reply.started": "2023-11-17T01:57:09.156584Z",
          "shell.execute_reply": "2023-11-17T01:57:09.163425Z"
        },
        "trusted": true
      },
      "execution_count": null,
      "outputs": []
    },
    {
      "cell_type": "code",
      "source": [
        "grp_df_lst, incomplete_ts_lst = get_grouped_df(df_pp)"
      ],
      "metadata": {
        "id": "q0LCBfjhVqm-",
        "execution": {
          "iopub.status.busy": "2023-11-17T01:57:09.166620Z",
          "iopub.execute_input": "2023-11-17T01:57:09.167080Z",
          "iopub.status.idle": "2023-11-17T01:57:26.022171Z",
          "shell.execute_reply.started": "2023-11-17T01:57:09.167036Z",
          "shell.execute_reply": "2023-11-17T01:57:26.021006Z"
        },
        "trusted": true,
        "outputId": "837d6e8e-aed4-48db-d0b6-4b353ecbdf94"
      },
      "execution_count": null,
      "outputs": [
        {
          "name": "stderr",
          "text": "100%|██████████| 95235/95235 [00:06<00:00, 14647.68it/s]\n",
          "output_type": "stream"
        }
      ]
    },
    {
      "cell_type": "code",
      "source": [
        "len(grp_df_lst)"
      ],
      "metadata": {
        "id": "jdi5bbD4V1LF",
        "execution": {
          "iopub.status.busy": "2023-11-17T01:57:26.023732Z",
          "iopub.execute_input": "2023-11-17T01:57:26.024196Z",
          "iopub.status.idle": "2023-11-17T01:57:26.032303Z",
          "shell.execute_reply.started": "2023-11-17T01:57:26.024137Z",
          "shell.execute_reply": "2023-11-17T01:57:26.030379Z"
        },
        "trusted": true,
        "outputId": "1ec18b50-8df7-4a1c-b72f-1633642bda93"
      },
      "execution_count": null,
      "outputs": [
        {
          "execution_count": 22,
          "output_type": "execute_result",
          "data": {
            "text/plain": "95232"
          },
          "metadata": {}
        }
      ]
    },
    {
      "cell_type": "code",
      "source": [
        "grp_df_lst[0].head(5)"
      ],
      "metadata": {
        "id": "A-_UDeXqJlty",
        "execution": {
          "iopub.status.busy": "2023-11-17T01:57:26.033640Z",
          "iopub.execute_input": "2023-11-17T01:57:26.033989Z",
          "iopub.status.idle": "2023-11-17T01:57:26.076393Z",
          "shell.execute_reply.started": "2023-11-17T01:57:26.033956Z",
          "shell.execute_reply": "2023-11-17T01:57:26.075252Z"
        },
        "trusted": true,
        "outputId": "6ee36d69-d345-4d3e-c31a-c94f33251222"
      },
      "execution_count": null,
      "outputs": [
        {
          "execution_count": 23,
          "output_type": "execute_result",
          "data": {
            "text/plain": "     stock_id  date_id  seconds_in_bucket  imbalance_size  \\\n0           0        0                  0        3.18e+06   \n191         0        0                 10        1.30e+06   \n382         0        0                 20        1.30e+06   \n573         0        0                 30        1.30e+06   \n764         0        0                 40        1.22e+06   \n\n     imbalance_buy_sell_flag  reference_price  matched_size  far_price  \\\n0                          1              1.0      1.34e+07        NaN   \n191                        1              1.0      1.53e+07        NaN   \n382                        1              1.0      1.53e+07        NaN   \n573                        1              1.0      1.53e+07        NaN   \n764                        1              1.0      1.53e+07        NaN   \n\n     near_price  bid_price  bid_size  ask_price  ask_size  wap  target  \\\n0           NaN        1.0  60651.50        1.0   8493.03  1.0   -3.03   \n191         NaN        1.0  13996.50        1.0  23519.16  1.0    0.39   \n382         NaN        1.0   4665.50        1.0  12131.60  1.0    4.22   \n573         NaN        1.0  55998.00        1.0  46203.30  1.0    5.45   \n764         NaN        1.0  14655.95        1.0  26610.45  1.0    3.17   \n\n     time_id  row_id  \n0          0   0_0_0  \n191        1  0_10_0  \n382        2  0_20_0  \n573        3  0_30_0  \n764        4  0_40_0  ",
            "text/html": "<div>\n<style scoped>\n    .dataframe tbody tr th:only-of-type {\n        vertical-align: middle;\n    }\n\n    .dataframe tbody tr th {\n        vertical-align: top;\n    }\n\n    .dataframe thead th {\n        text-align: right;\n    }\n</style>\n<table border=\"1\" class=\"dataframe\">\n  <thead>\n    <tr style=\"text-align: right;\">\n      <th></th>\n      <th>stock_id</th>\n      <th>date_id</th>\n      <th>seconds_in_bucket</th>\n      <th>imbalance_size</th>\n      <th>imbalance_buy_sell_flag</th>\n      <th>reference_price</th>\n      <th>matched_size</th>\n      <th>far_price</th>\n      <th>near_price</th>\n      <th>bid_price</th>\n      <th>bid_size</th>\n      <th>ask_price</th>\n      <th>ask_size</th>\n      <th>wap</th>\n      <th>target</th>\n      <th>time_id</th>\n      <th>row_id</th>\n    </tr>\n  </thead>\n  <tbody>\n    <tr>\n      <th>0</th>\n      <td>0</td>\n      <td>0</td>\n      <td>0</td>\n      <td>3.18e+06</td>\n      <td>1</td>\n      <td>1.0</td>\n      <td>1.34e+07</td>\n      <td>NaN</td>\n      <td>NaN</td>\n      <td>1.0</td>\n      <td>60651.50</td>\n      <td>1.0</td>\n      <td>8493.03</td>\n      <td>1.0</td>\n      <td>-3.03</td>\n      <td>0</td>\n      <td>0_0_0</td>\n    </tr>\n    <tr>\n      <th>191</th>\n      <td>0</td>\n      <td>0</td>\n      <td>10</td>\n      <td>1.30e+06</td>\n      <td>1</td>\n      <td>1.0</td>\n      <td>1.53e+07</td>\n      <td>NaN</td>\n      <td>NaN</td>\n      <td>1.0</td>\n      <td>13996.50</td>\n      <td>1.0</td>\n      <td>23519.16</td>\n      <td>1.0</td>\n      <td>0.39</td>\n      <td>1</td>\n      <td>0_10_0</td>\n    </tr>\n    <tr>\n      <th>382</th>\n      <td>0</td>\n      <td>0</td>\n      <td>20</td>\n      <td>1.30e+06</td>\n      <td>1</td>\n      <td>1.0</td>\n      <td>1.53e+07</td>\n      <td>NaN</td>\n      <td>NaN</td>\n      <td>1.0</td>\n      <td>4665.50</td>\n      <td>1.0</td>\n      <td>12131.60</td>\n      <td>1.0</td>\n      <td>4.22</td>\n      <td>2</td>\n      <td>0_20_0</td>\n    </tr>\n    <tr>\n      <th>573</th>\n      <td>0</td>\n      <td>0</td>\n      <td>30</td>\n      <td>1.30e+06</td>\n      <td>1</td>\n      <td>1.0</td>\n      <td>1.53e+07</td>\n      <td>NaN</td>\n      <td>NaN</td>\n      <td>1.0</td>\n      <td>55998.00</td>\n      <td>1.0</td>\n      <td>46203.30</td>\n      <td>1.0</td>\n      <td>5.45</td>\n      <td>3</td>\n      <td>0_30_0</td>\n    </tr>\n    <tr>\n      <th>764</th>\n      <td>0</td>\n      <td>0</td>\n      <td>40</td>\n      <td>1.22e+06</td>\n      <td>1</td>\n      <td>1.0</td>\n      <td>1.53e+07</td>\n      <td>NaN</td>\n      <td>NaN</td>\n      <td>1.0</td>\n      <td>14655.95</td>\n      <td>1.0</td>\n      <td>26610.45</td>\n      <td>1.0</td>\n      <td>3.17</td>\n      <td>4</td>\n      <td>0_40_0</td>\n    </tr>\n  </tbody>\n</table>\n</div>"
          },
          "metadata": {}
        }
      ]
    },
    {
      "cell_type": "code",
      "source": [
        "dataset_folds = KFold(n_splits=10, shuffle=True, random_state=RANDOM_STATE)\n",
        "for fold_num, (train_index, test_index) in enumerate(dataset_folds.split(grp_df_lst)):\n",
        "    XY_train_df_lst = list(itemgetter(*list(train_index))(grp_df_lst))[:SAMPLE_SIZE]\n",
        "    XY_test_df_lst = list(itemgetter(*list(test_index))(grp_df_lst))[:SAMPLE_SIZE//10]\n",
        "    break # Get one fold\n"
      ],
      "metadata": {
        "id": "ZSTRSYBlVGjT",
        "execution": {
          "iopub.status.busy": "2023-11-17T01:57:26.078122Z",
          "iopub.execute_input": "2023-11-17T01:57:26.078585Z",
          "iopub.status.idle": "2023-11-17T01:57:26.107280Z",
          "shell.execute_reply.started": "2023-11-17T01:57:26.078545Z",
          "shell.execute_reply": "2023-11-17T01:57:26.106329Z"
        },
        "trusted": true
      },
      "execution_count": null,
      "outputs": []
    },
    {
      "cell_type": "code",
      "source": [
        "len(XY_train_df_lst)"
      ],
      "metadata": {
        "id": "z6wrxM3mIVMQ",
        "execution": {
          "iopub.status.busy": "2023-11-17T01:57:26.109010Z",
          "iopub.execute_input": "2023-11-17T01:57:26.109326Z",
          "iopub.status.idle": "2023-11-17T01:57:26.116140Z",
          "shell.execute_reply.started": "2023-11-17T01:57:26.109299Z",
          "shell.execute_reply": "2023-11-17T01:57:26.114979Z"
        },
        "trusted": true,
        "outputId": "10421e69-0d2f-49b4-95fb-d658a4ac527e"
      },
      "execution_count": null,
      "outputs": [
        {
          "execution_count": 25,
          "output_type": "execute_result",
          "data": {
            "text/plain": "500"
          },
          "metadata": {}
        }
      ]
    },
    {
      "cell_type": "code",
      "source": [
        "XY_train_df_lst[0].head(5)"
      ],
      "metadata": {
        "id": "4TMMAtzelD7Z",
        "execution": {
          "iopub.status.busy": "2023-11-17T01:57:26.118082Z",
          "iopub.execute_input": "2023-11-17T01:57:26.118573Z",
          "iopub.status.idle": "2023-11-17T01:57:26.140253Z",
          "shell.execute_reply.started": "2023-11-17T01:57:26.118499Z",
          "shell.execute_reply": "2023-11-17T01:57:26.139495Z"
        },
        "trusted": true,
        "outputId": "2e408b47-d6a7-404c-fe5b-cc8032e27d78"
      },
      "execution_count": null,
      "outputs": [
        {
          "execution_count": 26,
          "output_type": "execute_result",
          "data": {
            "text/plain": "     stock_id  date_id  seconds_in_bucket  imbalance_size  \\\n0           0        0                  0        3.18e+06   \n191         0        0                 10        1.30e+06   \n382         0        0                 20        1.30e+06   \n573         0        0                 30        1.30e+06   \n764         0        0                 40        1.22e+06   \n\n     imbalance_buy_sell_flag  reference_price  matched_size  far_price  \\\n0                          1              1.0      1.34e+07        NaN   \n191                        1              1.0      1.53e+07        NaN   \n382                        1              1.0      1.53e+07        NaN   \n573                        1              1.0      1.53e+07        NaN   \n764                        1              1.0      1.53e+07        NaN   \n\n     near_price  bid_price  bid_size  ask_price  ask_size  wap  target  \\\n0           NaN        1.0  60651.50        1.0   8493.03  1.0   -3.03   \n191         NaN        1.0  13996.50        1.0  23519.16  1.0    0.39   \n382         NaN        1.0   4665.50        1.0  12131.60  1.0    4.22   \n573         NaN        1.0  55998.00        1.0  46203.30  1.0    5.45   \n764         NaN        1.0  14655.95        1.0  26610.45  1.0    3.17   \n\n     time_id  row_id  \n0          0   0_0_0  \n191        1  0_10_0  \n382        2  0_20_0  \n573        3  0_30_0  \n764        4  0_40_0  ",
            "text/html": "<div>\n<style scoped>\n    .dataframe tbody tr th:only-of-type {\n        vertical-align: middle;\n    }\n\n    .dataframe tbody tr th {\n        vertical-align: top;\n    }\n\n    .dataframe thead th {\n        text-align: right;\n    }\n</style>\n<table border=\"1\" class=\"dataframe\">\n  <thead>\n    <tr style=\"text-align: right;\">\n      <th></th>\n      <th>stock_id</th>\n      <th>date_id</th>\n      <th>seconds_in_bucket</th>\n      <th>imbalance_size</th>\n      <th>imbalance_buy_sell_flag</th>\n      <th>reference_price</th>\n      <th>matched_size</th>\n      <th>far_price</th>\n      <th>near_price</th>\n      <th>bid_price</th>\n      <th>bid_size</th>\n      <th>ask_price</th>\n      <th>ask_size</th>\n      <th>wap</th>\n      <th>target</th>\n      <th>time_id</th>\n      <th>row_id</th>\n    </tr>\n  </thead>\n  <tbody>\n    <tr>\n      <th>0</th>\n      <td>0</td>\n      <td>0</td>\n      <td>0</td>\n      <td>3.18e+06</td>\n      <td>1</td>\n      <td>1.0</td>\n      <td>1.34e+07</td>\n      <td>NaN</td>\n      <td>NaN</td>\n      <td>1.0</td>\n      <td>60651.50</td>\n      <td>1.0</td>\n      <td>8493.03</td>\n      <td>1.0</td>\n      <td>-3.03</td>\n      <td>0</td>\n      <td>0_0_0</td>\n    </tr>\n    <tr>\n      <th>191</th>\n      <td>0</td>\n      <td>0</td>\n      <td>10</td>\n      <td>1.30e+06</td>\n      <td>1</td>\n      <td>1.0</td>\n      <td>1.53e+07</td>\n      <td>NaN</td>\n      <td>NaN</td>\n      <td>1.0</td>\n      <td>13996.50</td>\n      <td>1.0</td>\n      <td>23519.16</td>\n      <td>1.0</td>\n      <td>0.39</td>\n      <td>1</td>\n      <td>0_10_0</td>\n    </tr>\n    <tr>\n      <th>382</th>\n      <td>0</td>\n      <td>0</td>\n      <td>20</td>\n      <td>1.30e+06</td>\n      <td>1</td>\n      <td>1.0</td>\n      <td>1.53e+07</td>\n      <td>NaN</td>\n      <td>NaN</td>\n      <td>1.0</td>\n      <td>4665.50</td>\n      <td>1.0</td>\n      <td>12131.60</td>\n      <td>1.0</td>\n      <td>4.22</td>\n      <td>2</td>\n      <td>0_20_0</td>\n    </tr>\n    <tr>\n      <th>573</th>\n      <td>0</td>\n      <td>0</td>\n      <td>30</td>\n      <td>1.30e+06</td>\n      <td>1</td>\n      <td>1.0</td>\n      <td>1.53e+07</td>\n      <td>NaN</td>\n      <td>NaN</td>\n      <td>1.0</td>\n      <td>55998.00</td>\n      <td>1.0</td>\n      <td>46203.30</td>\n      <td>1.0</td>\n      <td>5.45</td>\n      <td>3</td>\n      <td>0_30_0</td>\n    </tr>\n    <tr>\n      <th>764</th>\n      <td>0</td>\n      <td>0</td>\n      <td>40</td>\n      <td>1.22e+06</td>\n      <td>1</td>\n      <td>1.0</td>\n      <td>1.53e+07</td>\n      <td>NaN</td>\n      <td>NaN</td>\n      <td>1.0</td>\n      <td>14655.95</td>\n      <td>1.0</td>\n      <td>26610.45</td>\n      <td>1.0</td>\n      <td>3.17</td>\n      <td>4</td>\n      <td>0_40_0</td>\n    </tr>\n  </tbody>\n</table>\n</div>"
          },
          "metadata": {}
        }
      ]
    },
    {
      "cell_type": "code",
      "source": [
        "# Release Memory\n",
        "if 'grp_df_lst' in vars(): del grp_df_lst\n",
        "if 'incomplete_ts_lst' in vars(): del incomplete_ts_lst\n",
        "if 'dataset_folds' in vars(): del dataset_folds"
      ],
      "metadata": {
        "id": "1Y1gXmc6VK7D",
        "execution": {
          "iopub.status.busy": "2023-11-17T01:57:26.141633Z",
          "iopub.execute_input": "2023-11-17T01:57:26.142239Z",
          "iopub.status.idle": "2023-11-17T01:57:26.269015Z",
          "shell.execute_reply.started": "2023-11-17T01:57:26.142206Z",
          "shell.execute_reply": "2023-11-17T01:57:26.267430Z"
        },
        "trusted": true
      },
      "execution_count": null,
      "outputs": []
    },
    {
      "cell_type": "code",
      "source": [
        "class DropColumns(BaseEstimator, TransformerMixin):\n",
        "    def __init__(self, columns_to_drop):\n",
        "        self.columns_to_drop = columns_to_drop\n",
        "\n",
        "    def fit(self, X, y=None):\n",
        "        X_orig = X\n",
        "        self.n_features_in_ = X.shape[1]\n",
        "        if hasattr(X_orig, \"columns\"):\n",
        "            self.feature_names_in_ = np.array(X_orig.columns, dtype=object)\n",
        "        return self\n",
        "\n",
        "    def transform(self, X):\n",
        "        # Only drop columns that exist in X\n",
        "        columns_to_drop = [col for col in self.columns_to_drop if col in X.columns]\n",
        "        return X.drop(columns_to_drop, axis=1)\n",
        "\n",
        "    def get_feature_names_out(self, names=None):\n",
        "        return ['hola']\n",
        "\n",
        "    def get_feature_names_out(self, input_features=None):\n",
        "        if input_features is None:\n",
        "            return getattr(self, \"feature_names_in_\",\n",
        "                           [f\"x{i}\" for i in range(self.n_features_in_)])\n",
        "        else:\n",
        "            if len(input_features) != self.n_features_in_:\n",
        "                raise ValueError(\"Invalid number of features\")\n",
        "            if hasattr(self, \"feature_names_in_\") and not np.all(\n",
        "                self.feature_names_in_ == input_features\n",
        "            ):\n",
        "                raise ValueError(\"input_features ≠ feature_names_in_\")\n",
        "            return input_features\n",
        "\n",
        "class AddRatios(BaseEstimator, TransformerMixin):\n",
        "    def __init__(self, col_pair_lst:list):\n",
        "        self.col_pair_lst = col_pair_lst\n",
        "\n",
        "    def fit(self, X, y=None):\n",
        "        X_orig = X\n",
        "        self.n_features_in_ = X.shape[1]\n",
        "        if hasattr(X_orig, \"columns\"):\n",
        "            self.feature_names_in_ = np.array(X_orig.columns, dtype=object)\n",
        "        return self\n",
        "\n",
        "    def transform(self, X):\n",
        "        X_ = X.copy()\n",
        "        for col1, col2 in self.col_pair_lst:\n",
        "            non_zero_mask = X_[col2] != 0\n",
        "            X_[f'{col1}_to_{col2}_ratio'] = np.where(non_zero_mask, X_[col1] / X_[col2], 0)\n",
        "        return X_\n",
        "\n",
        "    def get_feature_names_out(self, input_features=None):\n",
        "        if input_features is None:\n",
        "            return getattr(self, \"feature_names_in_\",\n",
        "                           [f\"x{i}\" for i in range(self.n_features_in_)])\n",
        "        else:\n",
        "            if len(input_features) != self.n_features_in_:\n",
        "                raise ValueError(f\"Invalid number of features.\\n input_features: {input_features}\\n self.n_features_in_:{self.n_features_in_}\")\n",
        "            if hasattr(self, \"feature_names_in_\") and not np.all(\n",
        "                self.feature_names_in_ == input_features\n",
        "            ):\n",
        "                raise ValueError(\"input_features ≠ feature_names_in_\")\n",
        "            return input_features + [f'{col1}_to_{col2}_ratio' for col1, col2 in self.col_pair_lst]"
      ],
      "metadata": {
        "id": "L8BiqdV_4VqH",
        "execution": {
          "iopub.status.busy": "2023-11-17T01:57:26.270678Z",
          "iopub.execute_input": "2023-11-17T01:57:26.271058Z",
          "iopub.status.idle": "2023-11-17T01:57:26.288511Z",
          "shell.execute_reply.started": "2023-11-17T01:57:26.271029Z",
          "shell.execute_reply": "2023-11-17T01:57:26.286934Z"
        },
        "trusted": true
      },
      "execution_count": null,
      "outputs": []
    },
    {
      "cell_type": "code",
      "source": [
        "# Set up preprocessing pipeline\n",
        "ratios_cols = [\n",
        "      ('reference_price', 'wap'),\n",
        "      ('bid_price', 'wap'),\n",
        "      ('ask_price', 'wap'),\n",
        "      ]\n",
        "drop_cols = [\n",
        "    'near_price','far_price','time_id',\n",
        "    'bid_price', 'ask_price', 'wap',\n",
        "    'row_id',\n",
        "    ]\n",
        "\n",
        "ds_transformer = ColumnTransformer([\n",
        "        ('select_cols', 'drop', drop_cols),\n",
        "        ('imputer', SimpleImputer(strategy='constant', fill_value=0), make_column_selector(dtype_include=np.number)),\n",
        "        ],\n",
        "    )\n",
        "pp_pipeline = Pipeline([\n",
        "    ('add_ratios', AddRatios(ratios_cols)),\n",
        "    #('ds_transformer', ds_transformer),\n",
        "    ('drop_cols', DropColumns(drop_cols)),\n",
        "    ('imputer', SimpleImputer(strategy='constant', fill_value=0)),\n",
        "    # ('imputer', SimpleImputer(strategy='median')),\n",
        "    # ('poly', PolynomialFeatures(degree=2, include_bias=False)),\n",
        "    ('scaler', StandardScaler()),\n",
        "])"
      ],
      "metadata": {
        "id": "1Wk4-2n04X2W",
        "execution": {
          "iopub.status.busy": "2023-11-17T01:57:26.295109Z",
          "iopub.execute_input": "2023-11-17T01:57:26.295549Z",
          "iopub.status.idle": "2023-11-17T01:57:26.305075Z",
          "shell.execute_reply.started": "2023-11-17T01:57:26.295515Z",
          "shell.execute_reply": "2023-11-17T01:57:26.303489Z"
        },
        "trusted": true
      },
      "execution_count": null,
      "outputs": []
    },
    {
      "cell_type": "code",
      "source": [
        "len(XY_train_df_lst)"
      ],
      "metadata": {
        "id": "xTOWelLbQSSL",
        "execution": {
          "iopub.status.busy": "2023-11-17T01:57:26.306756Z",
          "iopub.execute_input": "2023-11-17T01:57:26.307194Z",
          "iopub.status.idle": "2023-11-17T01:57:26.319270Z",
          "shell.execute_reply.started": "2023-11-17T01:57:26.307144Z",
          "shell.execute_reply": "2023-11-17T01:57:26.318318Z"
        },
        "trusted": true,
        "outputId": "a4d9dcd2-accc-44b0-e233-942d58ff84cc"
      },
      "execution_count": null,
      "outputs": [
        {
          "execution_count": 30,
          "output_type": "execute_result",
          "data": {
            "text/plain": "500"
          },
          "metadata": {}
        }
      ]
    },
    {
      "cell_type": "code",
      "source": [],
      "metadata": {
        "id": "93ftyyx3TP3t"
      },
      "execution_count": null,
      "outputs": []
    },
    {
      "cell_type": "code",
      "source": [
        "def preprocess_dataset(target_df:pd.DataFrame, diff_order:int=1):\n",
        "    drop_cols = [\n",
        "    'near_price', 'far_price', 'time_id',\n",
        "    'seconds_in_bucket', 'stock_id', 'date_id',\n",
        "    'row_id',\n",
        "    ]\n",
        "    valid_cols = [\n",
        "        #'stock_id', 'date_id', 'seconds_in_bucket', 'row_id', # Not needed after grouping per-stock time series\n",
        "        'imbalance_size', 'imbalance_buy_sell_flag',\n",
        "        'reference_price', 'far_price', 'near_price',\n",
        "        'matched_size', 'bid_price', 'bid_size', 'ask_price', 'ask_size',\n",
        "        'wap',\n",
        "        ]\n",
        "    pp_target_df = target_df.copy()\n",
        "    pp_target_df.fillna(0, inplace=True)\n",
        "    if 'target' in target_df:\n",
        "        valid_cols.append('target')\n",
        "    pp_target_df = pp_target_df[valid_cols]\n",
        "    ####\n",
        "\n",
        "    # Differencing Time series Dataset\n",
        "    for _ in range(diff_order):\n",
        "        pp_target_df = pp_target_df.diff()\n",
        "    pp_target_df.dropna(inplace=True)\n",
        "    return pp_target_df"
      ],
      "metadata": {
        "id": "JfwhwUHUo57w",
        "execution": {
          "iopub.status.busy": "2023-11-17T01:57:26.320458Z",
          "iopub.execute_input": "2023-11-17T01:57:26.320812Z",
          "iopub.status.idle": "2023-11-17T01:57:26.329230Z",
          "shell.execute_reply.started": "2023-11-17T01:57:26.320780Z",
          "shell.execute_reply": "2023-11-17T01:57:26.327932Z"
        },
        "trusted": true
      },
      "execution_count": null,
      "outputs": []
    },
    {
      "cell_type": "code",
      "source": [
        "def get_lag_features(target_df:pd.DataFrame, wsize, wstride, num_ftime_steps=1):\n",
        "    # Each sample is a sequence of historical time steps\n",
        "    (N, p) = target_df.shape\n",
        "    init_index = wsize * wstride - num_ftime_steps\n",
        "    last_index = N - num_ftime_steps - wsize\n",
        "    lagtX_lst, lagtY_lst = [], []\n",
        "    for i in range(init_index, last_index):\n",
        "        lagtX_lst.append(target_df.iloc[(i-wsize+1):i, :].values)\n",
        "        lagtY_lst.append(target_df.iloc[i:i+wsize-1]['target'].values)\n",
        "    lagtX, lagtY = np.array(lagtX_lst), np.array(lagtY_lst)\n",
        "    return lagtX, lagtY"
      ],
      "metadata": {
        "id": "s3UGokMaMBlo",
        "execution": {
          "iopub.status.busy": "2023-11-17T01:57:26.330998Z",
          "iopub.execute_input": "2023-11-17T01:57:26.331517Z",
          "iopub.status.idle": "2023-11-17T01:57:26.342413Z",
          "shell.execute_reply.started": "2023-11-17T01:57:26.331477Z",
          "shell.execute_reply": "2023-11-17T01:57:26.341465Z"
        },
        "trusted": true
      },
      "execution_count": null,
      "outputs": []
    },
    {
      "cell_type": "code",
      "source": [
        "def get_ts_dataset(dataset_df_lst:list, num_htime_steps:int=55,  diff_order:int=1, shuffle:bool=True, batch_size=256):\n",
        "    XY_dataset = None\n",
        "    num_features = None\n",
        "    for XY_df in tqdm(XY_train_df_lst):\n",
        "        # Preprocess XY DataFrame\n",
        "        XY_df_pp = preprocess_dataset(XY_df, diff_order)\n",
        "        if num_features is None:\n",
        "            num_features = XY_df_pp.shape[1]\n",
        "        # Create Lag Features\n",
        "        lagX, lagY = get_lag_features(XY_df_pp, wsize=5, wstride=1)\n",
        "        # Create TF Dataset\n",
        "        XYtrain_ds = tf.data.Dataset.from_tensor_slices((lagX.copy().astype('float32'), lagY.astype('float32')))\n",
        "        if XY_dataset is None:\n",
        "            XY_dataset = XYtrain_ds\n",
        "        else:\n",
        "            XY_dataset = XY_dataset.concatenate(XYtrain_ds)#.batch(256)#.prefetch(tf.data.AUTOTUNE)\n",
        "    if shuffle:\n",
        "        return XY_dataset.shuffle(4, seed=0, reshuffle_each_iteration=True).batch(batch_size).prefetch(tf.data.AUTOTUNE), num_features\n",
        "    else:\n",
        "        return XY_dataset.batch(batch_size).prefetch(tf.data.AUTOTUNE), num_features\n",
        "        #return XY_dataset, num_features"
      ],
      "metadata": {
        "id": "EjghQkPPk68D",
        "execution": {
          "iopub.status.busy": "2023-11-17T01:57:26.345538Z",
          "iopub.execute_input": "2023-11-17T01:57:26.346008Z",
          "iopub.status.idle": "2023-11-17T01:57:26.355631Z",
          "shell.execute_reply.started": "2023-11-17T01:57:26.345961Z",
          "shell.execute_reply": "2023-11-17T01:57:26.354420Z"
        },
        "trusted": true
      },
      "execution_count": null,
      "outputs": []
    },
    {
      "cell_type": "code",
      "source": [
        "XY_dataset, num_features = get_ts_dataset(XY_train_df_lst,\n",
        "                                          diff_order=1,\n",
        "                                          shuffle=True\n",
        "                                         )"
      ],
      "metadata": {
        "id": "K0l2q4t91mF0",
        "outputId": "22dde2cf-d845-43ed-a198-fb96a6c16856",
        "execution": {
          "iopub.status.busy": "2023-11-17T01:57:26.357049Z",
          "iopub.execute_input": "2023-11-17T01:57:26.358119Z",
          "iopub.status.idle": "2023-11-17T01:57:32.348402Z",
          "shell.execute_reply.started": "2023-11-17T01:57:26.358080Z",
          "shell.execute_reply": "2023-11-17T01:57:32.347509Z"
        },
        "trusted": true
      },
      "execution_count": null,
      "outputs": [
        {
          "name": "stderr",
          "text": "100%|██████████| 500/500 [00:05<00:00, 84.19it/s]\n",
          "output_type": "stream"
        }
      ]
    },
    {
      "cell_type": "code",
      "source": [
        "num_features"
      ],
      "metadata": {
        "execution": {
          "iopub.status.busy": "2023-11-17T01:57:32.349720Z",
          "iopub.execute_input": "2023-11-17T01:57:32.350725Z",
          "iopub.status.idle": "2023-11-17T01:57:32.357855Z",
          "shell.execute_reply.started": "2023-11-17T01:57:32.350683Z",
          "shell.execute_reply": "2023-11-17T01:57:32.356782Z"
        },
        "trusted": true,
        "id": "67v9XtLf8K3q",
        "outputId": "7400deda-b63d-446e-dfea-797030e5c69e"
      },
      "execution_count": null,
      "outputs": [
        {
          "execution_count": 35,
          "output_type": "execute_result",
          "data": {
            "text/plain": "12"
          },
          "metadata": {}
        }
      ]
    },
    {
      "cell_type": "code",
      "source": [
        "for x_array, y_array in XY_dataset.as_numpy_iterator():\n",
        "    print(x_array.shape)\n",
        "    print(y_array.shape)\n",
        "    break"
      ],
      "metadata": {
        "execution": {
          "iopub.status.busy": "2023-11-17T01:57:32.360011Z",
          "iopub.execute_input": "2023-11-17T01:57:32.360501Z",
          "iopub.status.idle": "2023-11-17T01:57:32.838319Z",
          "shell.execute_reply.started": "2023-11-17T01:57:32.360461Z",
          "shell.execute_reply": "2023-11-17T01:57:32.837272Z"
        },
        "trusted": true,
        "id": "nHQrcgeO8K3u",
        "outputId": "6b6febd9-c116-4e4a-bef3-946822e60658"
      },
      "execution_count": null,
      "outputs": [
        {
          "name": "stdout",
          "text": "(256, 4, 12)\n(256, 4)\n",
          "output_type": "stream"
        }
      ]
    },
    {
      "cell_type": "code",
      "source": [
        "batch_size = 256"
      ],
      "metadata": {
        "id": "R4SD2k0_604t",
        "execution": {
          "iopub.status.busy": "2023-11-17T01:57:32.839582Z",
          "iopub.execute_input": "2023-11-17T01:57:32.839934Z",
          "iopub.status.idle": "2023-11-17T01:57:32.844530Z",
          "shell.execute_reply.started": "2023-11-17T01:57:32.839906Z",
          "shell.execute_reply": "2023-11-17T01:57:32.843575Z"
        },
        "trusted": true
      },
      "execution_count": null,
      "outputs": []
    },
    {
      "cell_type": "markdown",
      "source": [
        "# Make submission"
      ],
      "metadata": {
        "id": "677e7903"
      }
    },
    {
      "cell_type": "code",
      "source": [
        "def buid_model(num_features):\n",
        "    tf.random.set_seed(0)\n",
        "    Init = keras.initializers.GlorotUniform(seed=0)\n",
        "    m = Sequential([\n",
        "        LSTM(150, return_sequences=True,\n",
        "             input_shape=[None, num_features],\n",
        "             name='LSTM1', kernel_initializer=Init, recurrent_initializer=Init),\n",
        "        Dropout(.2, name='d1'),\n",
        "        LSTM(100, name='LSTM2', kernel_initializer=Init, recurrent_initializer=Init),\n",
        "        Dropout(.2, name='d2'),\n",
        "        Dense(1, name='out', kernel_initializer=Init)\n",
        "        ], name='Optiver_Model') # we build Ny forecasts\n",
        "\n",
        "    m.compile(optimizer='adam',\n",
        "              #optimizer=tf.keras.optimizers.Adam(learning_rate=0.00001, use_ema=True),\n",
        "              loss=tf.keras.losses.MeanSquaredError(),\n",
        "              metrics=[tf.keras.metrics.MeanAbsoluteError()],#PearsonCorrMetric()],\n",
        "              )\n",
        "    m.summary()\n",
        "    return m"
      ],
      "metadata": {
        "id": "UpzLeu9zVOU6",
        "execution": {
          "iopub.status.busy": "2023-11-17T01:57:32.845802Z",
          "iopub.execute_input": "2023-11-17T01:57:32.846818Z",
          "iopub.status.idle": "2023-11-17T01:57:32.856743Z",
          "shell.execute_reply.started": "2023-11-17T01:57:32.846784Z",
          "shell.execute_reply": "2023-11-17T01:57:32.855690Z"
        },
        "trusted": true
      },
      "execution_count": null,
      "outputs": []
    },
    {
      "cell_type": "code",
      "source": [
        "model = buid_model(num_features=num_features)"
      ],
      "metadata": {
        "id": "oJqLDMvfEHBc",
        "outputId": "61e533ed-a42d-4f2f-8074-7d8fda18efea",
        "execution": {
          "iopub.status.busy": "2023-11-17T01:57:32.858591Z",
          "iopub.execute_input": "2023-11-17T01:57:32.859336Z",
          "iopub.status.idle": "2023-11-17T01:57:33.605712Z",
          "shell.execute_reply.started": "2023-11-17T01:57:32.859301Z",
          "shell.execute_reply": "2023-11-17T01:57:33.604479Z"
        },
        "trusted": true
      },
      "execution_count": null,
      "outputs": [
        {
          "name": "stdout",
          "text": "Model: \"Optiver_Model\"\n_________________________________________________________________\n Layer (type)                Output Shape              Param #   \n=================================================================\n LSTM1 (LSTM)                (None, None, 150)         97800     \n                                                                 \n d1 (Dropout)                (None, None, 150)         0         \n                                                                 \n LSTM2 (LSTM)                (None, 100)               100400    \n                                                                 \n d2 (Dropout)                (None, 100)               0         \n                                                                 \n out (Dense)                 (None, 1)                 101       \n                                                                 \n=================================================================\nTotal params: 198301 (774.61 KB)\nTrainable params: 198301 (774.61 KB)\nNon-trainable params: 0 (0.00 Byte)\n_________________________________________________________________\n",
          "output_type": "stream"
        }
      ]
    },
    {
      "cell_type": "code",
      "source": [
        "%%time\n",
        "def lr_scheduler(epoch, lr):\n",
        "    decay_rate = 0.1\n",
        "    decay_step = 3\n",
        "    if epoch % decay_step == 0 and epoch:\n",
        "        return lr * np.exp(-(decay_rate * np.floor(epoch / decay_step)))\n",
        "    return lr\n",
        "\n",
        "callbacks = [\n",
        "    keras.callbacks.LearningRateScheduler(lr_scheduler, verbose=1)\n",
        "]\n",
        "\n",
        "# Train model\n",
        "hist = model.fit(XY_dataset,\n",
        "                 batch_size=256,\n",
        "                 epochs=40,\n",
        "                 callbacks=callbacks,\n",
        "                 )"
      ],
      "metadata": {
        "id": "1T2Ixi90UJh5",
        "outputId": "7e130218-7793-4323-8eec-1e1812e35266",
        "execution": {
          "iopub.status.busy": "2023-11-17T01:57:33.607284Z",
          "iopub.execute_input": "2023-11-17T01:57:33.607746Z",
          "iopub.status.idle": "2023-11-17T02:00:57.410345Z",
          "shell.execute_reply.started": "2023-11-17T01:57:33.607705Z",
          "shell.execute_reply": "2023-11-17T02:00:57.408723Z"
        },
        "trusted": true
      },
      "execution_count": null,
      "outputs": [
        {
          "name": "stdout",
          "text": "\nEpoch 1: LearningRateScheduler setting learning rate to 0.0010000000474974513.\nEpoch 1/40\n86/86 [==============================] - 8s 41ms/step - loss: 18.7019 - mean_absolute_error: 3.0119 - lr: 0.0010\n\nEpoch 2: LearningRateScheduler setting learning rate to 0.0010000000474974513.\nEpoch 2/40\n86/86 [==============================] - 4s 41ms/step - loss: 18.6601 - mean_absolute_error: 3.0072 - lr: 0.0010\n\nEpoch 3: LearningRateScheduler setting learning rate to 0.0010000000474974513.\nEpoch 3/40\n86/86 [==============================] - 4s 41ms/step - loss: 18.6488 - mean_absolute_error: 3.0068 - lr: 0.0010\n\nEpoch 4: LearningRateScheduler setting learning rate to 0.0009048374610134307.\nEpoch 4/40\n86/86 [==============================] - 4s 41ms/step - loss: 18.6403 - mean_absolute_error: 3.0057 - lr: 9.0484e-04\n\nEpoch 5: LearningRateScheduler setting learning rate to 0.0009048374486155808.\nEpoch 5/40\n86/86 [==============================] - 4s 41ms/step - loss: 18.6359 - mean_absolute_error: 3.0062 - lr: 9.0484e-04\n\nEpoch 6: LearningRateScheduler setting learning rate to 0.0009048374486155808.\nEpoch 6/40\n86/86 [==============================] - 4s 40ms/step - loss: 18.6247 - mean_absolute_error: 3.0051 - lr: 9.0484e-04\n\nEpoch 7: LearningRateScheduler setting learning rate to 0.0007408182457181941.\nEpoch 7/40\n86/86 [==============================] - 4s 41ms/step - loss: 18.6246 - mean_absolute_error: 3.0052 - lr: 7.4082e-04\n\nEpoch 8: LearningRateScheduler setting learning rate to 0.0007408182718791068.\nEpoch 8/40\n86/86 [==============================] - 3s 40ms/step - loss: 18.6087 - mean_absolute_error: 3.0039 - lr: 7.4082e-04\n\nEpoch 9: LearningRateScheduler setting learning rate to 0.0007408182718791068.\nEpoch 9/40\n86/86 [==============================] - 3s 40ms/step - loss: 18.6065 - mean_absolute_error: 3.0048 - lr: 7.4082e-04\n\nEpoch 10: LearningRateScheduler setting learning rate to 0.000548811674021985.\nEpoch 10/40\n86/86 [==============================] - 4s 44ms/step - loss: 18.5940 - mean_absolute_error: 3.0038 - lr: 5.4881e-04\n\nEpoch 11: LearningRateScheduler setting learning rate to 0.0005488116876222193.\nEpoch 11/40\n86/86 [==============================] - 3s 40ms/step - loss: 18.5861 - mean_absolute_error: 3.0031 - lr: 5.4881e-04\n\nEpoch 12: LearningRateScheduler setting learning rate to 0.0005488116876222193.\nEpoch 12/40\n86/86 [==============================] - 4s 40ms/step - loss: 18.5776 - mean_absolute_error: 3.0026 - lr: 5.4881e-04\n\nEpoch 13: LearningRateScheduler setting learning rate to 0.00036787947571182295.\nEpoch 13/40\n86/86 [==============================] - 3s 40ms/step - loss: 18.5555 - mean_absolute_error: 3.0011 - lr: 3.6788e-04\n\nEpoch 14: LearningRateScheduler setting learning rate to 0.000367879489203915.\nEpoch 14/40\n86/86 [==============================] - 3s 40ms/step - loss: 18.5500 - mean_absolute_error: 3.0005 - lr: 3.6788e-04\n\nEpoch 15: LearningRateScheduler setting learning rate to 0.000367879489203915.\nEpoch 15/40\n86/86 [==============================] - 4s 40ms/step - loss: 18.5277 - mean_absolute_error: 3.0006 - lr: 3.6788e-04\n\nEpoch 16: LearningRateScheduler setting learning rate to 0.00022313018928159716.\nEpoch 16/40\n86/86 [==============================] - 3s 40ms/step - loss: 18.5128 - mean_absolute_error: 2.9988 - lr: 2.2313e-04\n\nEpoch 17: LearningRateScheduler setting learning rate to 0.000223130191443488.\nEpoch 17/40\n86/86 [==============================] - 4s 42ms/step - loss: 18.5085 - mean_absolute_error: 2.9988 - lr: 2.2313e-04\n\nEpoch 18: LearningRateScheduler setting learning rate to 0.000223130191443488.\nEpoch 18/40\n86/86 [==============================] - 3s 40ms/step - loss: 18.4925 - mean_absolute_error: 2.9987 - lr: 2.2313e-04\n\nEpoch 19: LearningRateScheduler setting learning rate to 0.000122456445428074.\nEpoch 19/40\n86/86 [==============================] - 3s 40ms/step - loss: 18.4759 - mean_absolute_error: 2.9976 - lr: 1.2246e-04\n\nEpoch 20: LearningRateScheduler setting learning rate to 0.00012245644757058471.\nEpoch 20/40\n86/86 [==============================] - 3s 40ms/step - loss: 18.4760 - mean_absolute_error: 2.9965 - lr: 1.2246e-04\n\nEpoch 21: LearningRateScheduler setting learning rate to 0.00012245644757058471.\nEpoch 21/40\n86/86 [==============================] - 3s 40ms/step - loss: 18.4653 - mean_absolute_error: 2.9962 - lr: 1.2246e-04\n\nEpoch 22: LearningRateScheduler setting learning rate to 6.0810072218055614e-05.\nEpoch 22/40\n86/86 [==============================] - 4s 41ms/step - loss: 18.4631 - mean_absolute_error: 2.9970 - lr: 6.0810e-05\n\nEpoch 23: LearningRateScheduler setting learning rate to 6.081007086322643e-05.\nEpoch 23/40\n86/86 [==============================] - 4s 44ms/step - loss: 18.4467 - mean_absolute_error: 2.9959 - lr: 6.0810e-05\n\nEpoch 24: LearningRateScheduler setting learning rate to 6.081007086322643e-05.\nEpoch 24/40\n86/86 [==============================] - 4s 40ms/step - loss: 18.4317 - mean_absolute_error: 2.9935 - lr: 6.0810e-05\n\nEpoch 25: LearningRateScheduler setting learning rate to 2.732372614886837e-05.\nEpoch 25/40\n86/86 [==============================] - 4s 40ms/step - loss: 18.4192 - mean_absolute_error: 2.9942 - lr: 2.7324e-05\n\nEpoch 26: LearningRateScheduler setting learning rate to 2.7323725589667447e-05.\nEpoch 26/40\n86/86 [==============================] - 4s 41ms/step - loss: 18.4205 - mean_absolute_error: 2.9939 - lr: 2.7324e-05\n\nEpoch 27: LearningRateScheduler setting learning rate to 2.7323725589667447e-05.\nEpoch 27/40\n86/86 [==============================] - 4s 40ms/step - loss: 18.4206 - mean_absolute_error: 2.9938 - lr: 2.7324e-05\n\nEpoch 28: LearningRateScheduler setting learning rate to 1.1108997815836595e-05.\nEpoch 28/40\n86/86 [==============================] - 3s 40ms/step - loss: 18.4139 - mean_absolute_error: 2.9937 - lr: 1.1109e-05\n\nEpoch 29: LearningRateScheduler setting learning rate to 1.1108997568953782e-05.\nEpoch 29/40\n86/86 [==============================] - 4s 40ms/step - loss: 18.4223 - mean_absolute_error: 2.9938 - lr: 1.1109e-05\n\nEpoch 30: LearningRateScheduler setting learning rate to 1.1108997568953782e-05.\nEpoch 30/40\n86/86 [==============================] - 4s 41ms/step - loss: 18.4078 - mean_absolute_error: 2.9926 - lr: 1.1109e-05\n\nEpoch 31: LearningRateScheduler setting learning rate to 4.0867718176416284e-06.\nEpoch 31/40\n86/86 [==============================] - 4s 41ms/step - loss: 18.4113 - mean_absolute_error: 2.9931 - lr: 4.0868e-06\n\nEpoch 32: LearningRateScheduler setting learning rate to 4.08677169616567e-06.\nEpoch 32/40\n86/86 [==============================] - 3s 40ms/step - loss: 18.4079 - mean_absolute_error: 2.9925 - lr: 4.0868e-06\n\nEpoch 33: LearningRateScheduler setting learning rate to 4.08677169616567e-06.\nEpoch 33/40\n86/86 [==============================] - 4s 40ms/step - loss: 18.4059 - mean_absolute_error: 2.9910 - lr: 4.0868e-06\n\nEpoch 34: LearningRateScheduler setting learning rate to 1.3603681233293053e-06.\nEpoch 34/40\n86/86 [==============================] - 3s 40ms/step - loss: 18.4109 - mean_absolute_error: 2.9922 - lr: 1.3604e-06\n\nEpoch 35: LearningRateScheduler setting learning rate to 1.3603681736640283e-06.\nEpoch 35/40\n86/86 [==============================] - 4s 40ms/step - loss: 18.4086 - mean_absolute_error: 2.9921 - lr: 1.3604e-06\n\nEpoch 36: LearningRateScheduler setting learning rate to 1.3603681736640283e-06.\nEpoch 36/40\n86/86 [==============================] - 4s 41ms/step - loss: 18.4051 - mean_absolute_error: 2.9928 - lr: 1.3604e-06\n\nEpoch 37: LearningRateScheduler setting learning rate to 4.097350199771786e-07.\nEpoch 37/40\n86/86 [==============================] - 3s 40ms/step - loss: 18.4038 - mean_absolute_error: 2.9922 - lr: 4.0974e-07\n\nEpoch 38: LearningRateScheduler setting learning rate to 4.0973500858854095e-07.\nEpoch 38/40\n86/86 [==============================] - 3s 40ms/step - loss: 18.3986 - mean_absolute_error: 2.9916 - lr: 4.0974e-07\n\nEpoch 39: LearningRateScheduler setting learning rate to 4.0973500858854095e-07.\nEpoch 39/40\n86/86 [==============================] - 3s 39ms/step - loss: 18.3981 - mean_absolute_error: 2.9919 - lr: 4.0974e-07\n\nEpoch 40: LearningRateScheduler setting learning rate to 1.1166581655944162e-07.\nEpoch 40/40\n86/86 [==============================] - 3s 40ms/step - loss: 18.4042 - mean_absolute_error: 2.9924 - lr: 1.1167e-07\nCPU times: user 6min 11s, sys: 16.2 s, total: 6min 27s\nWall time: 3min 23s\n",
          "output_type": "stream"
        }
      ]
    },
    {
      "cell_type": "code",
      "source": [
        "def get_initial_future_vals(target_df:pd.DataFrame, diff_order:int):\n",
        "    # Get initial future values according to diff order\n",
        "    init_values_all = target_df.iloc[-diff_order:]['target'].values\n",
        "    if diff_order > 1:\n",
        "        init_future_vals = []\n",
        "        first_elem = init_values_all[0]\n",
        "        for i in range(diff_order-1):\n",
        "            init_future_vals.append(first_elem)\n",
        "            init_vals_tmp = np.diff(init_values_all[i:])\n",
        "            first_elem = init_vals_tmp[0]\n",
        "            #print(f\"i={i} - init_values_all:{init_values_all} init_future_vals: {init_future_vals} init_vals_tmp: {init_vals_tmp}\")\n",
        "        return np.concatenate([np.array(init_future_vals), init_vals_tmp])\n",
        "    else:\n",
        "        return init_values_all[0]"
      ],
      "metadata": {
        "execution": {
          "iopub.status.busy": "2023-11-17T02:00:57.412143Z",
          "iopub.execute_input": "2023-11-17T02:00:57.412629Z",
          "iopub.status.idle": "2023-11-17T02:00:57.421381Z",
          "shell.execute_reply.started": "2023-11-17T02:00:57.412594Z",
          "shell.execute_reply": "2023-11-17T02:00:57.419925Z"
        },
        "trusted": true,
        "id": "l5Jc6R7W8K3v"
      },
      "execution_count": null,
      "outputs": []
    },
    {
      "cell_type": "code",
      "source": [
        "def pp_predictions(init_future_values:np.ndarray, predictions, diff_order:int):\n",
        "    py_preds = np.concatenate([init_future_values.ravel(), predictions])\n",
        "    py_preds = np.cumsum(py_preds, axis=0)\n",
        "    return py_preds[diff_order:]"
      ],
      "metadata": {
        "execution": {
          "iopub.status.busy": "2023-11-17T02:00:57.423383Z",
          "iopub.execute_input": "2023-11-17T02:00:57.423718Z",
          "iopub.status.idle": "2023-11-17T02:00:57.435606Z",
          "shell.execute_reply.started": "2023-11-17T02:00:57.423690Z",
          "shell.execute_reply": "2023-11-17T02:00:57.433934Z"
        },
        "trusted": true,
        "id": "MGJLCrvJ8K3v"
      },
      "execution_count": null,
      "outputs": []
    },
    {
      "cell_type": "code",
      "source": [
        "# batch_size = 4\n",
        "# XYtest_dataset = None\n",
        "# for XY_test_df in tqdm(XY_test_df_lst):\n",
        "#     # Preprocess XY DataFrame\n",
        "#     Xtest_array = preprocess_dataset(XY_test_df, diff_order)\n",
        "#     #print(f\"Xtest_array.shape: {Xtest_array.shape}\")\n",
        "#     # Create TF Dataset\n",
        "#     XYtest_ds = tf.data.Dataset.from_tensor_slices((Xtest_array.values, Xtest_array.values[:,-1]))\n",
        "#     if XYtest_ds is None:\n",
        "#         raise ValueError\n",
        "#     if XYtest_dataset is None:\n",
        "#         XYtest_dataset = copy(XYtest_ds)\n",
        "#     else:\n",
        "#         XYtest_dataset = XYtest_dataset.concatenate(XYtest_ds)\n",
        "#     #break\n",
        "# XYtest_dataset = XYtest_dataset.shuffle(4, seed=0, reshuffle_each_iteration=True).batch(256).prefetch(tf.data.AUTOTUNE)"
      ],
      "metadata": {
        "id": "jqVjgEMvbJl3",
        "execution": {
          "iopub.status.busy": "2023-11-17T02:00:57.437765Z",
          "iopub.execute_input": "2023-11-17T02:00:57.438287Z",
          "iopub.status.idle": "2023-11-17T02:00:57.446672Z",
          "shell.execute_reply.started": "2023-11-17T02:00:57.438249Z",
          "shell.execute_reply": "2023-11-17T02:00:57.445261Z"
        },
        "trusted": true
      },
      "execution_count": null,
      "outputs": []
    },
    {
      "cell_type": "code",
      "source": [
        "def get_narrow_window_preds(model, target_df_lst, diff_order:int):\n",
        "    y_preds = None\n",
        "    y_true_all = None\n",
        "    for target_df in tqdm(target_df_lst):\n",
        "        y_true_all = np.concatenate([y_true_all, target_df['target'].values]) if y_true_all is not None else target_df['target'].values\n",
        "        print(f\"y_true_all.shape:{y_true_all.shape}\")\n",
        "        # Get initial future values\n",
        "        xtest_init_vals = get_initial_future_vals(target_df, diff_order)\n",
        "        # Preprocess target DataFrame\n",
        "        target_df_pp = preprocess_dataset(target_df, diff_order)\n",
        "        # Build TF Dataset\n",
        "        target_ds = tf.data.Dataset.from_tensor_slices(target_df_pp.values.ravel())\n",
        "        target_ds= target_ds.window(12, shift=12)\n",
        "        target_ds_batched = target_ds.flat_map(lambda window_ds: window_ds.batch(12))\n",
        "\n",
        "        #target_ds_batched = target_ds.flat_map(lambda x:x.batch(1))\n",
        "        batch_preds = None\n",
        "        for batch_ds in target_ds_batched:\n",
        "            #print(tf.expand_dims(batch, axis=0).numpy().shape)\n",
        "            pred = model.predict(tf.expand_dims(batch_ds[np.newaxis, ...], axis=0), verbose=0)\n",
        "            batch_preds = np.concatenate([batch_preds, pred]) if batch_preds is not None else pred\n",
        "        batch_preds_pp = pp_predictions(xtest_init_vals, batch_preds.ravel(), diff_order)\n",
        "        y_preds = np.concatenate([y_preds, batch_preds_pp]) if y_preds is not None else batch_preds_pp\n",
        "        print(f\"len(y_preds):{len(y_preds)}\")\n",
        "        break\n",
        "    return y_true_all, np.array(y_preds)"
      ],
      "metadata": {
        "execution": {
          "iopub.status.busy": "2023-11-17T03:44:18.140378Z",
          "iopub.execute_input": "2023-11-17T03:44:18.140758Z",
          "iopub.status.idle": "2023-11-17T03:44:18.150099Z",
          "shell.execute_reply.started": "2023-11-17T03:44:18.140729Z",
          "shell.execute_reply": "2023-11-17T03:44:18.149239Z"
        },
        "trusted": true,
        "id": "NCf1pRbj8K3v"
      },
      "execution_count": null,
      "outputs": []
    },
    {
      "cell_type": "code",
      "source": [
        "y_true, all_preds = get_narrow_window_preds(model, XY_test_df_lst, diff_order)"
      ],
      "metadata": {
        "execution": {
          "iopub.status.busy": "2023-11-17T03:44:19.275813Z",
          "iopub.execute_input": "2023-11-17T03:44:19.276309Z",
          "iopub.status.idle": "2023-11-17T03:44:23.029455Z",
          "shell.execute_reply.started": "2023-11-17T03:44:19.276272Z",
          "shell.execute_reply": "2023-11-17T03:44:23.028259Z"
        },
        "trusted": true,
        "id": "fU4IHDAa8K3v",
        "outputId": "cc5e8c50-4bfe-484d-9ab3-c6bb77c39bf5"
      },
      "execution_count": null,
      "outputs": [
        {
          "name": "stderr",
          "text": "  0%|          | 0/50 [00:00<?, ?it/s]",
          "output_type": "stream"
        },
        {
          "name": "stdout",
          "text": "y_true_all.shape:(55,)\n",
          "output_type": "stream"
        },
        {
          "name": "stderr",
          "text": "  0%|          | 0/50 [00:03<?, ?it/s]",
          "output_type": "stream"
        },
        {
          "name": "stdout",
          "text": "len(y_preds):54\n",
          "output_type": "stream"
        },
        {
          "name": "stderr",
          "text": "\n",
          "output_type": "stream"
        }
      ]
    },
    {
      "cell_type": "code",
      "source": [
        "mean_absolute_error(y_true, all_preds)"
      ],
      "metadata": {
        "execution": {
          "iopub.status.busy": "2023-11-17T03:32:01.702644Z",
          "iopub.execute_input": "2023-11-17T03:32:01.703036Z",
          "iopub.status.idle": "2023-11-17T03:32:01.774343Z",
          "shell.execute_reply.started": "2023-11-17T03:32:01.703004Z",
          "shell.execute_reply": "2023-11-17T03:32:01.772662Z"
        },
        "trusted": true,
        "id": "YkdTByrv8K3v",
        "outputId": "79828d96-9df3-416f-c37a-d9a659179ec2"
      },
      "execution_count": null,
      "outputs": [
        {
          "traceback": [
            "\u001b[0;31m---------------------------------------------------------------------------\u001b[0m",
            "\u001b[0;31mValueError\u001b[0m                                Traceback (most recent call last)",
            "Cell \u001b[0;32mIn[233], line 1\u001b[0m\n\u001b[0;32m----> 1\u001b[0m \u001b[43mmean_absolute_error\u001b[49m\u001b[43m(\u001b[49m\u001b[43my_true\u001b[49m\u001b[43m,\u001b[49m\u001b[43m \u001b[49m\u001b[43mall_preds\u001b[49m\u001b[43m)\u001b[49m\n",
            "File \u001b[0;32m/opt/conda/lib/python3.10/site-packages/sklearn/metrics/_regression.py:196\u001b[0m, in \u001b[0;36mmean_absolute_error\u001b[0;34m(y_true, y_pred, sample_weight, multioutput)\u001b[0m\n\u001b[1;32m    141\u001b[0m \u001b[38;5;28;01mdef\u001b[39;00m \u001b[38;5;21mmean_absolute_error\u001b[39m(\n\u001b[1;32m    142\u001b[0m     y_true, y_pred, \u001b[38;5;241m*\u001b[39m, sample_weight\u001b[38;5;241m=\u001b[39m\u001b[38;5;28;01mNone\u001b[39;00m, multioutput\u001b[38;5;241m=\u001b[39m\u001b[38;5;124m\"\u001b[39m\u001b[38;5;124muniform_average\u001b[39m\u001b[38;5;124m\"\u001b[39m\n\u001b[1;32m    143\u001b[0m ):\n\u001b[1;32m    144\u001b[0m \u001b[38;5;250m    \u001b[39m\u001b[38;5;124;03m\"\"\"Mean absolute error regression loss.\u001b[39;00m\n\u001b[1;32m    145\u001b[0m \n\u001b[1;32m    146\u001b[0m \u001b[38;5;124;03m    Read more in the :ref:`User Guide <mean_absolute_error>`.\u001b[39;00m\n\u001b[0;32m   (...)\u001b[0m\n\u001b[1;32m    194\u001b[0m \u001b[38;5;124;03m    0.85...\u001b[39;00m\n\u001b[1;32m    195\u001b[0m \u001b[38;5;124;03m    \"\"\"\u001b[39;00m\n\u001b[0;32m--> 196\u001b[0m     y_type, y_true, y_pred, multioutput \u001b[38;5;241m=\u001b[39m \u001b[43m_check_reg_targets\u001b[49m\u001b[43m(\u001b[49m\n\u001b[1;32m    197\u001b[0m \u001b[43m        \u001b[49m\u001b[43my_true\u001b[49m\u001b[43m,\u001b[49m\u001b[43m \u001b[49m\u001b[43my_pred\u001b[49m\u001b[43m,\u001b[49m\u001b[43m \u001b[49m\u001b[43mmultioutput\u001b[49m\n\u001b[1;32m    198\u001b[0m \u001b[43m    \u001b[49m\u001b[43m)\u001b[49m\n\u001b[1;32m    199\u001b[0m     check_consistent_length(y_true, y_pred, sample_weight)\n\u001b[1;32m    200\u001b[0m     output_errors \u001b[38;5;241m=\u001b[39m np\u001b[38;5;241m.\u001b[39maverage(np\u001b[38;5;241m.\u001b[39mabs(y_pred \u001b[38;5;241m-\u001b[39m y_true), weights\u001b[38;5;241m=\u001b[39msample_weight, axis\u001b[38;5;241m=\u001b[39m\u001b[38;5;241m0\u001b[39m)\n",
            "File \u001b[0;32m/opt/conda/lib/python3.10/site-packages/sklearn/metrics/_regression.py:100\u001b[0m, in \u001b[0;36m_check_reg_targets\u001b[0;34m(y_true, y_pred, multioutput, dtype)\u001b[0m\n\u001b[1;32m     66\u001b[0m \u001b[38;5;28;01mdef\u001b[39;00m \u001b[38;5;21m_check_reg_targets\u001b[39m(y_true, y_pred, multioutput, dtype\u001b[38;5;241m=\u001b[39m\u001b[38;5;124m\"\u001b[39m\u001b[38;5;124mnumeric\u001b[39m\u001b[38;5;124m\"\u001b[39m):\n\u001b[1;32m     67\u001b[0m \u001b[38;5;250m    \u001b[39m\u001b[38;5;124;03m\"\"\"Check that y_true and y_pred belong to the same regression task.\u001b[39;00m\n\u001b[1;32m     68\u001b[0m \n\u001b[1;32m     69\u001b[0m \u001b[38;5;124;03m    Parameters\u001b[39;00m\n\u001b[0;32m   (...)\u001b[0m\n\u001b[1;32m     98\u001b[0m \u001b[38;5;124;03m        correct keyword.\u001b[39;00m\n\u001b[1;32m     99\u001b[0m \u001b[38;5;124;03m    \"\"\"\u001b[39;00m\n\u001b[0;32m--> 100\u001b[0m     \u001b[43mcheck_consistent_length\u001b[49m\u001b[43m(\u001b[49m\u001b[43my_true\u001b[49m\u001b[43m,\u001b[49m\u001b[43m \u001b[49m\u001b[43my_pred\u001b[49m\u001b[43m)\u001b[49m\n\u001b[1;32m    101\u001b[0m     y_true \u001b[38;5;241m=\u001b[39m check_array(y_true, ensure_2d\u001b[38;5;241m=\u001b[39m\u001b[38;5;28;01mFalse\u001b[39;00m, dtype\u001b[38;5;241m=\u001b[39mdtype)\n\u001b[1;32m    102\u001b[0m     y_pred \u001b[38;5;241m=\u001b[39m check_array(y_pred, ensure_2d\u001b[38;5;241m=\u001b[39m\u001b[38;5;28;01mFalse\u001b[39;00m, dtype\u001b[38;5;241m=\u001b[39mdtype)\n",
            "File \u001b[0;32m/opt/conda/lib/python3.10/site-packages/sklearn/utils/validation.py:397\u001b[0m, in \u001b[0;36mcheck_consistent_length\u001b[0;34m(*arrays)\u001b[0m\n\u001b[1;32m    395\u001b[0m uniques \u001b[38;5;241m=\u001b[39m np\u001b[38;5;241m.\u001b[39munique(lengths)\n\u001b[1;32m    396\u001b[0m \u001b[38;5;28;01mif\u001b[39;00m \u001b[38;5;28mlen\u001b[39m(uniques) \u001b[38;5;241m>\u001b[39m \u001b[38;5;241m1\u001b[39m:\n\u001b[0;32m--> 397\u001b[0m     \u001b[38;5;28;01mraise\u001b[39;00m \u001b[38;5;167;01mValueError\u001b[39;00m(\n\u001b[1;32m    398\u001b[0m         \u001b[38;5;124m\"\u001b[39m\u001b[38;5;124mFound input variables with inconsistent numbers of samples: \u001b[39m\u001b[38;5;132;01m%r\u001b[39;00m\u001b[38;5;124m\"\u001b[39m\n\u001b[1;32m    399\u001b[0m         \u001b[38;5;241m%\u001b[39m [\u001b[38;5;28mint\u001b[39m(l) \u001b[38;5;28;01mfor\u001b[39;00m l \u001b[38;5;129;01min\u001b[39;00m lengths]\n\u001b[1;32m    400\u001b[0m     )\n",
            "\u001b[0;31mValueError\u001b[0m: Found input variables with inconsistent numbers of samples: [2750, 2700]"
          ],
          "ename": "ValueError",
          "evalue": "Found input variables with inconsistent numbers of samples: [2750, 2700]",
          "output_type": "error"
        }
      ]
    },
    {
      "cell_type": "code",
      "source": [
        "all_preds.shape"
      ],
      "metadata": {
        "execution": {
          "iopub.status.busy": "2023-11-17T02:59:43.817670Z",
          "iopub.execute_input": "2023-11-17T02:59:43.818077Z",
          "iopub.status.idle": "2023-11-17T02:59:43.827678Z",
          "shell.execute_reply.started": "2023-11-17T02:59:43.818044Z",
          "shell.execute_reply": "2023-11-17T02:59:43.825890Z"
        },
        "trusted": true,
        "id": "Us1buIi_8K3v",
        "outputId": "4b0ff7c8-a1fc-47d6-f41b-307d4c3672db"
      },
      "execution_count": null,
      "outputs": [
        {
          "execution_count": 158,
          "output_type": "execute_result",
          "data": {
            "text/plain": "(50, 1)"
          },
          "metadata": {}
        }
      ]
    },
    {
      "cell_type": "code",
      "source": [
        "y_true.shape"
      ],
      "metadata": {
        "execution": {
          "iopub.status.busy": "2023-11-17T02:59:51.130178Z",
          "iopub.execute_input": "2023-11-17T02:59:51.131586Z",
          "iopub.status.idle": "2023-11-17T02:59:51.141837Z",
          "shell.execute_reply.started": "2023-11-17T02:59:51.131525Z",
          "shell.execute_reply": "2023-11-17T02:59:51.139978Z"
        },
        "trusted": true,
        "id": "LX6ALYHT8K3v",
        "outputId": "1a0930a7-a134-47cd-d662-261b6db2fc7d"
      },
      "execution_count": null,
      "outputs": [
        {
          "execution_count": 159,
          "output_type": "execute_result",
          "data": {
            "text/plain": "(2750,)"
          },
          "metadata": {}
        }
      ]
    },
    {
      "cell_type": "code",
      "source": [
        "XY_test_df = XY_test_df_lst[0].copy()"
      ],
      "metadata": {
        "execution": {
          "iopub.status.busy": "2023-11-17T03:03:19.185361Z",
          "iopub.execute_input": "2023-11-17T03:03:19.186004Z",
          "iopub.status.idle": "2023-11-17T03:03:19.191533Z",
          "shell.execute_reply.started": "2023-11-17T03:03:19.185956Z",
          "shell.execute_reply": "2023-11-17T03:03:19.190495Z"
        },
        "trusted": true,
        "id": "7sc3Un9k8K3w"
      },
      "execution_count": null,
      "outputs": []
    },
    {
      "cell_type": "code",
      "source": [
        "xtest_init_vals = get_initial_future_vals(XY_test_df, diff_order)"
      ],
      "metadata": {
        "execution": {
          "iopub.status.busy": "2023-11-17T03:03:20.438613Z",
          "iopub.execute_input": "2023-11-17T03:03:20.439343Z",
          "iopub.status.idle": "2023-11-17T03:03:20.444052Z",
          "shell.execute_reply.started": "2023-11-17T03:03:20.439302Z",
          "shell.execute_reply": "2023-11-17T03:03:20.443012Z"
        },
        "trusted": true,
        "id": "Ob1gViXY8K3w"
      },
      "execution_count": null,
      "outputs": []
    },
    {
      "cell_type": "code",
      "source": [
        "xtest_init_vals"
      ],
      "metadata": {
        "execution": {
          "iopub.status.busy": "2023-11-17T03:03:21.807289Z",
          "iopub.execute_input": "2023-11-17T03:03:21.807738Z",
          "iopub.status.idle": "2023-11-17T03:03:21.814762Z",
          "shell.execute_reply.started": "2023-11-17T03:03:21.807704Z",
          "shell.execute_reply": "2023-11-17T03:03:21.813575Z"
        },
        "trusted": true,
        "id": "qMIjv94H8K3w",
        "outputId": "a4792e42-d05f-49b8-8d3a-2bc3a7617d55"
      },
      "execution_count": null,
      "outputs": [
        {
          "execution_count": 163,
          "output_type": "execute_result",
          "data": {
            "text/plain": "7.0405006"
          },
          "metadata": {}
        }
      ]
    },
    {
      "cell_type": "code",
      "source": [
        "XY_test_df.shape"
      ],
      "metadata": {
        "execution": {
          "iopub.status.busy": "2023-11-17T03:04:34.357174Z",
          "iopub.execute_input": "2023-11-17T03:04:34.357691Z",
          "iopub.status.idle": "2023-11-17T03:04:34.365509Z",
          "shell.execute_reply.started": "2023-11-17T03:04:34.357650Z",
          "shell.execute_reply": "2023-11-17T03:04:34.364302Z"
        },
        "trusted": true,
        "id": "xAugOxIH8K3w",
        "outputId": "c4a31585-5bf5-451c-c713-466eb6bb7886"
      },
      "execution_count": null,
      "outputs": [
        {
          "execution_count": 169,
          "output_type": "execute_result",
          "data": {
            "text/plain": "(55, 17)"
          },
          "metadata": {}
        }
      ]
    },
    {
      "cell_type": "code",
      "source": [
        "Xtest_df_pp = preprocess_dataset(XY_test_df, diff_order) ; Xtest_df_pp.to_numpy().shape"
      ],
      "metadata": {
        "execution": {
          "iopub.status.busy": "2023-11-17T03:03:24.272899Z",
          "iopub.execute_input": "2023-11-17T03:03:24.273345Z",
          "iopub.status.idle": "2023-11-17T03:03:24.285992Z",
          "shell.execute_reply.started": "2023-11-17T03:03:24.273308Z",
          "shell.execute_reply": "2023-11-17T03:03:24.284686Z"
        },
        "trusted": true,
        "id": "l4Mw-die8K3w",
        "outputId": "bb50d910-c1ac-472e-d16e-021a8a797dce"
      },
      "execution_count": null,
      "outputs": [
        {
          "execution_count": 164,
          "output_type": "execute_result",
          "data": {
            "text/plain": "(54, 12)"
          },
          "metadata": {}
        }
      ]
    },
    {
      "cell_type": "code",
      "source": [
        "#test_ds = tf.data.Dataset.from_tensor_slices(tf.expand_dims(Xtest_df_pp.to_numpy(), axis=0)).batch(1)\n",
        "test_ds = tf.data.Dataset.from_tensor_slices(Xtest_df_pp.to_numpy().ravel())#.batch(1)"
      ],
      "metadata": {
        "execution": {
          "iopub.status.busy": "2023-11-17T03:20:57.910147Z",
          "iopub.execute_input": "2023-11-17T03:20:57.910562Z",
          "iopub.status.idle": "2023-11-17T03:20:57.920716Z",
          "shell.execute_reply.started": "2023-11-17T03:20:57.910526Z",
          "shell.execute_reply": "2023-11-17T03:20:57.919365Z"
        },
        "trusted": true,
        "id": "Ek4DvarS8K3w"
      },
      "execution_count": null,
      "outputs": []
    },
    {
      "cell_type": "code",
      "source": [
        "test_ds"
      ],
      "metadata": {
        "execution": {
          "iopub.status.busy": "2023-11-17T03:20:59.342682Z",
          "iopub.execute_input": "2023-11-17T03:20:59.343073Z",
          "iopub.status.idle": "2023-11-17T03:20:59.350585Z",
          "shell.execute_reply.started": "2023-11-17T03:20:59.343040Z",
          "shell.execute_reply": "2023-11-17T03:20:59.349206Z"
        },
        "trusted": true,
        "id": "jIHMKZSm8K3w",
        "outputId": "ce44a8b9-b5f1-434d-f9d6-cd9e62aa12a8"
      },
      "execution_count": null,
      "outputs": [
        {
          "execution_count": 221,
          "output_type": "execute_result",
          "data": {
            "text/plain": "<_TensorSliceDataset element_spec=TensorSpec(shape=(), dtype=tf.float64, name=None)>"
          },
          "metadata": {}
        }
      ]
    },
    {
      "cell_type": "code",
      "source": [],
      "metadata": {
        "id": "eOnOeUzb8K3w"
      },
      "execution_count": null,
      "outputs": []
    },
    {
      "cell_type": "code",
      "source": [
        "for elem in list(test_ds.as_numpy_iterator()):\n",
        "    print(elem.shape)\n",
        "    #break"
      ],
      "metadata": {
        "execution": {
          "iopub.status.busy": "2023-11-17T03:16:59.295987Z",
          "iopub.execute_input": "2023-11-17T03:16:59.296404Z",
          "iopub.status.idle": "2023-11-17T03:16:59.306814Z",
          "shell.execute_reply.started": "2023-11-17T03:16:59.296371Z",
          "shell.execute_reply": "2023-11-17T03:16:59.305521Z"
        },
        "trusted": true,
        "id": "-xHiSCuo8K3w",
        "outputId": "ef0d4837-da88-4e42-f70b-14893e41c57b"
      },
      "execution_count": null,
      "outputs": [
        {
          "name": "stdout",
          "text": "(54, 12)\n",
          "output_type": "stream"
        }
      ]
    },
    {
      "cell_type": "code",
      "source": [
        "test_ds= test_ds.window(12, shift=12)\n",
        "test_ds = test_ds.flat_map(lambda window_ds: window_ds.batch(12))"
      ],
      "metadata": {
        "execution": {
          "iopub.status.busy": "2023-11-17T03:21:25.854997Z",
          "iopub.execute_input": "2023-11-17T03:21:25.855400Z",
          "iopub.status.idle": "2023-11-17T03:21:25.876036Z",
          "shell.execute_reply.started": "2023-11-17T03:21:25.855368Z",
          "shell.execute_reply": "2023-11-17T03:21:25.874921Z"
        },
        "trusted": true,
        "id": "Z5wfzkyO8K3w"
      },
      "execution_count": null,
      "outputs": []
    },
    {
      "cell_type": "code",
      "source": [
        "cnt = 0\n",
        "for window_ds in test_ds:\n",
        "    print(tf.expand_dims(window_ds[np.newaxis, ...], axis=0).shape)\n",
        "    cnt += 1\n",
        "print(cnt)"
      ],
      "metadata": {
        "execution": {
          "iopub.status.busy": "2023-11-17T03:24:40.323782Z",
          "iopub.execute_input": "2023-11-17T03:24:40.324193Z",
          "iopub.status.idle": "2023-11-17T03:24:40.380671Z",
          "shell.execute_reply.started": "2023-11-17T03:24:40.324137Z",
          "shell.execute_reply": "2023-11-17T03:24:40.379353Z"
        },
        "trusted": true,
        "id": "1wKhn3ey8K3w",
        "outputId": "e5ad8052-4cd3-4137-cecb-adfdb18c795a"
      },
      "execution_count": null,
      "outputs": [
        {
          "name": "stdout",
          "text": "(1, 1, 12)\n(1, 1, 12)\n(1, 1, 12)\n(1, 1, 12)\n(1, 1, 12)\n(1, 1, 12)\n(1, 1, 12)\n(1, 1, 12)\n(1, 1, 12)\n(1, 1, 12)\n(1, 1, 12)\n(1, 1, 12)\n(1, 1, 12)\n(1, 1, 12)\n(1, 1, 12)\n(1, 1, 12)\n(1, 1, 12)\n(1, 1, 12)\n(1, 1, 12)\n(1, 1, 12)\n(1, 1, 12)\n(1, 1, 12)\n(1, 1, 12)\n(1, 1, 12)\n(1, 1, 12)\n(1, 1, 12)\n(1, 1, 12)\n(1, 1, 12)\n(1, 1, 12)\n(1, 1, 12)\n(1, 1, 12)\n(1, 1, 12)\n(1, 1, 12)\n(1, 1, 12)\n(1, 1, 12)\n(1, 1, 12)\n(1, 1, 12)\n(1, 1, 12)\n(1, 1, 12)\n(1, 1, 12)\n(1, 1, 12)\n(1, 1, 12)\n(1, 1, 12)\n(1, 1, 12)\n(1, 1, 12)\n(1, 1, 12)\n(1, 1, 12)\n(1, 1, 12)\n(1, 1, 12)\n(1, 1, 12)\n(1, 1, 12)\n(1, 1, 12)\n(1, 1, 12)\n(1, 1, 12)\n54\n",
          "output_type": "stream"
        }
      ]
    },
    {
      "cell_type": "code",
      "source": [
        "cnt = 0\n",
        "for etensor in test_ds:\n",
        "    print(type(etensor))\n",
        "    for elem in etensor:\n",
        "        print(elem.shape)\n",
        "        cnt += 1\n",
        "    if cnt > 5:\n",
        "        break\n",
        "print(cnt)"
      ],
      "metadata": {
        "execution": {
          "iopub.status.busy": "2023-11-17T03:14:25.482921Z",
          "iopub.execute_input": "2023-11-17T03:14:25.483306Z",
          "iopub.status.idle": "2023-11-17T03:14:25.511538Z",
          "shell.execute_reply.started": "2023-11-17T03:14:25.483276Z",
          "shell.execute_reply": "2023-11-17T03:14:25.510418Z"
        },
        "trusted": true,
        "id": "-XlAMoOB8K3w",
        "outputId": "5043e92b-c9d7-4588-eac2-bc4e933cc5d0"
      },
      "execution_count": null,
      "outputs": [
        {
          "name": "stdout",
          "text": "<class 'tensorflow.python.framework.ops.EagerTensor'>\n(1,)\n(1,)\n(1,)\n(1,)\n(1,)\n(1,)\n(1,)\n(1,)\n(1,)\n(1,)\n(1,)\n(1,)\n12\n",
          "output_type": "stream"
        }
      ]
    },
    {
      "cell_type": "code",
      "source": [
        "test_ds"
      ],
      "metadata": {
        "execution": {
          "iopub.status.busy": "2023-11-17T03:03:38.057862Z",
          "iopub.execute_input": "2023-11-17T03:03:38.058536Z",
          "iopub.status.idle": "2023-11-17T03:03:38.066808Z",
          "shell.execute_reply.started": "2023-11-17T03:03:38.058489Z",
          "shell.execute_reply": "2023-11-17T03:03:38.065232Z"
        },
        "trusted": true,
        "id": "es5MVtdh8K3w",
        "outputId": "5ea61187-9468-4101-b98e-ec292d0110d9"
      },
      "execution_count": null,
      "outputs": [
        {
          "execution_count": 167,
          "output_type": "execute_result",
          "data": {
            "text/plain": "<_WindowDataset element_spec=DatasetSpec(TensorSpec(shape=(12,), dtype=tf.float64, name=None), TensorShape([]))>"
          },
          "metadata": {}
        }
      ]
    },
    {
      "cell_type": "code",
      "source": [
        "cnt = 0\n",
        "for elem in test_ds.batch(1):\n",
        "#     print(elem.shape)\n",
        "    cnt += 1\n",
        "#     if cnt > 5:\n",
        "#         break\n",
        "print(cnt)"
      ],
      "metadata": {
        "execution": {
          "iopub.status.busy": "2023-11-17T03:03:50.085679Z",
          "iopub.execute_input": "2023-11-17T03:03:50.086075Z",
          "iopub.status.idle": "2023-11-17T03:03:50.103875Z",
          "shell.execute_reply.started": "2023-11-17T03:03:50.086042Z",
          "shell.execute_reply": "2023-11-17T03:03:50.102291Z"
        },
        "trusted": true,
        "id": "NBMu6mtR8K3w",
        "outputId": "9a1ebabb-9089-4023-ed8a-2209e6ec04ef"
      },
      "execution_count": null,
      "outputs": [
        {
          "name": "stdout",
          "text": "5\n",
          "output_type": "stream"
        }
      ]
    },
    {
      "cell_type": "code",
      "source": [
        "tf.data.Dataset.from_tensor_slices(tf.constant(np.array([[1,2,3],[4,5,6]]), shape=(2,3)))"
      ],
      "metadata": {
        "execution": {
          "iopub.status.busy": "2023-11-17T02:21:51.966042Z",
          "iopub.execute_input": "2023-11-17T02:21:51.966474Z",
          "iopub.status.idle": "2023-11-17T02:21:51.975488Z",
          "shell.execute_reply.started": "2023-11-17T02:21:51.966438Z",
          "shell.execute_reply": "2023-11-17T02:21:51.974509Z"
        },
        "trusted": true,
        "id": "xX__dPup8K3x",
        "outputId": "094cee5e-cde6-4057-89ec-9bdd59965097"
      },
      "execution_count": null,
      "outputs": [
        {
          "execution_count": 73,
          "output_type": "execute_result",
          "data": {
            "text/plain": "<_TensorSliceDataset element_spec=TensorSpec(shape=(3,), dtype=tf.int64, name=None)>"
          },
          "metadata": {}
        }
      ]
    },
    {
      "cell_type": "code",
      "source": [],
      "metadata": {
        "id": "ohUfEcrP8K3x"
      },
      "execution_count": null,
      "outputs": []
    },
    {
      "cell_type": "code",
      "source": [],
      "metadata": {
        "id": "tR6dZUxK8K3x"
      },
      "execution_count": null,
      "outputs": []
    },
    {
      "cell_type": "code",
      "source": [],
      "metadata": {
        "id": "OzoKGOTt8K3x"
      },
      "execution_count": null,
      "outputs": []
    },
    {
      "cell_type": "code",
      "source": [
        "len(all_preds)"
      ],
      "metadata": {
        "execution": {
          "iopub.status.busy": "2023-11-16T22:59:26.156491Z",
          "iopub.execute_input": "2023-11-16T22:59:26.157521Z",
          "iopub.status.idle": "2023-11-16T22:59:26.164966Z",
          "shell.execute_reply.started": "2023-11-16T22:59:26.157474Z",
          "shell.execute_reply": "2023-11-16T22:59:26.163290Z"
        },
        "trusted": true,
        "id": "_VUGAEAa8K3x",
        "outputId": "8c999dcd-77fc-4036-ddce-c91694da6108"
      },
      "execution_count": null,
      "outputs": [
        {
          "execution_count": 103,
          "output_type": "execute_result",
          "data": {
            "text/plain": "54"
          },
          "metadata": {}
        }
      ]
    },
    {
      "cell_type": "code",
      "source": [
        "all_preds[0]"
      ],
      "metadata": {
        "execution": {
          "iopub.status.busy": "2023-11-16T22:59:49.870164Z",
          "iopub.execute_input": "2023-11-16T22:59:49.870502Z",
          "iopub.status.idle": "2023-11-16T22:59:49.879289Z",
          "shell.execute_reply.started": "2023-11-16T22:59:49.870473Z",
          "shell.execute_reply": "2023-11-16T22:59:49.877838Z"
        },
        "trusted": true,
        "id": "wjWBicYA8K3x",
        "outputId": "f97787ae-b41b-462e-fab2-52593818a599"
      },
      "execution_count": null,
      "outputs": [
        {
          "execution_count": 105,
          "output_type": "execute_result",
          "data": {
            "text/plain": "array([6.95])"
          },
          "metadata": {}
        }
      ]
    },
    {
      "cell_type": "code",
      "source": [
        "len(all_predictions)"
      ],
      "metadata": {
        "execution": {
          "iopub.status.busy": "2023-11-16T19:40:18.288891Z",
          "iopub.execute_input": "2023-11-16T19:40:18.289282Z",
          "iopub.status.idle": "2023-11-16T19:40:18.295232Z",
          "shell.execute_reply.started": "2023-11-16T19:40:18.289252Z",
          "shell.execute_reply": "2023-11-16T19:40:18.294294Z"
        },
        "trusted": true,
        "id": "9zTtVtwS8K3x",
        "outputId": "575303dc-81ae-4096-c3ac-f07ae85ed881"
      },
      "execution_count": null,
      "outputs": [
        {
          "execution_count": 120,
          "output_type": "execute_result",
          "data": {
            "text/plain": "50"
          },
          "metadata": {}
        }
      ]
    },
    {
      "cell_type": "code",
      "source": [
        "all_predictions[0]"
      ],
      "metadata": {
        "execution": {
          "iopub.status.busy": "2023-11-16T19:40:52.334948Z",
          "iopub.execute_input": "2023-11-16T19:40:52.335374Z",
          "iopub.status.idle": "2023-11-16T19:40:52.341284Z",
          "shell.execute_reply.started": "2023-11-16T19:40:52.335344Z",
          "shell.execute_reply": "2023-11-16T19:40:52.340320Z"
        },
        "trusted": true,
        "id": "JEZCOrin8K3x",
        "outputId": "17b6fa9d-4d93-42f2-8e28-242f1e3ecf99"
      },
      "execution_count": null,
      "outputs": [
        {
          "execution_count": 123,
          "output_type": "execute_result",
          "data": {
            "text/plain": "7.832714576383209"
          },
          "metadata": {}
        }
      ]
    },
    {
      "cell_type": "code",
      "source": [
        "len(Ytest_all)"
      ],
      "metadata": {
        "execution": {
          "iopub.status.busy": "2023-11-16T19:40:31.801820Z",
          "iopub.execute_input": "2023-11-16T19:40:31.802157Z",
          "iopub.status.idle": "2023-11-16T19:40:31.807659Z",
          "shell.execute_reply.started": "2023-11-16T19:40:31.802130Z",
          "shell.execute_reply": "2023-11-16T19:40:31.806891Z"
        },
        "trusted": true,
        "id": "gpzjr_TQ8K3x",
        "outputId": "d9cae905-4984-440b-f6f4-7d20f3852e93"
      },
      "execution_count": null,
      "outputs": [
        {
          "execution_count": 122,
          "output_type": "execute_result",
          "data": {
            "text/plain": "2750"
          },
          "metadata": {}
        }
      ]
    },
    {
      "cell_type": "code",
      "source": [],
      "metadata": {
        "id": "roVuPnUD8K3x"
      },
      "execution_count": null,
      "outputs": []
    },
    {
      "cell_type": "code",
      "source": [
        "# if not is_google_colab():\n",
        "import optiver2023\n",
        "env = optiver2023.make_env()\n",
        "iter_test = env.iter_test()"
      ],
      "metadata": {
        "id": "125e7ca2",
        "execution": {
          "iopub.status.busy": "2023-11-16T16:42:18.791813Z",
          "iopub.status.idle": "2023-11-16T16:42:18.792321Z",
          "shell.execute_reply.started": "2023-11-16T16:42:18.792086Z",
          "shell.execute_reply": "2023-11-16T16:42:18.792107Z"
        },
        "trusted": true
      },
      "execution_count": null,
      "outputs": []
    },
    {
      "cell_type": "code",
      "source": [
        "from sklearn.metrics import mean_absolute_error\n",
        "import pandas as pd\n",
        "\n",
        "if is_google_colab():\n",
        "\n",
        "    # Lists to store true and predicted targets\n",
        "    true_targets = []\n",
        "    predicted_targets = []\n",
        "\n",
        "    for (test, revealed_targets, sample_prediction) in iter_test:\n",
        "        # Predict target values\n",
        "        # print(f\"test.shape: {test.shape}\")\n",
        "        # print(f\"test.columns: {test.columns}\")\n",
        "        # display(test)\n",
        "\n",
        "        xtest_init_vals = get_initial_future_vals(test, diff_order)\n",
        "        test_df_pp = preprocess_dataset(test, diff_order)\n",
        "        preds = model.predict(test_df_pp.values[np.newaxis,...])\n",
        "        predictions = pp_predictions(xtest_init_vals, preds.ravel(), diff_order)\n",
        "\n",
        "#         test_dataset = get_tf_dataset(test)\n",
        "#         predictions = model.predict(test_dataset)\n",
        "        # print(f\"predictions.shape:{predictions.shape}\")\n",
        "\n",
        "        # Only take as many predictions and true targets as the minimum of the two\n",
        "        min_len = min(len(predictions), len(revealed_targets))\n",
        "\n",
        "        # Trim down the predictions list so that it is the same size as the revealed targets\n",
        "        current_predictions = predictions[:min_len]\n",
        "        current_true_targets = revealed_targets['revealed_target'].values[:min_len]\n",
        "\n",
        "        # Extend the lists of true targets and predictions with the ones from the current batch\n",
        "        true_targets.extend(current_true_targets)\n",
        "        predicted_targets.extend(current_predictions)\n",
        "\n",
        "        # Make the actual prediction and add to sample_prediction df\n",
        "        sample_prediction['target'] = predictions\n",
        "\n",
        "        # Submit the predictions for this chunk of test data\n",
        "        env.predict(sample_prediction)\n",
        "\n",
        "    # Convert lists to dataframes\n",
        "    df_true = pd.DataFrame(true_targets, columns=['true_target'])\n",
        "    df_pred = pd.DataFrame(predicted_targets, columns=['predicted_target'])\n",
        "\n",
        "    # Calculate and print the MAE\n",
        "    mae = mean_absolute_error(df_true.fillna(0), df_pred)\n",
        "    print(\"Mean Absolute Error:\", mae)\n",
        "    # Mean Absolute Error: 5.709755347938988 - 10/26/2023"
      ],
      "metadata": {
        "id": "sQp63Jd7wwiG",
        "execution": {
          "iopub.status.busy": "2023-11-16T16:42:18.794173Z",
          "iopub.status.idle": "2023-11-16T16:42:18.795274Z",
          "shell.execute_reply.started": "2023-11-16T16:42:18.795008Z",
          "shell.execute_reply": "2023-11-16T16:42:18.795045Z"
        },
        "trusted": true
      },
      "execution_count": null,
      "outputs": []
    },
    {
      "cell_type": "code",
      "source": [
        "\n"
      ],
      "metadata": {
        "id": "VYeWPWIWnyCL"
      },
      "execution_count": null,
      "outputs": []
    },
    {
      "cell_type": "code",
      "source": [
        "if not is_google_colab():\n",
        "    counter = 0\n",
        "    for (test, revealed_targets, sample_prediction) in iter_test:\n",
        "        # Predict target values\n",
        "        xtest_init_vals = get_initial_future_vals(test, diff_order)\n",
        "        test_df_pp = preprocess_dataset(test, diff_order)\n",
        "        preds = model.predict(test_df_pp.values[np.newaxis,...])\n",
        "        predictions = pp_predictions(xtest_init_vals, preds.ravel(), diff_order)\n",
        "\n",
        "#         test_dataset = get_tf_dataset(test)\n",
        "#         predictions = model.predict(test_dataset)\n",
        "        print(f\"predictions.shape:{predictions.shape}\")\n",
        "        print(revealed_targets.head())\n",
        "        sample_prediction['target'] = predictions\n",
        "        env.predict(sample_prediction)\n",
        "        counter += 1"
      ],
      "metadata": {
        "id": "pURnwU3zaY-Y",
        "execution": {
          "iopub.status.busy": "2023-11-16T16:42:18.797246Z",
          "iopub.status.idle": "2023-11-16T16:42:18.797791Z",
          "shell.execute_reply.started": "2023-11-16T16:42:18.797530Z",
          "shell.execute_reply": "2023-11-16T16:42:18.797552Z"
        },
        "trusted": true
      },
      "execution_count": null,
      "outputs": []
    },
    {
      "cell_type": "code",
      "source": [],
      "metadata": {
        "id": "eL8phJcdA11U"
      },
      "execution_count": null,
      "outputs": []
    },
    {
      "cell_type": "code",
      "source": [
        "tmr.ShowTime()    # measure Colab's runtime."
      ],
      "metadata": {
        "id": "ffa967ef",
        "execution": {
          "iopub.status.busy": "2023-11-16T16:42:18.799443Z",
          "iopub.status.idle": "2023-11-16T16:42:18.800155Z",
          "shell.execute_reply.started": "2023-11-16T16:42:18.799915Z",
          "shell.execute_reply": "2023-11-16T16:42:18.799937Z"
        },
        "trusted": true
      },
      "execution_count": null,
      "outputs": []
    },
    {
      "cell_type": "code",
      "source": [],
      "metadata": {
        "id": "WNQ2ghiUmScO"
      },
      "execution_count": null,
      "outputs": []
    }
  ]
}