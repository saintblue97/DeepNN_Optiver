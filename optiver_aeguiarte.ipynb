{
  "nbformat": 4,
  "nbformat_minor": 0,
  "metadata": {
    "colab": {
      "provenance": [],
      "authorship_tag": "ABX9TyNEgdQqCQyrJ4BMmwnMu4LK",
      "include_colab_link": true
    },
    "kernelspec": {
      "name": "python3",
      "display_name": "Python 3"
    },
    "language_info": {
      "name": "python"
    }
  },
  "cells": [
    {
      "cell_type": "markdown",
      "metadata": {
        "id": "view-in-github",
        "colab_type": "text"
      },
      "source": [
        "<a href=\"https://colab.research.google.com/github/saintblue97/DeepNN_Optiver/blob/main/optiver_aeguiarte.ipynb\" target=\"_parent\"><img src=\"https://colab.research.google.com/assets/colab-badge.svg\" alt=\"Open In Colab\"/></a>"
      ]
    },
    {
      "cell_type": "code",
      "execution_count": 2,
      "metadata": {
        "id": "Td5Ui1e-9xzi"
      },
      "outputs": [],
      "source": [
        "import lightgbm as lgb\n",
        "import xgboost as xgb\n",
        "\n",
        "import numpy as np\n",
        "import joblib\n",
        "import os"
      ]
    },
    {
      "cell_type": "code",
      "source": [],
      "metadata": {
        "id": "E4abc6snFs_e"
      },
      "execution_count": null,
      "outputs": []
    }
  ]
}